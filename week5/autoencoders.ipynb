{
 "cells": [
  {
   "cell_type": "code",
   "execution_count": null,
   "id": "98648a19-3207-4917-87f1-538d54e39e92",
   "metadata": {},
   "outputs": [],
   "source": [
    "#\n",
    "# Feature Reduction in h2o (autoencoders)\n",
    "#"
   ]
  },
  {
   "cell_type": "code",
   "execution_count": 68,
   "id": "alone-sleeve",
   "metadata": {},
   "outputs": [],
   "source": [
    "import h2o\n",
    "import h2o.grid\n",
    "from h2o.estimators.deeplearning import H2OAutoEncoderEstimator\n",
    "import matplotlib.pyplot as plt\n",
    "%matplotlib inline"
   ]
  },
  {
   "cell_type": "code",
   "execution_count": 69,
   "id": "governmental-reservoir",
   "metadata": {
    "tags": []
   },
   "outputs": [
    {
     "name": "stdout",
     "output_type": "stream",
     "text": [
      "Checking whether there is an H2O instance running at http://localhost:54321 ..... not found.\n",
      "Attempting to start a local H2O server...\n",
      "  Java Version: openjdk version \"11.0.11\" 2021-04-20; OpenJDK Runtime Environment (build 11.0.11+9-Ubuntu-0ubuntu2.20.04); OpenJDK 64-Bit Server VM (build 11.0.11+9-Ubuntu-0ubuntu2.20.04, mixed mode, sharing)\n",
      "  Starting server from /home/gerd/Documents/Python/venvs/h2o/lib/python3.8/site-packages/h2o/backend/bin/h2o.jar\n",
      "  Ice root: /tmp/tmp55udao2j\n",
      "  JVM stdout: /tmp/tmp55udao2j/h2o_gerd_started_from_python.out\n",
      "  JVM stderr: /tmp/tmp55udao2j/h2o_gerd_started_from_python.err\n",
      "  Server is running at http://127.0.0.1:54321\n",
      "Connecting to H2O server at http://127.0.0.1:54321 ... successful.\n"
     ]
    },
    {
     "data": {
      "text/html": [
       "<div style=\"overflow:auto\"><table style=\"width:50%\"><tr><td>H2O_cluster_uptime:</td>\n",
       "<td>01 secs</td></tr>\n",
       "<tr><td>H2O_cluster_timezone:</td>\n",
       "<td>Europe/Vienna</td></tr>\n",
       "<tr><td>H2O_data_parsing_timezone:</td>\n",
       "<td>UTC</td></tr>\n",
       "<tr><td>H2O_cluster_version:</td>\n",
       "<td>3.32.1.2</td></tr>\n",
       "<tr><td>H2O_cluster_version_age:</td>\n",
       "<td>2 months and 3 days </td></tr>\n",
       "<tr><td>H2O_cluster_name:</td>\n",
       "<td>H2O_from_python_gerd_szenkd</td></tr>\n",
       "<tr><td>H2O_cluster_total_nodes:</td>\n",
       "<td>1</td></tr>\n",
       "<tr><td>H2O_cluster_free_memory:</td>\n",
       "<td>2.867 Gb</td></tr>\n",
       "<tr><td>H2O_cluster_total_cores:</td>\n",
       "<td>8</td></tr>\n",
       "<tr><td>H2O_cluster_allowed_cores:</td>\n",
       "<td>8</td></tr>\n",
       "<tr><td>H2O_cluster_status:</td>\n",
       "<td>accepting new members, healthy</td></tr>\n",
       "<tr><td>H2O_connection_url:</td>\n",
       "<td>http://127.0.0.1:54321</td></tr>\n",
       "<tr><td>H2O_connection_proxy:</td>\n",
       "<td>{\"http\": null, \"https\": null}</td></tr>\n",
       "<tr><td>H2O_internal_security:</td>\n",
       "<td>False</td></tr>\n",
       "<tr><td>H2O_API_Extensions:</td>\n",
       "<td>Amazon S3, XGBoost, Algos, AutoML, Core V3, TargetEncoder, Core V4</td></tr>\n",
       "<tr><td>Python_version:</td>\n",
       "<td>3.8.10 final</td></tr></table></div>"
      ],
      "text/plain": [
       "--------------------------  ------------------------------------------------------------------\n",
       "H2O_cluster_uptime:         01 secs\n",
       "H2O_cluster_timezone:       Europe/Vienna\n",
       "H2O_data_parsing_timezone:  UTC\n",
       "H2O_cluster_version:        3.32.1.2\n",
       "H2O_cluster_version_age:    2 months and 3 days\n",
       "H2O_cluster_name:           H2O_from_python_gerd_szenkd\n",
       "H2O_cluster_total_nodes:    1\n",
       "H2O_cluster_free_memory:    2.867 Gb\n",
       "H2O_cluster_total_cores:    8\n",
       "H2O_cluster_allowed_cores:  8\n",
       "H2O_cluster_status:         accepting new members, healthy\n",
       "H2O_connection_url:         http://127.0.0.1:54321\n",
       "H2O_connection_proxy:       {\"http\": null, \"https\": null}\n",
       "H2O_internal_security:      False\n",
       "H2O_API_Extensions:         Amazon S3, XGBoost, Algos, AutoML, Core V3, TargetEncoder, Core V4\n",
       "Python_version:             3.8.10 final\n",
       "--------------------------  ------------------------------------------------------------------"
      ]
     },
     "metadata": {},
     "output_type": "display_data"
    }
   ],
   "source": [
    "h2o.init()"
   ]
  },
  {
   "cell_type": "code",
   "execution_count": 70,
   "id": "spread-continuity",
   "metadata": {},
   "outputs": [
    {
     "name": "stdout",
     "output_type": "stream",
     "text": [
      "Parse progress: |█████████████████████████████████████████████████████████| 100%\n"
     ]
    }
   ],
   "source": [
    "url = 'http://h2o-public-test-data.s3.amazonaws.com/smalldata/iris/iris_wheader.csv'\n",
    "iris = h2o.import_file(url)"
   ]
  },
  {
   "cell_type": "code",
   "execution_count": 71,
   "id": "assigned-ecology",
   "metadata": {},
   "outputs": [],
   "source": [
    "train, test = iris.split_frame([0.8], seed=69)"
   ]
  },
  {
   "cell_type": "code",
   "execution_count": 6,
   "id": "behavioral-queensland",
   "metadata": {},
   "outputs": [],
   "source": [
    "X = test.columns\n",
    "X.remove(\"class\")"
   ]
  },
  {
   "cell_type": "code",
   "execution_count": 7,
   "id": "adaptive-citizen",
   "metadata": {},
   "outputs": [
    {
     "name": "stdout",
     "output_type": "stream",
     "text": [
      "deeplearning Model Build progress: |██████████████████████████████████████| 100%\n",
      "CPU times: user 159 ms, sys: 13.1 ms, total: 172 ms\n",
      "Wall time: 2.36 s\n"
     ]
    }
   ],
   "source": [
    "#\n",
    "# dataset has 4 input nodes\n",
    "#\n",
    "model_autoencoder = H2OAutoEncoderEstimator( hidden=[4], activation='Tanh', epochs=300, model_id='autoencoder',\n",
    "                                            # generally leave the following as default, unless for investigating\n",
    "                                            train_samples_per_iteration=train.nrow, score_interval=0, score_duty_cycle=1.0)\n",
    "\n",
    "#\n",
    "# for autoencoders, use None for the target argument\n",
    "#\n",
    "%time model_autoencoder.train(X, None, train)"
   ]
  },
  {
   "cell_type": "code",
   "execution_count": 15,
   "id": "related-transmission",
   "metadata": {},
   "outputs": [
    {
     "data": {
      "text/html": [
       "<div>\n",
       "<style scoped>\n",
       "    .dataframe tbody tr th:only-of-type {\n",
       "        vertical-align: middle;\n",
       "    }\n",
       "\n",
       "    .dataframe tbody tr th {\n",
       "        vertical-align: top;\n",
       "    }\n",
       "\n",
       "    .dataframe thead th {\n",
       "        text-align: right;\n",
       "    }\n",
       "</style>\n",
       "<table border=\"1\" class=\"dataframe\">\n",
       "  <thead>\n",
       "    <tr style=\"text-align: right;\">\n",
       "      <th></th>\n",
       "      <th></th>\n",
       "      <th>timestamp</th>\n",
       "      <th>duration</th>\n",
       "      <th>training_speed</th>\n",
       "      <th>epochs</th>\n",
       "      <th>iterations</th>\n",
       "      <th>samples</th>\n",
       "      <th>training_rmse</th>\n",
       "      <th>training_mse</th>\n",
       "    </tr>\n",
       "  </thead>\n",
       "  <tbody>\n",
       "    <tr>\n",
       "      <th>0</th>\n",
       "      <td></td>\n",
       "      <td>2021-07-03 10:10:00</td>\n",
       "      <td>0.184 sec</td>\n",
       "      <td>0.00000 obs/sec</td>\n",
       "      <td>0.0</td>\n",
       "      <td>0</td>\n",
       "      <td>0.0</td>\n",
       "      <td>0.439850</td>\n",
       "      <td>0.193468</td>\n",
       "    </tr>\n",
       "    <tr>\n",
       "      <th>1</th>\n",
       "      <td></td>\n",
       "      <td>2021-07-03 10:10:00</td>\n",
       "      <td>0.219 sec</td>\n",
       "      <td>3696 obs/sec</td>\n",
       "      <td>1.0</td>\n",
       "      <td>1</td>\n",
       "      <td>122.0</td>\n",
       "      <td>0.356224</td>\n",
       "      <td>0.126896</td>\n",
       "    </tr>\n",
       "    <tr>\n",
       "      <th>2</th>\n",
       "      <td></td>\n",
       "      <td>2021-07-03 10:10:00</td>\n",
       "      <td>0.228 sec</td>\n",
       "      <td>6256 obs/sec</td>\n",
       "      <td>2.0</td>\n",
       "      <td>2</td>\n",
       "      <td>244.0</td>\n",
       "      <td>0.308014</td>\n",
       "      <td>0.094873</td>\n",
       "    </tr>\n",
       "    <tr>\n",
       "      <th>3</th>\n",
       "      <td></td>\n",
       "      <td>2021-07-03 10:10:00</td>\n",
       "      <td>0.237 sec</td>\n",
       "      <td>8133 obs/sec</td>\n",
       "      <td>3.0</td>\n",
       "      <td>3</td>\n",
       "      <td>366.0</td>\n",
       "      <td>0.275565</td>\n",
       "      <td>0.075936</td>\n",
       "    </tr>\n",
       "    <tr>\n",
       "      <th>4</th>\n",
       "      <td></td>\n",
       "      <td>2021-07-03 10:10:00</td>\n",
       "      <td>0.245 sec</td>\n",
       "      <td>9760 obs/sec</td>\n",
       "      <td>4.0</td>\n",
       "      <td>4</td>\n",
       "      <td>488.0</td>\n",
       "      <td>0.231687</td>\n",
       "      <td>0.053679</td>\n",
       "    </tr>\n",
       "    <tr>\n",
       "      <th>...</th>\n",
       "      <td>...</td>\n",
       "      <td>...</td>\n",
       "      <td>...</td>\n",
       "      <td>...</td>\n",
       "      <td>...</td>\n",
       "      <td>...</td>\n",
       "      <td>...</td>\n",
       "      <td>...</td>\n",
       "      <td>...</td>\n",
       "    </tr>\n",
       "    <tr>\n",
       "      <th>296</th>\n",
       "      <td></td>\n",
       "      <td>2021-07-03 10:10:02</td>\n",
       "      <td>2.082 sec</td>\n",
       "      <td>23328 obs/sec</td>\n",
       "      <td>296.0</td>\n",
       "      <td>296</td>\n",
       "      <td>36112.0</td>\n",
       "      <td>0.008617</td>\n",
       "      <td>0.000074</td>\n",
       "    </tr>\n",
       "    <tr>\n",
       "      <th>297</th>\n",
       "      <td></td>\n",
       "      <td>2021-07-03 10:10:02</td>\n",
       "      <td>2.088 sec</td>\n",
       "      <td>23331 obs/sec</td>\n",
       "      <td>297.0</td>\n",
       "      <td>297</td>\n",
       "      <td>36234.0</td>\n",
       "      <td>0.008029</td>\n",
       "      <td>0.000064</td>\n",
       "    </tr>\n",
       "    <tr>\n",
       "      <th>298</th>\n",
       "      <td></td>\n",
       "      <td>2021-07-03 10:10:02</td>\n",
       "      <td>2.096 sec</td>\n",
       "      <td>23305 obs/sec</td>\n",
       "      <td>298.0</td>\n",
       "      <td>298</td>\n",
       "      <td>36356.0</td>\n",
       "      <td>0.008161</td>\n",
       "      <td>0.000067</td>\n",
       "    </tr>\n",
       "    <tr>\n",
       "      <th>299</th>\n",
       "      <td></td>\n",
       "      <td>2021-07-03 10:10:02</td>\n",
       "      <td>2.102 sec</td>\n",
       "      <td>23308 obs/sec</td>\n",
       "      <td>299.0</td>\n",
       "      <td>299</td>\n",
       "      <td>36478.0</td>\n",
       "      <td>0.008074</td>\n",
       "      <td>0.000065</td>\n",
       "    </tr>\n",
       "    <tr>\n",
       "      <th>300</th>\n",
       "      <td></td>\n",
       "      <td>2021-07-03 10:10:02</td>\n",
       "      <td>2.110 sec</td>\n",
       "      <td>23267 obs/sec</td>\n",
       "      <td>300.0</td>\n",
       "      <td>300</td>\n",
       "      <td>36600.0</td>\n",
       "      <td>0.010450</td>\n",
       "      <td>0.000109</td>\n",
       "    </tr>\n",
       "  </tbody>\n",
       "</table>\n",
       "<p>301 rows × 9 columns</p>\n",
       "</div>"
      ],
      "text/plain": [
       "                  timestamp    duration   training_speed  epochs  iterations  \\\n",
       "0       2021-07-03 10:10:00   0.184 sec  0.00000 obs/sec     0.0           0   \n",
       "1       2021-07-03 10:10:00   0.219 sec     3696 obs/sec     1.0           1   \n",
       "2       2021-07-03 10:10:00   0.228 sec     6256 obs/sec     2.0           2   \n",
       "3       2021-07-03 10:10:00   0.237 sec     8133 obs/sec     3.0           3   \n",
       "4       2021-07-03 10:10:00   0.245 sec     9760 obs/sec     4.0           4   \n",
       "..  ..                  ...         ...              ...     ...         ...   \n",
       "296     2021-07-03 10:10:02   2.082 sec    23328 obs/sec   296.0         296   \n",
       "297     2021-07-03 10:10:02   2.088 sec    23331 obs/sec   297.0         297   \n",
       "298     2021-07-03 10:10:02   2.096 sec    23305 obs/sec   298.0         298   \n",
       "299     2021-07-03 10:10:02   2.102 sec    23308 obs/sec   299.0         299   \n",
       "300     2021-07-03 10:10:02   2.110 sec    23267 obs/sec   300.0         300   \n",
       "\n",
       "     samples  training_rmse  training_mse  \n",
       "0        0.0       0.439850      0.193468  \n",
       "1      122.0       0.356224      0.126896  \n",
       "2      244.0       0.308014      0.094873  \n",
       "3      366.0       0.275565      0.075936  \n",
       "4      488.0       0.231687      0.053679  \n",
       "..       ...            ...           ...  \n",
       "296  36112.0       0.008617      0.000074  \n",
       "297  36234.0       0.008029      0.000064  \n",
       "298  36356.0       0.008161      0.000067  \n",
       "299  36478.0       0.008074      0.000065  \n",
       "300  36600.0       0.010450      0.000109  \n",
       "\n",
       "[301 rows x 9 columns]"
      ]
     },
     "execution_count": 15,
     "metadata": {},
     "output_type": "execute_result"
    }
   ],
   "source": [
    "#\n",
    "# rmse and mse represent reconstruction error for autoencoders i.e. how similar the 4 output nodes are to the 4 input nodes in this case \n",
    "#\n",
    "\n",
    "model_autoencoder.scoring_history()"
   ]
  },
  {
   "cell_type": "code",
   "execution_count": 21,
   "id": "d7536870-37e2-4d2a-8e9d-0bbf78c8cb21",
   "metadata": {},
   "outputs": [
    {
     "data": {
      "text/plain": [
       "<AxesSubplot:>"
      ]
     },
     "execution_count": 21,
     "metadata": {},
     "output_type": "execute_result"
    },
    {
     "data": {
      "image/png": "[encoded data removed]",
      "text/plain": [
       "<Figure size 432x288 with 1 Axes>"
      ]
     },
     "metadata": {
      "needs_background": "light"
     },
     "output_type": "display_data"
    }
   ],
   "source": [
    "score_history = model_autoencoder.scoring_history()\n",
    "score_history['training_mse'].plot()"
   ]
  },
  {
   "cell_type": "code",
   "execution_count": 33,
   "id": "3c21c37e-f0b1-4935-a872-69048c103b59",
   "metadata": {},
   "outputs": [
    {
     "data": {
      "text/plain": [
       "<AxesSubplot:>"
      ]
     },
     "execution_count": 33,
     "metadata": {},
     "output_type": "execute_result"
    },
    {
     "data": {
      "image/png": "[encoded data removed]",
      "text/plain": [
       "<Figure size 432x288 with 1 Axes>"
      ]
     },
     "metadata": {
      "needs_background": "light"
     },
     "output_type": "display_data"
    }
   ],
   "source": [
    "# only pick last n samples of scoring_history data\n",
    "score_history['training_mse'].tail(50).plot()"
   ]
  },
  {
   "cell_type": "code",
   "execution_count": 48,
   "id": "21a2a6e5-438e-4947-833c-1451d37c9a3b",
   "metadata": {},
   "outputs": [
    {
     "name": "stdout",
     "output_type": "stream",
     "text": [
      "deeplearning Model Build progress: |██████████████████████████████████████| 100%\n",
      "CPU times: user 50.1 ms, sys: 10 ms, total: 60.1 ms\n",
      "Wall time: 1.06 s\n"
     ]
    }
   ],
   "source": [
    "# trying to reduce number of input features from 4 (originally) to only 2\n",
    "model_autoencoder = H2OAutoEncoderEstimator( hidden=[2], activation='Tanh', epochs=300, model_id='autoencoder',\n",
    "                                            # generally leave the following as default, unless for investigating\n",
    "                                            train_samples_per_iteration=train.nrow, score_interval=0, score_duty_cycle=1.0, stopping_rounds=15)\n",
    "\n",
    "%time model_autoencoder.train(X, None, train)"
   ]
  },
  {
   "cell_type": "code",
   "execution_count": 47,
   "id": "a89ec22a-a25a-48b9-b8db-beab1f8b392c",
   "metadata": {},
   "outputs": [
    {
     "data": {
      "text/plain": [
       "<AxesSubplot:>"
      ]
     },
     "execution_count": 47,
     "metadata": {},
     "output_type": "execute_result"
    },
    {
     "data": {
      "image/png": "[encoded data removed]",
      "text/plain": [
       "<Figure size 432x288 with 1 Axes>"
      ]
     },
     "metadata": {
      "needs_background": "light"
     },
     "output_type": "display_data"
    }
   ],
   "source": [
    "score_history = model_autoencoder.scoring_history()\n",
    "score_history['training_mse'].tail(50).plot()"
   ]
  },
  {
   "cell_type": "code",
   "execution_count": 49,
   "id": "b696d547-a611-4fc2-a200-69c676be7825",
   "metadata": {},
   "outputs": [
    {
     "name": "stdout",
     "output_type": "stream",
     "text": [
      "deeplearning Model Build progress: |██████████████████████████████████████| 100%\n",
      "CPU times: user 58.4 ms, sys: 12.5 ms, total: 70.8 ms\n",
      "Wall time: 1.08 s\n"
     ]
    }
   ],
   "source": [
    "# multi layer autoencoding\n",
    "model_autoencoder_multi = H2OAutoEncoderEstimator( hidden=[5, 3, 5], activation='Tanh', epochs=300, model_id='autoencoder_multi',\n",
    "                                            # generally leave the following as default, unless for investigating\n",
    "                                            train_samples_per_iteration=train.nrow, score_interval=0, score_duty_cycle=1.0, stopping_rounds=15)\n",
    "\n",
    "%time model_autoencoder.train(X, None, train)"
   ]
  },
  {
   "cell_type": "code",
   "execution_count": 52,
   "id": "e05822ce-83b3-4e4e-af35-79ead8dcacb3",
   "metadata": {},
   "outputs": [
    {
     "data": {
      "text/plain": [
       "<AxesSubplot:>"
      ]
     },
     "execution_count": 52,
     "metadata": {},
     "output_type": "execute_result"
    },
    {
     "data": {
      "image/png": "[encoded data removed]",
      "text/plain": [
       "<Figure size 432x288 with 1 Axes>"
      ]
     },
     "metadata": {
      "needs_background": "light"
     },
     "output_type": "display_data"
    }
   ],
   "source": [
    "score_history_multi = model_autoencoder_multi\n",
    "score_history['training_mse'].tail(50).plot()"
   ]
  },
  {
   "cell_type": "code",
   "execution_count": 80,
   "id": "9a556632-c803-40f3-a58c-e58915c2461d",
   "metadata": {},
   "outputs": [
    {
     "name": "stdout",
     "output_type": "stream",
     "text": [
      "deeplearning Model Build progress: |██████████████████████████████████████| 100%\n",
      "CPU times: user 85 ms, sys: 12.2 ms, total: 97.2 ms\n",
      "Wall time: 1.3 s\n"
     ]
    }
   ],
   "source": [
    "# finding anomalies in data\n",
    "\n",
    "# use all columns here\n",
    "X = test.columns\n",
    "\n",
    "# choose more hidden layers here, since were not trying to reduce dimensions\n",
    "model_autoencoder_anomalies = H2OAutoEncoderEstimator( hidden=[15], activation='Tanh', epochs=300, model_id='anomaly',\n",
    "                                            train_samples_per_iteration=train.nrow, score_interval=0, score_duty_cycle=1.0, stopping_rounds=15)\n",
    "\n",
    "# use full dataset, not just training data\n",
    "%time model_autoencoder.train(X, None, iris)"
   ]
  },
  {
   "cell_type": "code",
   "execution_count": 81,
   "id": "2b40e02b-7312-477f-8b88-b37c14970512",
   "metadata": {},
   "outputs": [],
   "source": [
    "model_autoencoder_anomalies = h2o.get_model('autoencoder')"
   ]
  },
  {
   "cell_type": "code",
   "execution_count": 82,
   "id": "e1da1ba6-e5ac-42ac-a770-41625869353c",
   "metadata": {},
   "outputs": [],
   "source": [
    "# return single column h2o frame that contains reconstruction error (anomaly function), \n",
    "# bind in original data columns \n",
    "# and save as pd dataframe\n",
    "anomalies = model_autoencoder_anomalies.anomaly(iris).cbind(iris).as_data_frame()"
   ]
  },
  {
   "cell_type": "code",
   "execution_count": 83,
   "id": "228e3f3d-2db9-4a88-bb69-fd7c183a8a73",
   "metadata": {},
   "outputs": [],
   "source": [
    "sorted_anomalies = anomalies.sort_values(\"Reconstruction.MSE\", ascending=False)"
   ]
  },
  {
   "cell_type": "code",
   "execution_count": 84,
   "id": "d1e19a8c-34ff-498d-9a76-12972cb2d3b7",
   "metadata": {},
   "outputs": [
    {
     "data": {
      "text/html": [
       "<div>\n",
       "<style scoped>\n",
       "    .dataframe tbody tr th:only-of-type {\n",
       "        vertical-align: middle;\n",
       "    }\n",
       "\n",
       "    .dataframe tbody tr th {\n",
       "        vertical-align: top;\n",
       "    }\n",
       "\n",
       "    .dataframe thead th {\n",
       "        text-align: right;\n",
       "    }\n",
       "</style>\n",
       "<table border=\"1\" class=\"dataframe\">\n",
       "  <thead>\n",
       "    <tr style=\"text-align: right;\">\n",
       "      <th></th>\n",
       "      <th>Reconstruction.MSE</th>\n",
       "      <th>sepal_len</th>\n",
       "      <th>sepal_wid</th>\n",
       "      <th>petal_len</th>\n",
       "      <th>petal_wid</th>\n",
       "      <th>class</th>\n",
       "    </tr>\n",
       "  </thead>\n",
       "  <tbody>\n",
       "    <tr>\n",
       "      <th>106</th>\n",
       "      <td>0.039230</td>\n",
       "      <td>4.9</td>\n",
       "      <td>2.5</td>\n",
       "      <td>4.5</td>\n",
       "      <td>1.7</td>\n",
       "      <td>Iris-virginica</td>\n",
       "    </tr>\n",
       "    <tr>\n",
       "      <th>131</th>\n",
       "      <td>0.032232</td>\n",
       "      <td>7.9</td>\n",
       "      <td>3.8</td>\n",
       "      <td>6.4</td>\n",
       "      <td>2.0</td>\n",
       "      <td>Iris-virginica</td>\n",
       "    </tr>\n",
       "    <tr>\n",
       "      <th>117</th>\n",
       "      <td>0.030097</td>\n",
       "      <td>7.7</td>\n",
       "      <td>3.8</td>\n",
       "      <td>6.7</td>\n",
       "      <td>2.2</td>\n",
       "      <td>Iris-virginica</td>\n",
       "    </tr>\n",
       "    <tr>\n",
       "      <th>41</th>\n",
       "      <td>0.028320</td>\n",
       "      <td>4.5</td>\n",
       "      <td>2.3</td>\n",
       "      <td>1.3</td>\n",
       "      <td>0.3</td>\n",
       "      <td>Iris-setosa</td>\n",
       "    </tr>\n",
       "    <tr>\n",
       "      <th>15</th>\n",
       "      <td>0.027405</td>\n",
       "      <td>5.7</td>\n",
       "      <td>4.4</td>\n",
       "      <td>1.5</td>\n",
       "      <td>0.4</td>\n",
       "      <td>Iris-setosa</td>\n",
       "    </tr>\n",
       "  </tbody>\n",
       "</table>\n",
       "</div>"
      ],
      "text/plain": [
       "     Reconstruction.MSE  sepal_len  sepal_wid  petal_len  petal_wid  \\\n",
       "106            0.039230        4.9        2.5        4.5        1.7   \n",
       "131            0.032232        7.9        3.8        6.4        2.0   \n",
       "117            0.030097        7.7        3.8        6.7        2.2   \n",
       "41             0.028320        4.5        2.3        1.3        0.3   \n",
       "15             0.027405        5.7        4.4        1.5        0.4   \n",
       "\n",
       "              class  \n",
       "106  Iris-virginica  \n",
       "131  Iris-virginica  \n",
       "117  Iris-virginica  \n",
       "41      Iris-setosa  \n",
       "15      Iris-setosa  "
      ]
     },
     "execution_count": 84,
     "metadata": {},
     "output_type": "execute_result"
    }
   ],
   "source": [
    "# most anomalous columns\n",
    "# these should be investigated in more details usually\n",
    "sorted_anomalies.head()"
   ]
  },
  {
   "cell_type": "code",
   "execution_count": 85,
   "id": "8ddd8646-12a1-471a-ac60-ef3b3bcdfe3f",
   "metadata": {},
   "outputs": [
    {
     "data": {
      "text/html": [
       "<div>\n",
       "<style scoped>\n",
       "    .dataframe tbody tr th:only-of-type {\n",
       "        vertical-align: middle;\n",
       "    }\n",
       "\n",
       "    .dataframe tbody tr th {\n",
       "        vertical-align: top;\n",
       "    }\n",
       "\n",
       "    .dataframe thead th {\n",
       "        text-align: right;\n",
       "    }\n",
       "</style>\n",
       "<table border=\"1\" class=\"dataframe\">\n",
       "  <thead>\n",
       "    <tr style=\"text-align: right;\">\n",
       "      <th></th>\n",
       "      <th>Reconstruction.MSE</th>\n",
       "      <th>sepal_len</th>\n",
       "      <th>sepal_wid</th>\n",
       "      <th>petal_len</th>\n",
       "      <th>petal_wid</th>\n",
       "      <th>class</th>\n",
       "    </tr>\n",
       "  </thead>\n",
       "  <tbody>\n",
       "    <tr>\n",
       "      <th>11</th>\n",
       "      <td>0.000436</td>\n",
       "      <td>4.8</td>\n",
       "      <td>3.4</td>\n",
       "      <td>1.6</td>\n",
       "      <td>0.2</td>\n",
       "      <td>Iris-setosa</td>\n",
       "    </tr>\n",
       "    <tr>\n",
       "      <th>40</th>\n",
       "      <td>0.000409</td>\n",
       "      <td>5.0</td>\n",
       "      <td>3.5</td>\n",
       "      <td>1.3</td>\n",
       "      <td>0.3</td>\n",
       "      <td>Iris-setosa</td>\n",
       "    </tr>\n",
       "    <tr>\n",
       "      <th>49</th>\n",
       "      <td>0.000284</td>\n",
       "      <td>5.0</td>\n",
       "      <td>3.3</td>\n",
       "      <td>1.4</td>\n",
       "      <td>0.2</td>\n",
       "      <td>Iris-setosa</td>\n",
       "    </tr>\n",
       "    <tr>\n",
       "      <th>39</th>\n",
       "      <td>0.000207</td>\n",
       "      <td>5.1</td>\n",
       "      <td>3.4</td>\n",
       "      <td>1.5</td>\n",
       "      <td>0.2</td>\n",
       "      <td>Iris-setosa</td>\n",
       "    </tr>\n",
       "    <tr>\n",
       "      <th>7</th>\n",
       "      <td>0.000074</td>\n",
       "      <td>5.0</td>\n",
       "      <td>3.4</td>\n",
       "      <td>1.5</td>\n",
       "      <td>0.2</td>\n",
       "      <td>Iris-setosa</td>\n",
       "    </tr>\n",
       "  </tbody>\n",
       "</table>\n",
       "</div>"
      ],
      "text/plain": [
       "    Reconstruction.MSE  sepal_len  sepal_wid  petal_len  petal_wid  \\\n",
       "11            0.000436        4.8        3.4        1.6        0.2   \n",
       "40            0.000409        5.0        3.5        1.3        0.3   \n",
       "49            0.000284        5.0        3.3        1.4        0.2   \n",
       "39            0.000207        5.1        3.4        1.5        0.2   \n",
       "7             0.000074        5.0        3.4        1.5        0.2   \n",
       "\n",
       "          class  \n",
       "11  Iris-setosa  \n",
       "40  Iris-setosa  \n",
       "49  Iris-setosa  \n",
       "39  Iris-setosa  \n",
       "7   Iris-setosa  "
      ]
     },
     "execution_count": 85,
     "metadata": {},
     "output_type": "execute_result"
    }
   ],
   "source": [
    "# least anomalous columns\n",
    "sorted_anomalies.tail()"
   ]
  },
  {
   "cell_type": "code",
   "execution_count": null,
   "id": "03b794e4-7d9e-48ad-b133-17efa8ee1880",
   "metadata": {},
   "outputs": [],
   "source": []
  },
  {
   "cell_type": "code",
   "execution_count": null,
   "id": "6092ccd5-1c3f-4f7b-ab67-d704bc6012a1",
   "metadata": {},
   "outputs": [],
   "source": []
  },
  {
   "cell_type": "code",
   "execution_count": null,
   "id": "7cd4e851-4abc-444e-a34a-b14d2a4c2922",
   "metadata": {},
   "outputs": [],
   "source": []
  },
  {
   "cell_type": "code",
   "execution_count": 67,
   "id": "adjustable-chester",
   "metadata": {},
   "outputs": [
    {
     "name": "stdout",
     "output_type": "stream",
     "text": [
      "H2O session _sid_88d9 closed.\n"
     ]
    }
   ],
   "source": [
    "h2o.cluster().shutdown()"
   ]
  },
  {
   "cell_type": "code",
   "execution_count": null,
   "id": "extended-newton",
   "metadata": {},
   "outputs": [],
   "source": []
  }
 ],
 "metadata": {
  "kernelspec": {
   "display_name": "Python 3",
   "language": "python",
   "name": "python3"
  },
  "language_info": {
   "codemirror_mode": {
    "name": "ipython",
    "version": 3
   },
   "file_extension": ".py",
   "mimetype": "text/x-python",
   "name": "python",
   "nbconvert_exporter": "python",
   "pygments_lexer": "ipython3",
   "version": "3.8.10"
  }
 },
 "nbformat": 4,
 "nbformat_minor": 5
}
