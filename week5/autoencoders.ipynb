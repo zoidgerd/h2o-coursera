{
 "cells": [
  {
   "cell_type": "code",
   "execution_count": 15,
   "id": "alone-sleeve",
   "metadata": {},
   "outputs": [],
   "source": [
    "import h2o\n",
    "import h2o.grid\n",
    "from h2o.estimators.deeplearning import H2OAutoEncoderEstimator\n",
    "import matplotlib.pyplot as plt\n",
    "%matplotlib inline"
   ]
  },
  {
   "cell_type": "code",
   "execution_count": 3,
   "id": "governmental-reservoir",
   "metadata": {
    "collapsed": true,
    "jupyter": {
     "outputs_hidden": true
    },
    "tags": []
   },
   "outputs": [
    {
     "name": "stdout",
     "output_type": "stream",
     "text": [
      "Checking whether there is an H2O instance running at http://localhost:54321 ..... not found.\n",
      "Attempting to start a local H2O server...\n",
      "; Java HotSpot(TM) 64-Bit Server VM 18.9 (build 11.0.11+9-LTS-194, mixed mode)\n",
      "  Starting server from C:\\Users\\Gerd\\venvs\\h2o\\Lib\\site-packages\\h2o\\backend\\bin\\h2o.jar\n",
      "  Ice root: C:\\Users\\Gerd\\AppData\\Local\\Temp\\tmpl6_gxpau\n",
      "  JVM stdout: C:\\Users\\Gerd\\AppData\\Local\\Temp\\tmpl6_gxpau\\h2o_Gerd_started_from_python.out\n",
      "  JVM stderr: C:\\Users\\Gerd\\AppData\\Local\\Temp\\tmpl6_gxpau\\h2o_Gerd_started_from_python.err\n",
      "  Server is running at http://127.0.0.1:54321\n",
      "Connecting to H2O server at http://127.0.0.1:54321 ... successful.\n"
     ]
    },
    {
     "data": {
      "text/html": [
       "<div style=\"overflow:auto\"><table style=\"width:50%\"><tr><td>H2O_cluster_uptime:</td>\n",
       "<td>01 secs</td></tr>\n",
       "<tr><td>H2O_cluster_timezone:</td>\n",
       "<td>Europe/Berlin</td></tr>\n",
       "<tr><td>H2O_data_parsing_timezone:</td>\n",
       "<td>UTC</td></tr>\n",
       "<tr><td>H2O_cluster_version:</td>\n",
       "<td>3.32.1.1</td></tr>\n",
       "<tr><td>H2O_cluster_version_age:</td>\n",
       "<td>3 months and 3 days </td></tr>\n",
       "<tr><td>H2O_cluster_name:</td>\n",
       "<td>H2O_from_python_Gerd_d6k8sy</td></tr>\n",
       "<tr><td>H2O_cluster_total_nodes:</td>\n",
       "<td>1</td></tr>\n",
       "<tr><td>H2O_cluster_free_memory:</td>\n",
       "<td>3.975 Gb</td></tr>\n",
       "<tr><td>H2O_cluster_total_cores:</td>\n",
       "<td>16</td></tr>\n",
       "<tr><td>H2O_cluster_allowed_cores:</td>\n",
       "<td>16</td></tr>\n",
       "<tr><td>H2O_cluster_status:</td>\n",
       "<td>accepting new members, healthy</td></tr>\n",
       "<tr><td>H2O_connection_url:</td>\n",
       "<td>http://127.0.0.1:54321</td></tr>\n",
       "<tr><td>H2O_connection_proxy:</td>\n",
       "<td>{\"http\": null, \"https\": null}</td></tr>\n",
       "<tr><td>H2O_internal_security:</td>\n",
       "<td>False</td></tr>\n",
       "<tr><td>H2O_API_Extensions:</td>\n",
       "<td>Amazon S3, Algos, AutoML, Core V3, TargetEncoder, Core V4</td></tr>\n",
       "<tr><td>Python_version:</td>\n",
       "<td>3.9.0 final</td></tr></table></div>"
      ],
      "text/plain": [
       "--------------------------  ---------------------------------------------------------\n",
       "H2O_cluster_uptime:         01 secs\n",
       "H2O_cluster_timezone:       Europe/Berlin\n",
       "H2O_data_parsing_timezone:  UTC\n",
       "H2O_cluster_version:        3.32.1.1\n",
       "H2O_cluster_version_age:    3 months and 3 days\n",
       "H2O_cluster_name:           H2O_from_python_Gerd_d6k8sy\n",
       "H2O_cluster_total_nodes:    1\n",
       "H2O_cluster_free_memory:    3.975 Gb\n",
       "H2O_cluster_total_cores:    16\n",
       "H2O_cluster_allowed_cores:  16\n",
       "H2O_cluster_status:         accepting new members, healthy\n",
       "H2O_connection_url:         http://127.0.0.1:54321\n",
       "H2O_connection_proxy:       {\"http\": null, \"https\": null}\n",
       "H2O_internal_security:      False\n",
       "H2O_API_Extensions:         Amazon S3, Algos, AutoML, Core V3, TargetEncoder, Core V4\n",
       "Python_version:             3.9.0 final\n",
       "--------------------------  ---------------------------------------------------------"
      ]
     },
     "metadata": {},
     "output_type": "display_data"
    }
   ],
   "source": [
    "h2o.init()"
   ]
  },
  {
   "cell_type": "code",
   "execution_count": 4,
   "id": "spread-continuity",
   "metadata": {},
   "outputs": [
    {
     "name": "stdout",
     "output_type": "stream",
     "text": [
      "Parse progress: |█████████████████████████████████████████████████████████| 100%\n"
     ]
    }
   ],
   "source": [
    "url = 'http://h2o-public-test-data.s3.amazonaws.com/smalldata/iris/iris_wheader.csv'\n",
    "iris = h2o.import_file(url)"
   ]
  },
  {
   "cell_type": "code",
   "execution_count": 5,
   "id": "assigned-ecology",
   "metadata": {},
   "outputs": [],
   "source": [
    "train, test = iris.split_frame([0.8], seed=69)"
   ]
  },
  {
   "cell_type": "code",
   "execution_count": 13,
   "id": "behavioral-queensland",
   "metadata": {},
   "outputs": [],
   "source": [
    "X = test.columns\n",
    "X.remove(\"class\")"
   ]
  },
  {
   "cell_type": "code",
   "execution_count": 17,
   "id": "adaptive-citizen",
   "metadata": {},
   "outputs": [
    {
     "name": "stdout",
     "output_type": "stream",
     "text": [
      "deeplearning Model Build progress: |██████████████████████████████████████| 100%\n",
      "Wall time: 1.69 s\n"
     ]
    }
   ],
   "source": [
    "#\n",
    "# dataset has 4 input nodes\n",
    "#\n",
    "model_autoencoder = H2OAutoEncoderEstimator( hidden=[4], activation='Tanh', epochs=300, model_id='autoencoder',\n",
    "                                            train_samples_per_iteration=train.nrow, score_interval=0, score_duty_cycle=1.0)\n",
    "\n",
    "#\n",
    "# for autoencoders, use None for the target argument\n",
    "#\n",
    "%time model_autoencoder.train(X, None, train)"
   ]
  },
  {
   "cell_type": "code",
   "execution_count": 18,
   "id": "related-transmission",
   "metadata": {},
   "outputs": [
    {
     "data": {
      "text/html": [
       "<div>\n",
       "<style scoped>\n",
       "    .dataframe tbody tr th:only-of-type {\n",
       "        vertical-align: middle;\n",
       "    }\n",
       "\n",
       "    .dataframe tbody tr th {\n",
       "        vertical-align: top;\n",
       "    }\n",
       "\n",
       "    .dataframe thead th {\n",
       "        text-align: right;\n",
       "    }\n",
       "</style>\n",
       "<table border=\"1\" class=\"dataframe\">\n",
       "  <thead>\n",
       "    <tr style=\"text-align: right;\">\n",
       "      <th></th>\n",
       "      <th></th>\n",
       "      <th>timestamp</th>\n",
       "      <th>duration</th>\n",
       "      <th>training_speed</th>\n",
       "      <th>epochs</th>\n",
       "      <th>iterations</th>\n",
       "      <th>samples</th>\n",
       "      <th>training_rmse</th>\n",
       "      <th>training_mse</th>\n",
       "    </tr>\n",
       "  </thead>\n",
       "  <tbody>\n",
       "    <tr>\n",
       "      <th>0</th>\n",
       "      <td></td>\n",
       "      <td>2021-06-28 21:34:35</td>\n",
       "      <td>0.089 sec</td>\n",
       "      <td>0,00000 obs/sec</td>\n",
       "      <td>0.0</td>\n",
       "      <td>0</td>\n",
       "      <td>0.0</td>\n",
       "      <td>0.311757</td>\n",
       "      <td>0.097192</td>\n",
       "    </tr>\n",
       "    <tr>\n",
       "      <th>1</th>\n",
       "      <td></td>\n",
       "      <td>2021-06-28 21:34:35</td>\n",
       "      <td>0.114 sec</td>\n",
       "      <td>4880 obs/sec</td>\n",
       "      <td>1.0</td>\n",
       "      <td>1</td>\n",
       "      <td>122.0</td>\n",
       "      <td>0.223314</td>\n",
       "      <td>0.049869</td>\n",
       "    </tr>\n",
       "    <tr>\n",
       "      <th>2</th>\n",
       "      <td></td>\n",
       "      <td>2021-06-28 21:34:35</td>\n",
       "      <td>0.120 sec</td>\n",
       "      <td>8133 obs/sec</td>\n",
       "      <td>2.0</td>\n",
       "      <td>2</td>\n",
       "      <td>244.0</td>\n",
       "      <td>0.186007</td>\n",
       "      <td>0.034599</td>\n",
       "    </tr>\n",
       "    <tr>\n",
       "      <th>3</th>\n",
       "      <td></td>\n",
       "      <td>2021-06-28 21:34:35</td>\n",
       "      <td>0.126 sec</td>\n",
       "      <td>10764 obs/sec</td>\n",
       "      <td>3.0</td>\n",
       "      <td>3</td>\n",
       "      <td>366.0</td>\n",
       "      <td>0.161461</td>\n",
       "      <td>0.026070</td>\n",
       "    </tr>\n",
       "    <tr>\n",
       "      <th>4</th>\n",
       "      <td></td>\n",
       "      <td>2021-06-28 21:34:35</td>\n",
       "      <td>0.133 sec</td>\n",
       "      <td>12512 obs/sec</td>\n",
       "      <td>4.0</td>\n",
       "      <td>4</td>\n",
       "      <td>488.0</td>\n",
       "      <td>0.142100</td>\n",
       "      <td>0.020192</td>\n",
       "    </tr>\n",
       "    <tr>\n",
       "      <th>...</th>\n",
       "      <td>...</td>\n",
       "      <td>...</td>\n",
       "      <td>...</td>\n",
       "      <td>...</td>\n",
       "      <td>...</td>\n",
       "      <td>...</td>\n",
       "      <td>...</td>\n",
       "      <td>...</td>\n",
       "      <td>...</td>\n",
       "    </tr>\n",
       "    <tr>\n",
       "      <th>296</th>\n",
       "      <td></td>\n",
       "      <td>2021-06-28 21:34:36</td>\n",
       "      <td>1.342 sec</td>\n",
       "      <td>34689 obs/sec</td>\n",
       "      <td>296.0</td>\n",
       "      <td>296</td>\n",
       "      <td>36112.0</td>\n",
       "      <td>0.015771</td>\n",
       "      <td>0.000249</td>\n",
       "    </tr>\n",
       "    <tr>\n",
       "      <th>297</th>\n",
       "      <td></td>\n",
       "      <td>2021-06-28 21:34:36</td>\n",
       "      <td>1.345 sec</td>\n",
       "      <td>34740 obs/sec</td>\n",
       "      <td>297.0</td>\n",
       "      <td>297</td>\n",
       "      <td>36234.0</td>\n",
       "      <td>0.013511</td>\n",
       "      <td>0.000183</td>\n",
       "    </tr>\n",
       "    <tr>\n",
       "      <th>298</th>\n",
       "      <td></td>\n",
       "      <td>2021-06-28 21:34:36</td>\n",
       "      <td>1.348 sec</td>\n",
       "      <td>34790 obs/sec</td>\n",
       "      <td>298.0</td>\n",
       "      <td>298</td>\n",
       "      <td>36356.0</td>\n",
       "      <td>0.030780</td>\n",
       "      <td>0.000947</td>\n",
       "    </tr>\n",
       "    <tr>\n",
       "      <th>299</th>\n",
       "      <td></td>\n",
       "      <td>2021-06-28 21:34:36</td>\n",
       "      <td>1.350 sec</td>\n",
       "      <td>34840 obs/sec</td>\n",
       "      <td>299.0</td>\n",
       "      <td>299</td>\n",
       "      <td>36478.0</td>\n",
       "      <td>0.010576</td>\n",
       "      <td>0.000112</td>\n",
       "    </tr>\n",
       "    <tr>\n",
       "      <th>300</th>\n",
       "      <td></td>\n",
       "      <td>2021-06-28 21:34:36</td>\n",
       "      <td>1.353 sec</td>\n",
       "      <td>34857 obs/sec</td>\n",
       "      <td>300.0</td>\n",
       "      <td>300</td>\n",
       "      <td>36600.0</td>\n",
       "      <td>0.015957</td>\n",
       "      <td>0.000255</td>\n",
       "    </tr>\n",
       "  </tbody>\n",
       "</table>\n",
       "<p>301 rows × 9 columns</p>\n",
       "</div>"
      ],
      "text/plain": [
       "                  timestamp    duration   training_speed  epochs  iterations  \\\n",
       "0       2021-06-28 21:34:35   0.089 sec  0,00000 obs/sec     0.0           0   \n",
       "1       2021-06-28 21:34:35   0.114 sec     4880 obs/sec     1.0           1   \n",
       "2       2021-06-28 21:34:35   0.120 sec     8133 obs/sec     2.0           2   \n",
       "3       2021-06-28 21:34:35   0.126 sec    10764 obs/sec     3.0           3   \n",
       "4       2021-06-28 21:34:35   0.133 sec    12512 obs/sec     4.0           4   \n",
       "..  ..                  ...         ...              ...     ...         ...   \n",
       "296     2021-06-28 21:34:36   1.342 sec    34689 obs/sec   296.0         296   \n",
       "297     2021-06-28 21:34:36   1.345 sec    34740 obs/sec   297.0         297   \n",
       "298     2021-06-28 21:34:36   1.348 sec    34790 obs/sec   298.0         298   \n",
       "299     2021-06-28 21:34:36   1.350 sec    34840 obs/sec   299.0         299   \n",
       "300     2021-06-28 21:34:36   1.353 sec    34857 obs/sec   300.0         300   \n",
       "\n",
       "     samples  training_rmse  training_mse  \n",
       "0        0.0       0.311757      0.097192  \n",
       "1      122.0       0.223314      0.049869  \n",
       "2      244.0       0.186007      0.034599  \n",
       "3      366.0       0.161461      0.026070  \n",
       "4      488.0       0.142100      0.020192  \n",
       "..       ...            ...           ...  \n",
       "296  36112.0       0.015771      0.000249  \n",
       "297  36234.0       0.013511      0.000183  \n",
       "298  36356.0       0.030780      0.000947  \n",
       "299  36478.0       0.010576      0.000112  \n",
       "300  36600.0       0.015957      0.000255  \n",
       "\n",
       "[301 rows x 9 columns]"
      ]
     },
     "execution_count": 18,
     "metadata": {},
     "output_type": "execute_result"
    }
   ],
   "source": [
    "#\n",
    "# rmse and mse represent reconstruction error for autoencoders i.e. how similar the 4 output nodes are to the 4 input nodes in this case \n",
    "#\n",
    "\n",
    "model_autoencoder.score_history()"
   ]
  },
  {
   "cell_type": "code",
   "execution_count": 19,
   "id": "adjustable-chester",
   "metadata": {},
   "outputs": [
    {
     "name": "stdout",
     "output_type": "stream",
     "text": [
      "H2O session _sid_900d closed.\n"
     ]
    }
   ],
   "source": [
    "h2o.cluster().shutdown()"
   ]
  },
  {
   "cell_type": "code",
   "execution_count": null,
   "id": "extended-newton",
   "metadata": {},
   "outputs": [],
   "source": []
  }
 ],
 "metadata": {
  "kernelspec": {
   "display_name": "Python 3",
   "language": "python",
   "name": "python3"
  },
  "language_info": {
   "codemirror_mode": {
    "name": "ipython",
    "version": 3
   },
   "file_extension": ".py",
   "mimetype": "text/x-python",
   "name": "python",
   "nbconvert_exporter": "python",
   "pygments_lexer": "ipython3",
   "version": "3.9.0"
  }
 },
 "nbformat": 4,
 "nbformat_minor": 5
}
