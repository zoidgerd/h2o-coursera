{
 "cells": [
  {
   "cell_type": "markdown",
   "id": "27cfc90f-7d85-412d-892d-fe5537fc677c",
   "metadata": {},
   "source": [
    "**k means clustering**\n",
    "<h5>https://docs.h2o.ai/h2o/latest-stable/h2o-docs/data-science/k-means.html?highlight=means</h5>"
   ]
  },
  {
   "cell_type": "code",
   "execution_count": 15,
   "id": "afdbf638-97bb-476c-b032-a3828d891c63",
   "metadata": {
    "collapsed": true,
    "jupyter": {
     "outputs_hidden": true
    },
    "tags": []
   },
   "outputs": [
    {
     "name": "stdout",
     "output_type": "stream",
     "text": [
      "Checking whether there is an H2O instance running at http://localhost:54321 . connected.\n"
     ]
    },
    {
     "data": {
      "text/html": [
       "<div style=\"overflow:auto\"><table style=\"width:50%\"><tr><td>H2O_cluster_uptime:</td>\n",
       "<td>53 mins 52 secs</td></tr>\n",
       "<tr><td>H2O_cluster_timezone:</td>\n",
       "<td>Europe/Vienna</td></tr>\n",
       "<tr><td>H2O_data_parsing_timezone:</td>\n",
       "<td>UTC</td></tr>\n",
       "<tr><td>H2O_cluster_version:</td>\n",
       "<td>3.32.1.2</td></tr>\n",
       "<tr><td>H2O_cluster_version_age:</td>\n",
       "<td>2 months and 18 days </td></tr>\n",
       "<tr><td>H2O_cluster_name:</td>\n",
       "<td>H2O_from_python_gerd_qol108</td></tr>\n",
       "<tr><td>H2O_cluster_total_nodes:</td>\n",
       "<td>1</td></tr>\n",
       "<tr><td>H2O_cluster_free_memory:</td>\n",
       "<td>2.867 Gb</td></tr>\n",
       "<tr><td>H2O_cluster_total_cores:</td>\n",
       "<td>8</td></tr>\n",
       "<tr><td>H2O_cluster_allowed_cores:</td>\n",
       "<td>8</td></tr>\n",
       "<tr><td>H2O_cluster_status:</td>\n",
       "<td>locked, healthy</td></tr>\n",
       "<tr><td>H2O_connection_url:</td>\n",
       "<td>http://localhost:54321</td></tr>\n",
       "<tr><td>H2O_connection_proxy:</td>\n",
       "<td>{\"http\": null, \"https\": null}</td></tr>\n",
       "<tr><td>H2O_internal_security:</td>\n",
       "<td>False</td></tr>\n",
       "<tr><td>H2O_API_Extensions:</td>\n",
       "<td>Amazon S3, XGBoost, Algos, AutoML, Core V3, TargetEncoder, Core V4</td></tr>\n",
       "<tr><td>Python_version:</td>\n",
       "<td>3.8.10 final</td></tr></table></div>"
      ],
      "text/plain": [
       "--------------------------  ------------------------------------------------------------------\n",
       "H2O_cluster_uptime:         53 mins 52 secs\n",
       "H2O_cluster_timezone:       Europe/Vienna\n",
       "H2O_data_parsing_timezone:  UTC\n",
       "H2O_cluster_version:        3.32.1.2\n",
       "H2O_cluster_version_age:    2 months and 18 days\n",
       "H2O_cluster_name:           H2O_from_python_gerd_qol108\n",
       "H2O_cluster_total_nodes:    1\n",
       "H2O_cluster_free_memory:    2.867 Gb\n",
       "H2O_cluster_total_cores:    8\n",
       "H2O_cluster_allowed_cores:  8\n",
       "H2O_cluster_status:         locked, healthy\n",
       "H2O_connection_url:         http://localhost:54321\n",
       "H2O_connection_proxy:       {\"http\": null, \"https\": null}\n",
       "H2O_internal_security:      False\n",
       "H2O_API_Extensions:         Amazon S3, XGBoost, Algos, AutoML, Core V3, TargetEncoder, Core V4\n",
       "Python_version:             3.8.10 final\n",
       "--------------------------  ------------------------------------------------------------------"
      ]
     },
     "metadata": {},
     "output_type": "display_data"
    }
   ],
   "source": [
    "import h2o\n",
    "from h2o.estimators.kmeans import H2OKMeansEstimator\n",
    "import matplotlib.pyplot as plt\n",
    "h2o.init()"
   ]
  },
  {
   "cell_type": "code",
   "execution_count": 6,
   "id": "36b1baa8-14d4-425a-a53b-3dddd5fd97a2",
   "metadata": {},
   "outputs": [
    {
     "name": "stdout",
     "output_type": "stream",
     "text": [
      "Parse progress: |█████████████████████████████████████████████████████████| 100%\n"
     ]
    }
   ],
   "source": [
    "url = 'http://h2o-public-test-data.s3.amazonaws.com/smalldata/iris/iris_wheader.csv'\n",
    "iris = h2o.import_file(url)\n",
    "train, test = iris.split_frame([0.8], seed=69)\n",
    "\n",
    "features = iris.columns\n",
    "features.remove('class')"
   ]
  },
  {
   "cell_type": "code",
   "execution_count": 16,
   "id": "9cb8ff0e-56ed-426b-a712-6c4453a6f775",
   "metadata": {},
   "outputs": [
    {
     "data": {
      "text/plain": [
       "['sepal_len', 'sepal_wid', 'petal_len', 'petal_wid', 'class']"
      ]
     },
     "execution_count": 16,
     "metadata": {},
     "output_type": "execute_result"
    }
   ],
   "source": [
    "iris.columns"
   ]
  },
  {
   "cell_type": "code",
   "execution_count": 7,
   "id": "2c581dcd-f7ef-4538-b3e9-642b4c0c6ad2",
   "metadata": {},
   "outputs": [
    {
     "name": "stdout",
     "output_type": "stream",
     "text": [
      "kmeans Model Build progress: |████████████████████████████████████████████| 100%\n"
     ]
    }
   ],
   "source": [
    "km = H2OKMeansEstimator(k=3)\n",
    "km.train(x=train.columns, training_frame=train)"
   ]
  },
  {
   "cell_type": "code",
   "execution_count": 9,
   "id": "aee1c5b9-5df1-4450-8371-bc446f3fb578",
   "metadata": {},
   "outputs": [
    {
     "name": "stdout",
     "output_type": "stream",
     "text": [
      "Model Details\n",
      "=============\n",
      "H2OKMeansEstimator :  K-means\n",
      "Model Key:  KMeans_model_python_1626605085146_2\n",
      "\n",
      "\n",
      "Model Summary: \n"
     ]
    },
    {
     "data": {
      "text/html": [
       "<div>\n",
       "<style scoped>\n",
       "    .dataframe tbody tr th:only-of-type {\n",
       "        vertical-align: middle;\n",
       "    }\n",
       "\n",
       "    .dataframe tbody tr th {\n",
       "        vertical-align: top;\n",
       "    }\n",
       "\n",
       "    .dataframe thead th {\n",
       "        text-align: right;\n",
       "    }\n",
       "</style>\n",
       "<table border=\"1\" class=\"dataframe\">\n",
       "  <thead>\n",
       "    <tr style=\"text-align: right;\">\n",
       "      <th></th>\n",
       "      <th></th>\n",
       "      <th>number_of_rows</th>\n",
       "      <th>number_of_clusters</th>\n",
       "      <th>number_of_categorical_columns</th>\n",
       "      <th>number_of_iterations</th>\n",
       "      <th>within_cluster_sum_of_squares</th>\n",
       "      <th>total_sum_of_squares</th>\n",
       "      <th>between_cluster_sum_of_squares</th>\n",
       "    </tr>\n",
       "  </thead>\n",
       "  <tbody>\n",
       "    <tr>\n",
       "      <th>0</th>\n",
       "      <td></td>\n",
       "      <td>122.0</td>\n",
       "      <td>3.0</td>\n",
       "      <td>1.0</td>\n",
       "      <td>10.0</td>\n",
       "      <td>130.973562</td>\n",
       "      <td>565.0</td>\n",
       "      <td>434.026438</td>\n",
       "    </tr>\n",
       "  </tbody>\n",
       "</table>\n",
       "</div>"
      ],
      "text/plain": [
       "     number_of_rows  number_of_clusters  number_of_categorical_columns  \\\n",
       "0             122.0                 3.0                            1.0   \n",
       "\n",
       "   number_of_iterations  within_cluster_sum_of_squares  total_sum_of_squares  \\\n",
       "0                  10.0                     130.973562                 565.0   \n",
       "\n",
       "   between_cluster_sum_of_squares  \n",
       "0                      434.026438  "
      ]
     },
     "metadata": {},
     "output_type": "display_data"
    },
    {
     "name": "stdout",
     "output_type": "stream",
     "text": [
      "\n",
      "\n",
      "ModelMetricsClustering: kmeans\n",
      "** Reported on train data. **\n",
      "\n",
      "MSE: NaN\n",
      "RMSE: NaN\n",
      "Total Within Cluster Sum of Square Error: 130.9735620454526\n",
      "Total Sum of Square Error to Grand Mean: 565.0000036771889\n",
      "Between Cluster Sum of Square Error: 434.02644163173636\n",
      "\n",
      "Centroid Statistics: \n"
     ]
    },
    {
     "data": {
      "text/html": [
       "<div>\n",
       "<style scoped>\n",
       "    .dataframe tbody tr th:only-of-type {\n",
       "        vertical-align: middle;\n",
       "    }\n",
       "\n",
       "    .dataframe tbody tr th {\n",
       "        vertical-align: top;\n",
       "    }\n",
       "\n",
       "    .dataframe thead th {\n",
       "        text-align: right;\n",
       "    }\n",
       "</style>\n",
       "<table border=\"1\" class=\"dataframe\">\n",
       "  <thead>\n",
       "    <tr style=\"text-align: right;\">\n",
       "      <th></th>\n",
       "      <th></th>\n",
       "      <th>centroid</th>\n",
       "      <th>size</th>\n",
       "      <th>within_cluster_sum_of_squares</th>\n",
       "    </tr>\n",
       "  </thead>\n",
       "  <tbody>\n",
       "    <tr>\n",
       "      <th>0</th>\n",
       "      <td></td>\n",
       "      <td>1.0</td>\n",
       "      <td>41.0</td>\n",
       "      <td>41.248926</td>\n",
       "    </tr>\n",
       "    <tr>\n",
       "      <th>1</th>\n",
       "      <td></td>\n",
       "      <td>2.0</td>\n",
       "      <td>41.0</td>\n",
       "      <td>46.018550</td>\n",
       "    </tr>\n",
       "    <tr>\n",
       "      <th>2</th>\n",
       "      <td></td>\n",
       "      <td>3.0</td>\n",
       "      <td>40.0</td>\n",
       "      <td>43.706086</td>\n",
       "    </tr>\n",
       "  </tbody>\n",
       "</table>\n",
       "</div>"
      ],
      "text/plain": [
       "     centroid  size  within_cluster_sum_of_squares\n",
       "0         1.0  41.0                      41.248926\n",
       "1         2.0  41.0                      46.018550\n",
       "2         3.0  40.0                      43.706086"
      ]
     },
     "metadata": {},
     "output_type": "display_data"
    },
    {
     "name": "stdout",
     "output_type": "stream",
     "text": [
      "\n",
      "Scoring History: \n"
     ]
    },
    {
     "data": {
      "text/html": [
       "<div>\n",
       "<style scoped>\n",
       "    .dataframe tbody tr th:only-of-type {\n",
       "        vertical-align: middle;\n",
       "    }\n",
       "\n",
       "    .dataframe tbody tr th {\n",
       "        vertical-align: top;\n",
       "    }\n",
       "\n",
       "    .dataframe thead th {\n",
       "        text-align: right;\n",
       "    }\n",
       "</style>\n",
       "<table border=\"1\" class=\"dataframe\">\n",
       "  <thead>\n",
       "    <tr style=\"text-align: right;\">\n",
       "      <th></th>\n",
       "      <th></th>\n",
       "      <th>timestamp</th>\n",
       "      <th>duration</th>\n",
       "      <th>iterations</th>\n",
       "      <th>number_of_reassigned_observations</th>\n",
       "      <th>within_cluster_sum_of_squares</th>\n",
       "    </tr>\n",
       "  </thead>\n",
       "  <tbody>\n",
       "    <tr>\n",
       "      <th>0</th>\n",
       "      <td></td>\n",
       "      <td>2021-07-18 13:13:59</td>\n",
       "      <td>0.003 sec</td>\n",
       "      <td>0.0</td>\n",
       "      <td>NaN</td>\n",
       "      <td>NaN</td>\n",
       "    </tr>\n",
       "    <tr>\n",
       "      <th>1</th>\n",
       "      <td></td>\n",
       "      <td>2021-07-18 13:13:59</td>\n",
       "      <td>0.015 sec</td>\n",
       "      <td>1.0</td>\n",
       "      <td>122.0</td>\n",
       "      <td>343.173035</td>\n",
       "    </tr>\n",
       "    <tr>\n",
       "      <th>2</th>\n",
       "      <td></td>\n",
       "      <td>2021-07-18 13:13:59</td>\n",
       "      <td>0.018 sec</td>\n",
       "      <td>2.0</td>\n",
       "      <td>17.0</td>\n",
       "      <td>148.493382</td>\n",
       "    </tr>\n",
       "    <tr>\n",
       "      <th>3</th>\n",
       "      <td></td>\n",
       "      <td>2021-07-18 13:13:59</td>\n",
       "      <td>0.020 sec</td>\n",
       "      <td>3.0</td>\n",
       "      <td>4.0</td>\n",
       "      <td>134.548661</td>\n",
       "    </tr>\n",
       "    <tr>\n",
       "      <th>4</th>\n",
       "      <td></td>\n",
       "      <td>2021-07-18 13:13:59</td>\n",
       "      <td>0.023 sec</td>\n",
       "      <td>4.0</td>\n",
       "      <td>4.0</td>\n",
       "      <td>132.748773</td>\n",
       "    </tr>\n",
       "    <tr>\n",
       "      <th>5</th>\n",
       "      <td></td>\n",
       "      <td>2021-07-18 13:13:59</td>\n",
       "      <td>0.025 sec</td>\n",
       "      <td>5.0</td>\n",
       "      <td>2.0</td>\n",
       "      <td>131.670955</td>\n",
       "    </tr>\n",
       "    <tr>\n",
       "      <th>6</th>\n",
       "      <td></td>\n",
       "      <td>2021-07-18 13:13:59</td>\n",
       "      <td>0.027 sec</td>\n",
       "      <td>6.0</td>\n",
       "      <td>1.0</td>\n",
       "      <td>131.378719</td>\n",
       "    </tr>\n",
       "    <tr>\n",
       "      <th>7</th>\n",
       "      <td></td>\n",
       "      <td>2021-07-18 13:13:59</td>\n",
       "      <td>0.028 sec</td>\n",
       "      <td>7.0</td>\n",
       "      <td>1.0</td>\n",
       "      <td>131.287053</td>\n",
       "    </tr>\n",
       "    <tr>\n",
       "      <th>8</th>\n",
       "      <td></td>\n",
       "      <td>2021-07-18 13:13:59</td>\n",
       "      <td>0.030 sec</td>\n",
       "      <td>8.0</td>\n",
       "      <td>1.0</td>\n",
       "      <td>131.226612</td>\n",
       "    </tr>\n",
       "    <tr>\n",
       "      <th>9</th>\n",
       "      <td></td>\n",
       "      <td>2021-07-18 13:13:59</td>\n",
       "      <td>0.033 sec</td>\n",
       "      <td>9.0</td>\n",
       "      <td>1.0</td>\n",
       "      <td>131.054239</td>\n",
       "    </tr>\n",
       "    <tr>\n",
       "      <th>10</th>\n",
       "      <td></td>\n",
       "      <td>2021-07-18 13:13:59</td>\n",
       "      <td>0.035 sec</td>\n",
       "      <td>10.0</td>\n",
       "      <td>0.0</td>\n",
       "      <td>130.973562</td>\n",
       "    </tr>\n",
       "  </tbody>\n",
       "</table>\n",
       "</div>"
      ],
      "text/plain": [
       "                timestamp    duration  iterations  \\\n",
       "0     2021-07-18 13:13:59   0.003 sec         0.0   \n",
       "1     2021-07-18 13:13:59   0.015 sec         1.0   \n",
       "2     2021-07-18 13:13:59   0.018 sec         2.0   \n",
       "3     2021-07-18 13:13:59   0.020 sec         3.0   \n",
       "4     2021-07-18 13:13:59   0.023 sec         4.0   \n",
       "5     2021-07-18 13:13:59   0.025 sec         5.0   \n",
       "6     2021-07-18 13:13:59   0.027 sec         6.0   \n",
       "7     2021-07-18 13:13:59   0.028 sec         7.0   \n",
       "8     2021-07-18 13:13:59   0.030 sec         8.0   \n",
       "9     2021-07-18 13:13:59   0.033 sec         9.0   \n",
       "10    2021-07-18 13:13:59   0.035 sec        10.0   \n",
       "\n",
       "    number_of_reassigned_observations  within_cluster_sum_of_squares  \n",
       "0                                 NaN                            NaN  \n",
       "1                               122.0                     343.173035  \n",
       "2                                17.0                     148.493382  \n",
       "3                                 4.0                     134.548661  \n",
       "4                                 4.0                     132.748773  \n",
       "5                                 2.0                     131.670955  \n",
       "6                                 1.0                     131.378719  \n",
       "7                                 1.0                     131.287053  \n",
       "8                                 1.0                     131.226612  \n",
       "9                                 1.0                     131.054239  \n",
       "10                                0.0                     130.973562  "
      ]
     },
     "metadata": {},
     "output_type": "display_data"
    },
    {
     "data": {
      "text/plain": []
     },
     "execution_count": 9,
     "metadata": {},
     "output_type": "execute_result"
    }
   ],
   "source": [
    "km"
   ]
  },
  {
   "cell_type": "code",
   "execution_count": 12,
   "id": "8728f42e-67cc-4ab0-b526-ace183a42c5c",
   "metadata": {},
   "outputs": [
    {
     "name": "stdout",
     "output_type": "stream",
     "text": [
      "kmeans prediction progress: |█████████████████████████████████████████████| 100%\n"
     ]
    }
   ],
   "source": [
    "predictions = km.predict(test)"
   ]
  },
  {
   "cell_type": "code",
   "execution_count": null,
   "id": "8d2b6232-6b65-4e31-8f74-9e28104892a1",
   "metadata": {},
   "outputs": [],
   "source": []
  },
  {
   "cell_type": "code",
   "execution_count": null,
   "id": "b883725a-3ff7-4734-be75-15c49fefbae8",
   "metadata": {},
   "outputs": [],
   "source": []
  }
 ],
 "metadata": {
  "kernelspec": {
   "display_name": "Python 3",
   "language": "python",
   "name": "python3"
  },
  "language_info": {
   "codemirror_mode": {
    "name": "ipython",
    "version": 3
   },
   "file_extension": ".py",
   "mimetype": "text/x-python",
   "name": "python",
   "nbconvert_exporter": "python",
   "pygments_lexer": "ipython3",
   "version": "3.8.10"
  }
 },
 "nbformat": 4,
 "nbformat_minor": 5
}
