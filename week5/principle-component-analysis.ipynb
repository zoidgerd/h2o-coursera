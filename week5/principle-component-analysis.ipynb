{
 "cells": [
  {
   "cell_type": "markdown",
   "id": "abce18d3-a8ae-4a08-aadc-22826f7d1d27",
   "metadata": {},
   "source": [
    "<h4>pca intuition:</h4>\n",
    "<p>https://www.youtube.com/watch?v=BfTMmoDFXyE</p>\n",
    "<p>https://stats.stackexchange.com/questions/2691/making-sense-of-principal-component-analysis-eigenvectors-eigenvalues</p>"
   ]
  },
  {
   "cell_type": "code",
   "execution_count": 16,
   "id": "fa5c8be2-2634-4c8d-8395-eddd884e0716",
   "metadata": {
    "collapsed": true,
    "jupyter": {
     "outputs_hidden": true
    },
    "tags": []
   },
   "outputs": [
    {
     "name": "stdout",
     "output_type": "stream",
     "text": [
      "Checking whether there is an H2O instance running at http://localhost:54321 . connected.\n"
     ]
    },
    {
     "data": {
      "text/html": [
       "<div style=\"overflow:auto\"><table style=\"width:50%\"><tr><td>H2O_cluster_uptime:</td>\n",
       "<td>5 mins 22 secs</td></tr>\n",
       "<tr><td>H2O_cluster_timezone:</td>\n",
       "<td>Europe/Vienna</td></tr>\n",
       "<tr><td>H2O_data_parsing_timezone:</td>\n",
       "<td>UTC</td></tr>\n",
       "<tr><td>H2O_cluster_version:</td>\n",
       "<td>3.32.1.2</td></tr>\n",
       "<tr><td>H2O_cluster_version_age:</td>\n",
       "<td>2 months and 18 days </td></tr>\n",
       "<tr><td>H2O_cluster_name:</td>\n",
       "<td>H2O_from_python_gerd_er2izt</td></tr>\n",
       "<tr><td>H2O_cluster_total_nodes:</td>\n",
       "<td>1</td></tr>\n",
       "<tr><td>H2O_cluster_free_memory:</td>\n",
       "<td>2.867 Gb</td></tr>\n",
       "<tr><td>H2O_cluster_total_cores:</td>\n",
       "<td>8</td></tr>\n",
       "<tr><td>H2O_cluster_allowed_cores:</td>\n",
       "<td>8</td></tr>\n",
       "<tr><td>H2O_cluster_status:</td>\n",
       "<td>locked, healthy</td></tr>\n",
       "<tr><td>H2O_connection_url:</td>\n",
       "<td>http://localhost:54321</td></tr>\n",
       "<tr><td>H2O_connection_proxy:</td>\n",
       "<td>{\"http\": null, \"https\": null}</td></tr>\n",
       "<tr><td>H2O_internal_security:</td>\n",
       "<td>False</td></tr>\n",
       "<tr><td>H2O_API_Extensions:</td>\n",
       "<td>Amazon S3, XGBoost, Algos, AutoML, Core V3, TargetEncoder, Core V4</td></tr>\n",
       "<tr><td>Python_version:</td>\n",
       "<td>3.8.10 final</td></tr></table></div>"
      ],
      "text/plain": [
       "--------------------------  ------------------------------------------------------------------\n",
       "H2O_cluster_uptime:         5 mins 22 secs\n",
       "H2O_cluster_timezone:       Europe/Vienna\n",
       "H2O_data_parsing_timezone:  UTC\n",
       "H2O_cluster_version:        3.32.1.2\n",
       "H2O_cluster_version_age:    2 months and 18 days\n",
       "H2O_cluster_name:           H2O_from_python_gerd_er2izt\n",
       "H2O_cluster_total_nodes:    1\n",
       "H2O_cluster_free_memory:    2.867 Gb\n",
       "H2O_cluster_total_cores:    8\n",
       "H2O_cluster_allowed_cores:  8\n",
       "H2O_cluster_status:         locked, healthy\n",
       "H2O_connection_url:         http://localhost:54321\n",
       "H2O_connection_proxy:       {\"http\": null, \"https\": null}\n",
       "H2O_internal_security:      False\n",
       "H2O_API_Extensions:         Amazon S3, XGBoost, Algos, AutoML, Core V3, TargetEncoder, Core V4\n",
       "Python_version:             3.8.10 final\n",
       "--------------------------  ------------------------------------------------------------------"
      ]
     },
     "metadata": {},
     "output_type": "display_data"
    }
   ],
   "source": [
    "import h2o\n",
    "from h2o.estimators.pca import H2OPrincipalComponentAnalysisEstimator\n",
    "h2o.init()\n",
    "import matplotlib.pyplot as plt"
   ]
  },
  {
   "cell_type": "code",
   "execution_count": 7,
   "id": "2c4720ad-2134-47f6-88eb-d78a909bfea6",
   "metadata": {},
   "outputs": [
    {
     "name": "stdout",
     "output_type": "stream",
     "text": [
      "Parse progress: |█████████████████████████████████████████████████████████| 100%\n"
     ]
    }
   ],
   "source": [
    "url = 'http://h2o-public-test-data.s3.amazonaws.com/smalldata/iris/iris_wheader.csv'\n",
    "iris = h2o.import_file(url)\n",
    "train, test = iris.split_frame([0.8], seed=69)"
   ]
  },
  {
   "cell_type": "code",
   "execution_count": 42,
   "id": "7a564f4f-ba03-4964-a053-4e076330b035",
   "metadata": {},
   "outputs": [
    {
     "name": "stdout",
     "output_type": "stream",
     "text": [
      "pca Model Build progress: |███████████████████████████████████████████████| 100%\n"
     ]
    }
   ],
   "source": [
    "# Train with the Power pca_method\n",
    "pca = H2OPrincipalComponentAnalysisEstimator(k = 4, transform = \"STANDARDIZE\", pca_method=\"Power\",\n",
    "                   use_all_factor_levels=True, impute_missing=True)\n",
    "\n",
    "pca.train(x=list(range(4)), training_frame=train)"
   ]
  },
  {
   "cell_type": "code",
   "execution_count": 43,
   "id": "163433e2-4842-4ced-9449-7f76aa9e5ad6",
   "metadata": {},
   "outputs": [
    {
     "name": "stdout",
     "output_type": "stream",
     "text": [
      "Model Details\n",
      "=============\n",
      "H2OPrincipalComponentAnalysisEstimator :  Principal Components Analysis\n",
      "Model Key:  PCA_model_python_1626611505366_13\n",
      "\n",
      "\n",
      "Importance of components: \n"
     ]
    },
    {
     "data": {
      "text/html": [
       "<div>\n",
       "<style scoped>\n",
       "    .dataframe tbody tr th:only-of-type {\n",
       "        vertical-align: middle;\n",
       "    }\n",
       "\n",
       "    .dataframe tbody tr th {\n",
       "        vertical-align: top;\n",
       "    }\n",
       "\n",
       "    .dataframe thead th {\n",
       "        text-align: right;\n",
       "    }\n",
       "</style>\n",
       "<table border=\"1\" class=\"dataframe\">\n",
       "  <thead>\n",
       "    <tr style=\"text-align: right;\">\n",
       "      <th></th>\n",
       "      <th></th>\n",
       "      <th>pc1</th>\n",
       "      <th>pc2</th>\n",
       "      <th>pc3</th>\n",
       "      <th>pc4</th>\n",
       "    </tr>\n",
       "  </thead>\n",
       "  <tbody>\n",
       "    <tr>\n",
       "      <th>0</th>\n",
       "      <td>Standard deviation</td>\n",
       "      <td>1.696073</td>\n",
       "      <td>0.983907</td>\n",
       "      <td>0.366517</td>\n",
       "      <td>0.144663</td>\n",
       "    </tr>\n",
       "    <tr>\n",
       "      <th>1</th>\n",
       "      <td>Proportion of Variance</td>\n",
       "      <td>0.719166</td>\n",
       "      <td>0.242018</td>\n",
       "      <td>0.033584</td>\n",
       "      <td>0.005232</td>\n",
       "    </tr>\n",
       "    <tr>\n",
       "      <th>2</th>\n",
       "      <td>Cumulative Proportion</td>\n",
       "      <td>0.719166</td>\n",
       "      <td>0.961185</td>\n",
       "      <td>0.994768</td>\n",
       "      <td>1.000000</td>\n",
       "    </tr>\n",
       "  </tbody>\n",
       "</table>\n",
       "</div>"
      ],
      "text/plain": [
       "                                pc1       pc2       pc3       pc4\n",
       "0      Standard deviation  1.696073  0.983907  0.366517  0.144663\n",
       "1  Proportion of Variance  0.719166  0.242018  0.033584  0.005232\n",
       "2   Cumulative Proportion  0.719166  0.961185  0.994768  1.000000"
      ]
     },
     "metadata": {},
     "output_type": "display_data"
    },
    {
     "name": "stdout",
     "output_type": "stream",
     "text": [
      "\n",
      "\n",
      "ModelMetricsPCA: pca\n",
      "** Reported on train data. **\n",
      "\n",
      "MSE: NaN\n",
      "RMSE: NaN\n",
      "\n",
      "Scoring History from Power SVD: \n"
     ]
    },
    {
     "data": {
      "text/html": [
       "<div>\n",
       "<style scoped>\n",
       "    .dataframe tbody tr th:only-of-type {\n",
       "        vertical-align: middle;\n",
       "    }\n",
       "\n",
       "    .dataframe tbody tr th {\n",
       "        vertical-align: top;\n",
       "    }\n",
       "\n",
       "    .dataframe thead th {\n",
       "        text-align: right;\n",
       "    }\n",
       "</style>\n",
       "<table border=\"1\" class=\"dataframe\">\n",
       "  <thead>\n",
       "    <tr style=\"text-align: right;\">\n",
       "      <th></th>\n",
       "      <th></th>\n",
       "      <th>timestamp</th>\n",
       "      <th>duration</th>\n",
       "      <th>iterations</th>\n",
       "      <th>err</th>\n",
       "      <th>principal_component_</th>\n",
       "    </tr>\n",
       "  </thead>\n",
       "  <tbody>\n",
       "    <tr>\n",
       "      <th>0</th>\n",
       "      <td></td>\n",
       "      <td>2021-07-18 15:02:13</td>\n",
       "      <td>0.008 sec</td>\n",
       "      <td>0.0</td>\n",
       "      <td>7.132151e-01</td>\n",
       "      <td>1.0</td>\n",
       "    </tr>\n",
       "    <tr>\n",
       "      <th>1</th>\n",
       "      <td></td>\n",
       "      <td>2021-07-18 15:02:13</td>\n",
       "      <td>0.008 sec</td>\n",
       "      <td>1.0</td>\n",
       "      <td>9.234428e-01</td>\n",
       "      <td>1.0</td>\n",
       "    </tr>\n",
       "    <tr>\n",
       "      <th>2</th>\n",
       "      <td></td>\n",
       "      <td>2021-07-18 15:02:13</td>\n",
       "      <td>0.008 sec</td>\n",
       "      <td>2.0</td>\n",
       "      <td>4.734008e-01</td>\n",
       "      <td>1.0</td>\n",
       "    </tr>\n",
       "    <tr>\n",
       "      <th>3</th>\n",
       "      <td></td>\n",
       "      <td>2021-07-18 15:02:13</td>\n",
       "      <td>0.008 sec</td>\n",
       "      <td>3.0</td>\n",
       "      <td>1.693756e-01</td>\n",
       "      <td>1.0</td>\n",
       "    </tr>\n",
       "    <tr>\n",
       "      <th>4</th>\n",
       "      <td></td>\n",
       "      <td>2021-07-18 15:02:13</td>\n",
       "      <td>0.008 sec</td>\n",
       "      <td>4.0</td>\n",
       "      <td>5.741025e-02</td>\n",
       "      <td>1.0</td>\n",
       "    </tr>\n",
       "    <tr>\n",
       "      <th>5</th>\n",
       "      <td></td>\n",
       "      <td>2021-07-18 15:02:13</td>\n",
       "      <td>0.008 sec</td>\n",
       "      <td>5.0</td>\n",
       "      <td>1.933585e-02</td>\n",
       "      <td>1.0</td>\n",
       "    </tr>\n",
       "    <tr>\n",
       "      <th>6</th>\n",
       "      <td></td>\n",
       "      <td>2021-07-18 15:02:13</td>\n",
       "      <td>0.008 sec</td>\n",
       "      <td>6.0</td>\n",
       "      <td>6.507628e-03</td>\n",
       "      <td>1.0</td>\n",
       "    </tr>\n",
       "    <tr>\n",
       "      <th>7</th>\n",
       "      <td></td>\n",
       "      <td>2021-07-18 15:02:13</td>\n",
       "      <td>0.008 sec</td>\n",
       "      <td>7.0</td>\n",
       "      <td>2.190012e-03</td>\n",
       "      <td>1.0</td>\n",
       "    </tr>\n",
       "    <tr>\n",
       "      <th>8</th>\n",
       "      <td></td>\n",
       "      <td>2021-07-18 15:02:13</td>\n",
       "      <td>0.008 sec</td>\n",
       "      <td>8.0</td>\n",
       "      <td>7.369978e-04</td>\n",
       "      <td>1.0</td>\n",
       "    </tr>\n",
       "    <tr>\n",
       "      <th>9</th>\n",
       "      <td></td>\n",
       "      <td>2021-07-18 15:02:13</td>\n",
       "      <td>0.008 sec</td>\n",
       "      <td>9.0</td>\n",
       "      <td>2.480193e-04</td>\n",
       "      <td>1.0</td>\n",
       "    </tr>\n",
       "    <tr>\n",
       "      <th>10</th>\n",
       "      <td></td>\n",
       "      <td>2021-07-18 15:02:13</td>\n",
       "      <td>0.008 sec</td>\n",
       "      <td>10.0</td>\n",
       "      <td>8.346503e-05</td>\n",
       "      <td>1.0</td>\n",
       "    </tr>\n",
       "    <tr>\n",
       "      <th>11</th>\n",
       "      <td></td>\n",
       "      <td>2021-07-18 15:02:13</td>\n",
       "      <td>0.008 sec</td>\n",
       "      <td>11.0</td>\n",
       "      <td>2.808818e-05</td>\n",
       "      <td>1.0</td>\n",
       "    </tr>\n",
       "    <tr>\n",
       "      <th>12</th>\n",
       "      <td></td>\n",
       "      <td>2021-07-18 15:02:13</td>\n",
       "      <td>0.008 sec</td>\n",
       "      <td>12.0</td>\n",
       "      <td>9.452365e-06</td>\n",
       "      <td>1.0</td>\n",
       "    </tr>\n",
       "    <tr>\n",
       "      <th>13</th>\n",
       "      <td></td>\n",
       "      <td>2021-07-18 15:02:13</td>\n",
       "      <td>0.008 sec</td>\n",
       "      <td>13.0</td>\n",
       "      <td>3.181180e-06</td>\n",
       "      <td>1.0</td>\n",
       "    </tr>\n",
       "    <tr>\n",
       "      <th>14</th>\n",
       "      <td></td>\n",
       "      <td>2021-07-18 15:02:13</td>\n",
       "      <td>0.008 sec</td>\n",
       "      <td>14.0</td>\n",
       "      <td>1.069567e-06</td>\n",
       "      <td>1.0</td>\n",
       "    </tr>\n",
       "    <tr>\n",
       "      <th>15</th>\n",
       "      <td></td>\n",
       "      <td>2021-07-18 15:02:13</td>\n",
       "      <td>0.008 sec</td>\n",
       "      <td>15.0</td>\n",
       "      <td>3.650024e-07</td>\n",
       "      <td>1.0</td>\n",
       "    </tr>\n",
       "    <tr>\n",
       "      <th>16</th>\n",
       "      <td></td>\n",
       "      <td>2021-07-18 15:02:13</td>\n",
       "      <td>0.008 sec</td>\n",
       "      <td>16.0</td>\n",
       "      <td>1.264405e-07</td>\n",
       "      <td>1.0</td>\n",
       "    </tr>\n",
       "    <tr>\n",
       "      <th>17</th>\n",
       "      <td></td>\n",
       "      <td>2021-07-18 15:02:13</td>\n",
       "      <td>0.008 sec</td>\n",
       "      <td>17.0</td>\n",
       "      <td>0.000000e+00</td>\n",
       "      <td>1.0</td>\n",
       "    </tr>\n",
       "    <tr>\n",
       "      <th>18</th>\n",
       "      <td></td>\n",
       "      <td>2021-07-18 15:02:13</td>\n",
       "      <td>0.009 sec</td>\n",
       "      <td>18.0</td>\n",
       "      <td>4.089305e-01</td>\n",
       "      <td>2.0</td>\n",
       "    </tr>\n",
       "    <tr>\n",
       "      <th>19</th>\n",
       "      <td></td>\n",
       "      <td>2021-07-18 15:02:13</td>\n",
       "      <td>0.009 sec</td>\n",
       "      <td>19.0</td>\n",
       "      <td>3.449545e-02</td>\n",
       "      <td>2.0</td>\n",
       "    </tr>\n",
       "  </tbody>\n",
       "</table>\n",
       "</div>"
      ],
      "text/plain": [
       "                timestamp    duration  iterations           err  \\\n",
       "0     2021-07-18 15:02:13   0.008 sec         0.0  7.132151e-01   \n",
       "1     2021-07-18 15:02:13   0.008 sec         1.0  9.234428e-01   \n",
       "2     2021-07-18 15:02:13   0.008 sec         2.0  4.734008e-01   \n",
       "3     2021-07-18 15:02:13   0.008 sec         3.0  1.693756e-01   \n",
       "4     2021-07-18 15:02:13   0.008 sec         4.0  5.741025e-02   \n",
       "5     2021-07-18 15:02:13   0.008 sec         5.0  1.933585e-02   \n",
       "6     2021-07-18 15:02:13   0.008 sec         6.0  6.507628e-03   \n",
       "7     2021-07-18 15:02:13   0.008 sec         7.0  2.190012e-03   \n",
       "8     2021-07-18 15:02:13   0.008 sec         8.0  7.369978e-04   \n",
       "9     2021-07-18 15:02:13   0.008 sec         9.0  2.480193e-04   \n",
       "10    2021-07-18 15:02:13   0.008 sec        10.0  8.346503e-05   \n",
       "11    2021-07-18 15:02:13   0.008 sec        11.0  2.808818e-05   \n",
       "12    2021-07-18 15:02:13   0.008 sec        12.0  9.452365e-06   \n",
       "13    2021-07-18 15:02:13   0.008 sec        13.0  3.181180e-06   \n",
       "14    2021-07-18 15:02:13   0.008 sec        14.0  1.069567e-06   \n",
       "15    2021-07-18 15:02:13   0.008 sec        15.0  3.650024e-07   \n",
       "16    2021-07-18 15:02:13   0.008 sec        16.0  1.264405e-07   \n",
       "17    2021-07-18 15:02:13   0.008 sec        17.0  0.000000e+00   \n",
       "18    2021-07-18 15:02:13   0.009 sec        18.0  4.089305e-01   \n",
       "19    2021-07-18 15:02:13   0.009 sec        19.0  3.449545e-02   \n",
       "\n",
       "    principal_component_  \n",
       "0                    1.0  \n",
       "1                    1.0  \n",
       "2                    1.0  \n",
       "3                    1.0  \n",
       "4                    1.0  \n",
       "5                    1.0  \n",
       "6                    1.0  \n",
       "7                    1.0  \n",
       "8                    1.0  \n",
       "9                    1.0  \n",
       "10                   1.0  \n",
       "11                   1.0  \n",
       "12                   1.0  \n",
       "13                   1.0  \n",
       "14                   1.0  \n",
       "15                   1.0  \n",
       "16                   1.0  \n",
       "17                   1.0  \n",
       "18                   2.0  \n",
       "19                   2.0  "
      ]
     },
     "metadata": {},
     "output_type": "display_data"
    },
    {
     "name": "stdout",
     "output_type": "stream",
     "text": [
      "\n",
      "See the whole table with table.as_data_frame()\n"
     ]
    },
    {
     "data": {
      "text/plain": []
     },
     "execution_count": 43,
     "metadata": {},
     "output_type": "execute_result"
    }
   ],
   "source": [
    "pca"
   ]
  },
  {
   "cell_type": "code",
   "execution_count": 44,
   "id": "5f4c623a-f188-4d24-9b00-d19a5329486a",
   "metadata": {},
   "outputs": [
    {
     "data": {
      "text/plain": [
       "[('Standard deviation',\n",
       "  1.696073279642128,\n",
       "  0.9839073673371476,\n",
       "  0.36651660499210476,\n",
       "  0.14466271409296466),\n",
       " ('Proportion of Variance',\n",
       "  0.7191661424790007,\n",
       "  0.242018426875079,\n",
       "  0.03358360543373461,\n",
       "  0.0052318252121857055),\n",
       " ('Cumulative Proportion',\n",
       "  0.7191661424790007,\n",
       "  0.9611845693540797,\n",
       "  0.9947681747878143,\n",
       "  1.0)]"
      ]
     },
     "execution_count": 44,
     "metadata": {},
     "output_type": "execute_result"
    }
   ],
   "source": [
    "# View the importance of components\n",
    "pca.varimp(use_pandas=False)\n",
    "\n",
    "# View the eigenvectors\n",
    "#pca.rotation()"
   ]
  },
  {
   "cell_type": "code",
   "execution_count": 45,
   "id": "86b4fabf-c9da-439a-82c9-fb8ed1f187a4",
   "metadata": {},
   "outputs": [
    {
     "name": "stdout",
     "output_type": "stream",
     "text": [
      "pca prediction progress: |████████████████████████████████████████████████| 100%\n"
     ]
    }
   ],
   "source": [
    "pred = H2OPrincipalComponentAnalysisEstimator.predict(pca, train)"
   ]
  },
  {
   "cell_type": "code",
   "execution_count": 46,
   "id": "61fa5319-6222-42e6-bf22-42da693262b7",
   "metadata": {},
   "outputs": [
    {
     "data": {
      "text/html": [
       "<table>\n",
       "<thead>\n",
       "<tr><th style=\"text-align: right;\">    PC1</th><th style=\"text-align: right;\">      PC2</th><th style=\"text-align: right;\">       PC3</th><th style=\"text-align: right;\">        PC4</th></tr>\n",
       "</thead>\n",
       "<tbody>\n",
       "<tr><td style=\"text-align: right;\">2.21639</td><td style=\"text-align: right;\">-0.634445</td><td style=\"text-align: right;\"> 0.103615 </td><td style=\"text-align: right;\">-0.00638482</td></tr>\n",
       "<tr><td style=\"text-align: right;\">2.08208</td><td style=\"text-align: right;\"> 0.596561</td><td style=\"text-align: right;\"> 0.199634 </td><td style=\"text-align: right;\">-0.0965737 </td></tr>\n",
       "<tr><td style=\"text-align: right;\">2.3476 </td><td style=\"text-align: right;\"> 0.213984</td><td style=\"text-align: right;\">-0.0767164</td><td style=\"text-align: right;\">-0.0184542 </td></tr>\n",
       "<tr><td style=\"text-align: right;\">2.29341</td><td style=\"text-align: right;\"> 0.484427</td><td style=\"text-align: right;\">-0.12601  </td><td style=\"text-align: right;\"> 0.0718369 </td></tr>\n",
       "<tr><td style=\"text-align: right;\">2.40909</td><td style=\"text-align: right;\">-0.214095</td><td style=\"text-align: right;\">-0.36265  </td><td style=\"text-align: right;\"> 0.0494994 </td></tr>\n",
       "<tr><td style=\"text-align: right;\">2.19504</td><td style=\"text-align: right;\">-0.364321</td><td style=\"text-align: right;\"> 0.0622288</td><td style=\"text-align: right;\"> 0.0390523 </td></tr>\n",
       "<tr><td style=\"text-align: right;\">2.34922</td><td style=\"text-align: right;\"> 1.02371 </td><td style=\"text-align: right;\">-0.185059 </td><td style=\"text-align: right;\"> 0.0281493 </td></tr>\n",
       "<tr><td style=\"text-align: right;\">2.17611</td><td style=\"text-align: right;\"> 0.373218</td><td style=\"text-align: right;\"> 0.218973 </td><td style=\"text-align: right;\"> 0.0475708 </td></tr>\n",
       "<tr><td style=\"text-align: right;\">2.09667</td><td style=\"text-align: right;\">-1.21307 </td><td style=\"text-align: right;\"> 0.250467 </td><td style=\"text-align: right;\"> 0.00626779</td></tr>\n",
       "<tr><td style=\"text-align: right;\">2.29003</td><td style=\"text-align: right;\">-0.285326</td><td style=\"text-align: right;\">-0.121286 </td><td style=\"text-align: right;\"> 0.145976  </td></tr>\n",
       "</tbody>\n",
       "</table>"
      ]
     },
     "metadata": {},
     "output_type": "display_data"
    },
    {
     "data": {
      "text/plain": []
     },
     "execution_count": 46,
     "metadata": {},
     "output_type": "execute_result"
    }
   ],
   "source": [
    "pred"
   ]
  },
  {
   "cell_type": "markdown",
   "id": "f45aee81-789e-4ea5-af1a-29a150094db1",
   "metadata": {},
   "source": [
    "<h3>plot the data in 2D scatterplot</h3>"
   ]
  },
  {
   "cell_type": "code",
   "execution_count": 47,
   "id": "7375f4c1-fa90-42d0-85e0-2102b9c516ec",
   "metadata": {},
   "outputs": [],
   "source": [
    "pred = pred.as_data_frame()"
   ]
  },
  {
   "cell_type": "code",
   "execution_count": 48,
   "id": "421be8a1-37ec-45bd-bbc7-b6b8c04a1f0b",
   "metadata": {},
   "outputs": [
    {
     "data": {
      "text/plain": [
       "<matplotlib.collections.PathCollection at 0x7f82254d0040>"
      ]
     },
     "execution_count": 48,
     "metadata": {},
     "output_type": "execute_result"
    },
    {
     "data": {
      "image/png": "[encoded data removed]",
      "text/plain": [
       "<Figure size 432x288 with 1 Axes>"
      ]
     },
     "metadata": {
      "needs_background": "light"
     },
     "output_type": "display_data"
    }
   ],
   "source": [
    "plt.scatter(pred.PC1, pred.PC2)"
   ]
  },
  {
   "cell_type": "code",
   "execution_count": null,
   "id": "34ad9aba-c963-40ae-8d23-8b04af53ab18",
   "metadata": {},
   "outputs": [],
   "source": []
  }
 ],
 "metadata": {
  "kernelspec": {
   "display_name": "Python 3",
   "language": "python",
   "name": "python3"
  },
  "language_info": {
   "codemirror_mode": {
    "name": "ipython",
    "version": 3
   },
   "file_extension": ".py",
   "mimetype": "text/x-python",
   "name": "python",
   "nbconvert_exporter": "python",
   "pygments_lexer": "ipython3",
   "version": "3.8.10"
  }
 },
 "nbformat": 4,
 "nbformat_minor": 5
}
