{
 "cells": [
  {
   "cell_type": "code",
   "execution_count": null,
   "id": "e12d7860-dc6e-4ec5-b5e6-d0ac3b0d4323",
   "metadata": {},
   "outputs": [],
   "source": [
    "#\n",
    "# How to use GLRM for feature reduction\n",
    "#\n",
    "# (benefit of GLRM - can also handle ENUM data and not only numeric values)\n",
    "#"
   ]
  }
 ],
 "metadata": {
  "kernelspec": {
   "display_name": "Python 3",
   "language": "python",
   "name": "python3"
  },
  "language_info": {
   "codemirror_mode": {
    "name": "ipython",
    "version": 3
   },
   "file_extension": ".py",
   "mimetype": "text/x-python",
   "name": "python",
   "nbconvert_exporter": "python",
   "pygments_lexer": "ipython3",
   "version": "3.8.10"
  }
 },
 "nbformat": 4,
 "nbformat_minor": 5
}
