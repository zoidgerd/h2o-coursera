{
 "cells": [
  {
   "cell_type": "code",
   "execution_count": 10,
   "id": "literary-synthetic",
   "metadata": {},
   "outputs": [],
   "source": [
    "import h2o\n",
    "import h2o.grid\n",
    "import pandas as pd\n",
    "import numpy as np\n",
    "\n",
    "from h2o.estimators.glm import H2OGeneralizedLinearEstimator\n"
   ]
  },
  {
   "cell_type": "code",
   "execution_count": 6,
   "id": "spread-activity",
   "metadata": {
    "collapsed": true,
    "jupyter": {
     "outputs_hidden": true
    },
    "tags": []
   },
   "outputs": [
    {
     "name": "stdout",
     "output_type": "stream",
     "text": [
      "Checking whether there is an H2O instance running at http://localhost:54321 ..... not found.\n",
      "Attempting to start a local H2O server...\n",
      "; Java HotSpot(TM) 64-Bit Server VM 18.9 (build 11.0.11+9-LTS-194, mixed mode)\n",
      "  Starting server from C:\\Users\\Gerd\\venvs\\h2o\\Lib\\site-packages\\h2o\\backend\\bin\\h2o.jar\n",
      "  Ice root: C:\\Users\\Gerd\\AppData\\Local\\Temp\\tmp1wwns7_e\n",
      "  JVM stdout: C:\\Users\\Gerd\\AppData\\Local\\Temp\\tmp1wwns7_e\\h2o_Gerd_started_from_python.out\n",
      "  JVM stderr: C:\\Users\\Gerd\\AppData\\Local\\Temp\\tmp1wwns7_e\\h2o_Gerd_started_from_python.err\n",
      "  Server is running at http://127.0.0.1:54321\n",
      "Connecting to H2O server at http://127.0.0.1:54321 ... successful.\n"
     ]
    },
    {
     "data": {
      "text/html": [
       "<div style=\"overflow:auto\"><table style=\"width:50%\"><tr><td>H2O_cluster_uptime:</td>\n",
       "<td>01 secs</td></tr>\n",
       "<tr><td>H2O_cluster_timezone:</td>\n",
       "<td>Europe/Berlin</td></tr>\n",
       "<tr><td>H2O_data_parsing_timezone:</td>\n",
       "<td>UTC</td></tr>\n",
       "<tr><td>H2O_cluster_version:</td>\n",
       "<td>3.32.1.1</td></tr>\n",
       "<tr><td>H2O_cluster_version_age:</td>\n",
       "<td>2 months and 10 days </td></tr>\n",
       "<tr><td>H2O_cluster_name:</td>\n",
       "<td>H2O_from_python_Gerd_czc9mw</td></tr>\n",
       "<tr><td>H2O_cluster_total_nodes:</td>\n",
       "<td>1</td></tr>\n",
       "<tr><td>H2O_cluster_free_memory:</td>\n",
       "<td>3.975 Gb</td></tr>\n",
       "<tr><td>H2O_cluster_total_cores:</td>\n",
       "<td>16</td></tr>\n",
       "<tr><td>H2O_cluster_allowed_cores:</td>\n",
       "<td>16</td></tr>\n",
       "<tr><td>H2O_cluster_status:</td>\n",
       "<td>accepting new members, healthy</td></tr>\n",
       "<tr><td>H2O_connection_url:</td>\n",
       "<td>http://127.0.0.1:54321</td></tr>\n",
       "<tr><td>H2O_connection_proxy:</td>\n",
       "<td>{\"http\": null, \"https\": null}</td></tr>\n",
       "<tr><td>H2O_internal_security:</td>\n",
       "<td>False</td></tr>\n",
       "<tr><td>H2O_API_Extensions:</td>\n",
       "<td>Amazon S3, Algos, AutoML, Core V3, TargetEncoder, Core V4</td></tr>\n",
       "<tr><td>Python_version:</td>\n",
       "<td>3.9.0 final</td></tr></table></div>"
      ],
      "text/plain": [
       "--------------------------  ---------------------------------------------------------\n",
       "H2O_cluster_uptime:         01 secs\n",
       "H2O_cluster_timezone:       Europe/Berlin\n",
       "H2O_data_parsing_timezone:  UTC\n",
       "H2O_cluster_version:        3.32.1.1\n",
       "H2O_cluster_version_age:    2 months and 10 days\n",
       "H2O_cluster_name:           H2O_from_python_Gerd_czc9mw\n",
       "H2O_cluster_total_nodes:    1\n",
       "H2O_cluster_free_memory:    3.975 Gb\n",
       "H2O_cluster_total_cores:    16\n",
       "H2O_cluster_allowed_cores:  16\n",
       "H2O_cluster_status:         accepting new members, healthy\n",
       "H2O_connection_url:         http://127.0.0.1:54321\n",
       "H2O_connection_proxy:       {\"http\": null, \"https\": null}\n",
       "H2O_internal_security:      False\n",
       "H2O_API_Extensions:         Amazon S3, Algos, AutoML, Core V3, TargetEncoder, Core V4\n",
       "Python_version:             3.9.0 final\n",
       "--------------------------  ---------------------------------------------------------"
      ]
     },
     "metadata": {},
     "output_type": "display_data"
    }
   ],
   "source": [
    "h2o.init()"
   ]
  },
  {
   "cell_type": "code",
   "execution_count": 7,
   "id": "hired-heading",
   "metadata": {},
   "outputs": [
    {
     "name": "stdout",
     "output_type": "stream",
     "text": [
      "Parse progress: |█████████████████████████████████████████████████████████| 100%\n"
     ]
    }
   ],
   "source": [
    "data = h2o.import_file('http://h2o-public-test-data.s3.amazonaws.com/smalldata/airlines/allyears2k_headers.zip')"
   ]
  },
  {
   "cell_type": "code",
   "execution_count": 8,
   "id": "adjusted-swaziland",
   "metadata": {},
   "outputs": [],
   "source": [
    "train, valid, test = data.split_frame([0.8, 0.1], seed=69)"
   ]
  },
  {
   "cell_type": "code",
   "execution_count": 9,
   "id": "theoretical-peripheral",
   "metadata": {},
   "outputs": [
    {
     "name": "stdout",
     "output_type": "stream",
     "text": [
      "35255 4272 4451\n"
     ]
    }
   ],
   "source": [
    "print(train.nrows, valid.nrows, test.nrows)"
   ]
  },
  {
   "cell_type": "code",
   "execution_count": 12,
   "id": "dressed-calvin",
   "metadata": {},
   "outputs": [],
   "source": [
    "target = \"IsArrDelayed\"\n",
    "ignoreFields = [\n",
    "    \"ArrDelay\", \"DepDelay\",\n",
    "    \"CarrierDelay\", \"WeatherDelay\",\n",
    "    \"NASDelay\", \"SecurityDelay\",\n",
    "    \"LateAircraftDelay\", \"IsDepDelay\",\n",
    "    \"IsArrDelayed\", \"ActualElapsedTime\"\n",
    "]\n",
    "\n",
    "xAll = [i for i in train.names if i not in ignoreFields]\n",
    "xLikely = [\"Month\", \"DayOfWeek\", \"UniqueCarrier\",\n",
    "          \"Origin\", \"Dest\", \"Distance\", \"Cancelled\", \"Diverted\"]"
   ]
  },
  {
   "cell_type": "code",
   "execution_count": 13,
   "id": "alive-absence",
   "metadata": {},
   "outputs": [
    {
     "name": "stdout",
     "output_type": "stream",
     "text": [
      "glm Model Build progress: |███████████████████████████████████████████████| 100%\n"
     ]
    }
   ],
   "source": [
    "m_def = H2OGeneralizedLinearEstimator(family = \"binomial\",)\n",
    "\n",
    "m_def.train(xAll, target, train, validation_frame = valid)"
   ]
  },
  {
   "cell_type": "code",
   "execution_count": 14,
   "id": "played-dublin",
   "metadata": {},
   "outputs": [
    {
     "data": {
      "text/plain": [
       "0.5414570563465372"
      ]
     },
     "execution_count": 14,
     "metadata": {},
     "output_type": "execute_result"
    }
   ],
   "source": [
    "m_def.logloss(valid=True)"
   ]
  },
  {
   "cell_type": "code",
   "execution_count": 15,
   "id": "verified-reminder",
   "metadata": {},
   "outputs": [
    {
     "name": "stdout",
     "output_type": "stream",
     "text": [
      "glm Grid Build progress: |████████████████████████████████████████████████| 100%\n"
     ]
    }
   ],
   "source": [
    "g = h2o.grid.H2OGridSearch(\n",
    "    H2OGeneralizedLinearEstimator(\n",
    "    family = \"binomial\",\n",
    "    lambda_search = True\n",
    "    ),\n",
    "    hyper_params = {\n",
    "        \"alpha\":[x * 0.01 for x in range (0, 100)],\n",
    "    },\n",
    "    search_criteria = {\n",
    "        \"strategy\":\"RandomDiscrete\",\n",
    "        \"max_models\":8,\n",
    "        \"max_runtime_secs\":30\n",
    "    }\n",
    ")\n",
    "g.train(xAll, target, train, validation_frame = valid)"
   ]
  },
  {
   "cell_type": "code",
   "execution_count": 16,
   "id": "immune-mongolia",
   "metadata": {
    "collapsed": true,
    "jupyter": {
     "outputs_hidden": true
    },
    "tags": []
   },
   "outputs": [
    {
     "name": "stdout",
     "output_type": "stream",
     "text": [
      "                     alpha  \\\n",
      "0                   [0.85]   \n",
      "1                   [0.84]   \n",
      "2                   [0.73]   \n",
      "3    [0.47000000000000003]   \n",
      "4                   [0.26]   \n",
      "5                    [0.2]   \n",
      "6                   [0.15]   \n",
      "7                   [0.02]   \n",
      "\n",
      "                                                     model_ids  \\\n",
      "0  Grid_GLM_py_2_sid_8dfd_model_python_1622892119670_4_model_6   \n",
      "1  Grid_GLM_py_2_sid_8dfd_model_python_1622892119670_4_model_2   \n",
      "2  Grid_GLM_py_2_sid_8dfd_model_python_1622892119670_4_model_1   \n",
      "3  Grid_GLM_py_2_sid_8dfd_model_python_1622892119670_4_model_7   \n",
      "4  Grid_GLM_py_2_sid_8dfd_model_python_1622892119670_4_model_8   \n",
      "5  Grid_GLM_py_2_sid_8dfd_model_python_1622892119670_4_model_4   \n",
      "6  Grid_GLM_py_2_sid_8dfd_model_python_1622892119670_4_model_3   \n",
      "7  Grid_GLM_py_2_sid_8dfd_model_python_1622892119670_4_model_5   \n",
      "\n",
      "              logloss  \n",
      "0  0.5050724912558561  \n",
      "1  0.5051205759415903  \n",
      "2  0.5057264406617276  \n",
      "3   0.508035509352371  \n",
      "4  0.5119572794497965  \n",
      "5  0.5140294537245973  \n",
      "6  0.5164874303597446  \n",
      "7  0.5487616366346224  \n"
     ]
    },
    {
     "data": {
      "text/plain": []
     },
     "execution_count": 16,
     "metadata": {},
     "output_type": "execute_result"
    }
   ],
   "source": [
    "g"
   ]
  },
  {
   "cell_type": "code",
   "execution_count": 17,
   "id": "assumed-concentration",
   "metadata": {},
   "outputs": [
    {
     "name": "stdout",
     "output_type": "stream",
     "text": [
      "glm Grid Build progress: |████████████████████████████████████████████████| 100%\n"
     ]
    }
   ],
   "source": [
    "g2 = h2o.grid.H2OGridSearch(\n",
    "    H2OGeneralizedLinearEstimator(\n",
    "    family = \"binomial\",\n",
    "    lambda_search = True\n",
    "    ),\n",
    "    hyper_params = {\n",
    "        \"alpha\":[x * 0.01 for x in range (0, 100)],\n",
    "    },\n",
    "    search_criteria = {\n",
    "        \"strategy\":\"Cartesian\"\n",
    "    }\n",
    ")\n",
    "g2.train(xAll, target, train, validation_frame = valid)"
   ]
  },
  {
   "cell_type": "code",
   "execution_count": 18,
   "id": "rising-lambda",
   "metadata": {
    "collapsed": true,
    "jupyter": {
     "outputs_hidden": true
    },
    "tags": []
   },
   "outputs": [
    {
     "name": "stdout",
     "output_type": "stream",
     "text": [
      "        alpha                                                       model_ids  \\\n",
      "0       [0.0]    Grid_GLM_py_2_sid_8dfd_model_python_1622892119670_21_model_1   \n",
      "1      [0.99]  Grid_GLM_py_2_sid_8dfd_model_python_1622892119670_21_model_100   \n",
      "2      [0.98]   Grid_GLM_py_2_sid_8dfd_model_python_1622892119670_21_model_99   \n",
      "3      [0.97]   Grid_GLM_py_2_sid_8dfd_model_python_1622892119670_21_model_98   \n",
      "4      [0.96]   Grid_GLM_py_2_sid_8dfd_model_python_1622892119670_21_model_97   \n",
      ".. ..     ...                                                             ...   \n",
      "95     [0.05]    Grid_GLM_py_2_sid_8dfd_model_python_1622892119670_21_model_6   \n",
      "96     [0.04]    Grid_GLM_py_2_sid_8dfd_model_python_1622892119670_21_model_5   \n",
      "97     [0.03]    Grid_GLM_py_2_sid_8dfd_model_python_1622892119670_21_model_4   \n",
      "98     [0.02]    Grid_GLM_py_2_sid_8dfd_model_python_1622892119670_21_model_3   \n",
      "99     [0.01]    Grid_GLM_py_2_sid_8dfd_model_python_1622892119670_21_model_2   \n",
      "\n",
      "               logloss  \n",
      "0   0.4970890701218323  \n",
      "1   0.5044510430546824  \n",
      "2   0.5044908887906108  \n",
      "3   0.5045320620765068  \n",
      "4   0.5045733121989852  \n",
      "..                 ...  \n",
      "95  0.5293776664446129  \n",
      "96  0.5331430476094458  \n",
      "97  0.5388357309381356  \n",
      "98  0.5487616366346224  \n",
      "99  0.5712899069589936  \n",
      "\n",
      "[100 rows x 4 columns]\n"
     ]
    },
    {
     "data": {
      "text/plain": []
     },
     "execution_count": 18,
     "metadata": {},
     "output_type": "execute_result"
    }
   ],
   "source": [
    "g2"
   ]
  },
  {
   "cell_type": "code",
   "execution_count": 19,
   "id": "regular-yesterday",
   "metadata": {},
   "outputs": [
    {
     "name": "stdout",
     "output_type": "stream",
     "text": [
      "H2O session _sid_8dfd closed.\n"
     ]
    }
   ],
   "source": [
    "h2o.cluster().shutdown()"
   ]
  },
  {
   "cell_type": "code",
   "execution_count": null,
   "id": "restricted-segment",
   "metadata": {},
   "outputs": [],
   "source": []
  }
 ],
 "metadata": {
  "kernelspec": {
   "display_name": "Python 3",
   "language": "python",
   "name": "python3"
  },
  "language_info": {
   "codemirror_mode": {
    "name": "ipython",
    "version": 3
   },
   "file_extension": ".py",
   "mimetype": "text/x-python",
   "name": "python",
   "nbconvert_exporter": "python",
   "pygments_lexer": "ipython3",
   "version": "3.8.5"
  }
 },
 "nbformat": 4,
 "nbformat_minor": 5
}
