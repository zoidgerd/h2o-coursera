{
 "cells": [
  {
   "cell_type": "code",
   "execution_count": 1,
   "id": "special-deviation",
   "metadata": {},
   "outputs": [],
   "source": [
    "import h2o\n",
    "import pandas as pd\n",
    "import numpy as np"
   ]
  },
  {
   "cell_type": "code",
   "execution_count": 2,
   "id": "conscious-positive",
   "metadata": {
    "collapsed": true,
    "jupyter": {
     "outputs_hidden": true
    },
    "tags": []
   },
   "outputs": [
    {
     "name": "stdout",
     "output_type": "stream",
     "text": [
      "Checking whether there is an H2O instance running at http://localhost:54321 ..... not found.\n",
      "Attempting to start a local H2O server...\n",
      "; Java HotSpot(TM) 64-Bit Server VM 18.9 (build 11.0.11+9-LTS-194, mixed mode)\n",
      "  Starting server from C:\\Users\\Gerd\\venvs\\h2o\\Lib\\site-packages\\h2o\\backend\\bin\\h2o.jar\n",
      "  Ice root: C:\\Users\\Gerd\\AppData\\Local\\Temp\\tmpb27lg3sm\n",
      "  JVM stdout: C:\\Users\\Gerd\\AppData\\Local\\Temp\\tmpb27lg3sm\\h2o_Gerd_started_from_python.out\n",
      "  JVM stderr: C:\\Users\\Gerd\\AppData\\Local\\Temp\\tmpb27lg3sm\\h2o_Gerd_started_from_python.err\n",
      "  Server is running at http://127.0.0.1:54321\n",
      "Connecting to H2O server at http://127.0.0.1:54321 ... successful.\n"
     ]
    },
    {
     "data": {
      "text/html": [
       "<div style=\"overflow:auto\"><table style=\"width:50%\"><tr><td>H2O_cluster_uptime:</td>\n",
       "<td>01 secs</td></tr>\n",
       "<tr><td>H2O_cluster_timezone:</td>\n",
       "<td>Europe/Berlin</td></tr>\n",
       "<tr><td>H2O_data_parsing_timezone:</td>\n",
       "<td>UTC</td></tr>\n",
       "<tr><td>H2O_cluster_version:</td>\n",
       "<td>3.32.1.1</td></tr>\n",
       "<tr><td>H2O_cluster_version_age:</td>\n",
       "<td>2 months and 10 days </td></tr>\n",
       "<tr><td>H2O_cluster_name:</td>\n",
       "<td>H2O_from_python_Gerd_i8jn27</td></tr>\n",
       "<tr><td>H2O_cluster_total_nodes:</td>\n",
       "<td>1</td></tr>\n",
       "<tr><td>H2O_cluster_free_memory:</td>\n",
       "<td>3.975 Gb</td></tr>\n",
       "<tr><td>H2O_cluster_total_cores:</td>\n",
       "<td>16</td></tr>\n",
       "<tr><td>H2O_cluster_allowed_cores:</td>\n",
       "<td>16</td></tr>\n",
       "<tr><td>H2O_cluster_status:</td>\n",
       "<td>accepting new members, healthy</td></tr>\n",
       "<tr><td>H2O_connection_url:</td>\n",
       "<td>http://127.0.0.1:54321</td></tr>\n",
       "<tr><td>H2O_connection_proxy:</td>\n",
       "<td>{\"http\": null, \"https\": null}</td></tr>\n",
       "<tr><td>H2O_internal_security:</td>\n",
       "<td>False</td></tr>\n",
       "<tr><td>H2O_API_Extensions:</td>\n",
       "<td>Amazon S3, Algos, AutoML, Core V3, TargetEncoder, Core V4</td></tr>\n",
       "<tr><td>Python_version:</td>\n",
       "<td>3.9.0 final</td></tr></table></div>"
      ],
      "text/plain": [
       "--------------------------  ---------------------------------------------------------\n",
       "H2O_cluster_uptime:         01 secs\n",
       "H2O_cluster_timezone:       Europe/Berlin\n",
       "H2O_data_parsing_timezone:  UTC\n",
       "H2O_cluster_version:        3.32.1.1\n",
       "H2O_cluster_version_age:    2 months and 10 days\n",
       "H2O_cluster_name:           H2O_from_python_Gerd_i8jn27\n",
       "H2O_cluster_total_nodes:    1\n",
       "H2O_cluster_free_memory:    3.975 Gb\n",
       "H2O_cluster_total_cores:    16\n",
       "H2O_cluster_allowed_cores:  16\n",
       "H2O_cluster_status:         accepting new members, healthy\n",
       "H2O_connection_url:         http://127.0.0.1:54321\n",
       "H2O_connection_proxy:       {\"http\": null, \"https\": null}\n",
       "H2O_internal_security:      False\n",
       "H2O_API_Extensions:         Amazon S3, Algos, AutoML, Core V3, TargetEncoder, Core V4\n",
       "Python_version:             3.9.0 final\n",
       "--------------------------  ---------------------------------------------------------"
      ]
     },
     "metadata": {},
     "output_type": "display_data"
    }
   ],
   "source": [
    "h2o.init()"
   ]
  },
  {
   "cell_type": "code",
   "execution_count": 3,
   "id": "pediatric-hayes",
   "metadata": {},
   "outputs": [
    {
     "name": "stdout",
     "output_type": "stream",
     "text": [
      "Parse progress: |█████████████████████████████████████████████████████████| 100%\n"
     ]
    }
   ],
   "source": [
    "data = h2o.import_file('http://h2o-public-test-data.s3.amazonaws.com/smalldata/airlines/allyears2k_headers.zip')\n",
    "dataframe = data.as_data_frame()"
   ]
  },
  {
   "cell_type": "code",
   "execution_count": 4,
   "id": "regional-season",
   "metadata": {
    "tags": []
   },
   "outputs": [
    {
     "data": {
      "text/html": [
       "<table>\n",
       "<thead>\n",
       "<tr><th>       </th><th>Year              </th><th>Month             </th><th>DayofMonth        </th><th>DayOfWeek         </th><th>DepTime          </th><th>CRSDepTime        </th><th>ArrTime          </th><th>CRSArrTime        </th><th>UniqueCarrier  </th><th>FlightNum        </th><th>TailNum  </th><th>ActualElapsedTime  </th><th>CRSElapsedTime    </th><th>AirTime           </th><th>ArrDelay          </th><th>DepDelay          </th><th>Origin  </th><th>Dest  </th><th>Distance         </th><th>TaxiIn           </th><th>TaxiOut          </th><th>Cancelled           </th><th>CancellationCode  </th><th>Diverted             </th><th>CarrierDelay     </th><th>WeatherDelay      </th><th>NASDelay          </th><th>SecurityDelay     </th><th>LateAircraftDelay  </th><th>IsArrDelayed  </th><th>IsDepDelayed  </th></tr>\n",
       "</thead>\n",
       "<tbody>\n",
       "<tr><td>type   </td><td>int               </td><td>int               </td><td>int               </td><td>int               </td><td>int              </td><td>int               </td><td>int              </td><td>int               </td><td>enum           </td><td>int              </td><td>enum     </td><td>int                </td><td>int               </td><td>int               </td><td>int               </td><td>int               </td><td>enum    </td><td>enum  </td><td>int              </td><td>int              </td><td>int              </td><td>int                 </td><td>enum              </td><td>int                  </td><td>int              </td><td>int               </td><td>int               </td><td>int               </td><td>int                </td><td>enum          </td><td>enum          </td></tr>\n",
       "<tr><td>mins   </td><td>1987.0            </td><td>1.0               </td><td>1.0               </td><td>1.0               </td><td>1.0              </td><td>0.0               </td><td>1.0              </td><td>0.0               </td><td>               </td><td>1.0              </td><td>         </td><td>16.0               </td><td>17.0              </td><td>14.0              </td><td>-63.0             </td><td>-16.0             </td><td>        </td><td>      </td><td>11.0             </td><td>0.0              </td><td>0.0              </td><td>0.0                 </td><td>                  </td><td>0.0                  </td><td>0.0              </td><td>0.0               </td><td>0.0               </td><td>0.0               </td><td>0.0                </td><td>              </td><td>              </td></tr>\n",
       "<tr><td>mean   </td><td>1997.5000000000068</td><td>1.409090909090916 </td><td>14.601073263904551</td><td>3.8206148528809845</td><td>1345.846661382077</td><td>1313.2228614307262</td><td>1504.634130378886</td><td>1485.2891673109345</td><td>               </td><td>818.8429896766576</td><td>         </td><td>124.8145291354039  </td><td>125.02156260661906</td><td>114.31611109078231</td><td>9.317111936984306 </td><td>10.007390655600112</td><td>        </td><td>      </td><td>730.1821905650557</td><td>5.381368059530588</td><td>14.16863418473208</td><td>0.024694165264450407</td><td>                  </td><td>0.0024785119832643593</td><td>4.047800291055639</td><td>0.2893764692712412</td><td>4.8550319041755365</td><td>0.0170155602821001</td><td>7.620060450016796  </td><td>              </td><td>              </td></tr>\n",
       "<tr><td>maxs   </td><td>2008.0            </td><td>10.0              </td><td>31.0              </td><td>7.0               </td><td>2400.0           </td><td>2359.0            </td><td>2400.0           </td><td>2359.0            </td><td>               </td><td>3949.0           </td><td>         </td><td>475.0              </td><td>437.0             </td><td>402.0             </td><td>475.0             </td><td>473.0             </td><td>        </td><td>      </td><td>3365.0           </td><td>128.0            </td><td>254.0            </td><td>1.0                 </td><td>                  </td><td>1.0                  </td><td>369.0            </td><td>201.0             </td><td>323.0             </td><td>14.0              </td><td>373.0              </td><td>              </td><td>              </td></tr>\n",
       "<tr><td>sigma  </td><td>6.344360901707349 </td><td>1.8747113713439618</td><td>9.175790425861413 </td><td>1.9050131191329014</td><td>465.3408991242322</td><td>476.2511399926005 </td><td>484.3474879035152</td><td>492.75043412270105</td><td>               </td><td>777.4043691636341</td><td>         </td><td>73.97444166059017  </td><td>73.40159463000951 </td><td>69.6363295150612  </td><td>29.840221962414837</td><td>26.438809042916418</td><td>        </td><td>      </td><td>578.4380082304235</td><td>4.201979939864826</td><td>9.905085747204279</td><td>0.15519314135784237 </td><td>                  </td><td>0.049723487218862286 </td><td>16.2057299044842 </td><td>4.416779898734125 </td><td>18.619776221475654</td><td>0.403940182101512 </td><td>23.48756587410621  </td><td>              </td><td>              </td></tr>\n",
       "<tr><td>zeros  </td><td>0                 </td><td>0                 </td><td>0                 </td><td>0                 </td><td>0                </td><td>569               </td><td>0                </td><td>569               </td><td>               </td><td>0                </td><td>         </td><td>0                  </td><td>0                 </td><td>0                 </td><td>1514              </td><td>6393              </td><td>        </td><td>      </td><td>0                </td><td>623              </td><td>557              </td><td>42892               </td><td>                  </td><td>43869                </td><td>7344             </td><td>8840              </td><td>7388              </td><td>8914              </td><td>7140               </td><td>              </td><td>              </td></tr>\n",
       "<tr><td>missing</td><td>0                 </td><td>0                 </td><td>0                 </td><td>0                 </td><td>1086             </td><td>0                 </td><td>1195             </td><td>0                 </td><td>0              </td><td>0                </td><td>32       </td><td>1195               </td><td>13                </td><td>16649             </td><td>1195              </td><td>1086              </td><td>0       </td><td>0     </td><td>35               </td><td>16026            </td><td>16024            </td><td>0                   </td><td>9774              </td><td>0                    </td><td>35045            </td><td>35045             </td><td>35045             </td><td>35045             </td><td>35045              </td><td>0             </td><td>0             </td></tr>\n",
       "<tr><td>0      </td><td>1987.0            </td><td>10.0              </td><td>14.0              </td><td>3.0               </td><td>741.0            </td><td>730.0             </td><td>912.0            </td><td>849.0             </td><td>PS             </td><td>1451.0           </td><td>NA       </td><td>91.0               </td><td>79.0              </td><td>nan               </td><td>23.0              </td><td>11.0              </td><td>SAN     </td><td>SFO   </td><td>447.0            </td><td>nan              </td><td>nan              </td><td>0.0                 </td><td>NA                </td><td>0.0                  </td><td>nan              </td><td>nan               </td><td>nan               </td><td>nan               </td><td>nan                </td><td>YES           </td><td>YES           </td></tr>\n",
       "<tr><td>1      </td><td>1987.0            </td><td>10.0              </td><td>15.0              </td><td>4.0               </td><td>729.0            </td><td>730.0             </td><td>903.0            </td><td>849.0             </td><td>PS             </td><td>1451.0           </td><td>NA       </td><td>94.0               </td><td>79.0              </td><td>nan               </td><td>14.0              </td><td>-1.0              </td><td>SAN     </td><td>SFO   </td><td>447.0            </td><td>nan              </td><td>nan              </td><td>0.0                 </td><td>NA                </td><td>0.0                  </td><td>nan              </td><td>nan               </td><td>nan               </td><td>nan               </td><td>nan                </td><td>YES           </td><td>NO            </td></tr>\n",
       "<tr><td>2      </td><td>1987.0            </td><td>10.0              </td><td>17.0              </td><td>6.0               </td><td>741.0            </td><td>730.0             </td><td>918.0            </td><td>849.0             </td><td>PS             </td><td>1451.0           </td><td>NA       </td><td>97.0               </td><td>79.0              </td><td>nan               </td><td>29.0              </td><td>11.0              </td><td>SAN     </td><td>SFO   </td><td>447.0            </td><td>nan              </td><td>nan              </td><td>0.0                 </td><td>NA                </td><td>0.0                  </td><td>nan              </td><td>nan               </td><td>nan               </td><td>nan               </td><td>nan                </td><td>YES           </td><td>YES           </td></tr>\n",
       "<tr><td>3      </td><td>1987.0            </td><td>10.0              </td><td>18.0              </td><td>7.0               </td><td>729.0            </td><td>730.0             </td><td>847.0            </td><td>849.0             </td><td>PS             </td><td>1451.0           </td><td>NA       </td><td>78.0               </td><td>79.0              </td><td>nan               </td><td>-2.0              </td><td>-1.0              </td><td>SAN     </td><td>SFO   </td><td>447.0            </td><td>nan              </td><td>nan              </td><td>0.0                 </td><td>NA                </td><td>0.0                  </td><td>nan              </td><td>nan               </td><td>nan               </td><td>nan               </td><td>nan                </td><td>NO            </td><td>NO            </td></tr>\n",
       "<tr><td>4      </td><td>1987.0            </td><td>10.0              </td><td>19.0              </td><td>1.0               </td><td>749.0            </td><td>730.0             </td><td>922.0            </td><td>849.0             </td><td>PS             </td><td>1451.0           </td><td>NA       </td><td>93.0               </td><td>79.0              </td><td>nan               </td><td>33.0              </td><td>19.0              </td><td>SAN     </td><td>SFO   </td><td>447.0            </td><td>nan              </td><td>nan              </td><td>0.0                 </td><td>NA                </td><td>0.0                  </td><td>nan              </td><td>nan               </td><td>nan               </td><td>nan               </td><td>nan                </td><td>YES           </td><td>YES           </td></tr>\n",
       "<tr><td>5      </td><td>1987.0            </td><td>10.0              </td><td>21.0              </td><td>3.0               </td><td>728.0            </td><td>730.0             </td><td>848.0            </td><td>849.0             </td><td>PS             </td><td>1451.0           </td><td>NA       </td><td>80.0               </td><td>79.0              </td><td>nan               </td><td>-1.0              </td><td>-2.0              </td><td>SAN     </td><td>SFO   </td><td>447.0            </td><td>nan              </td><td>nan              </td><td>0.0                 </td><td>NA                </td><td>0.0                  </td><td>nan              </td><td>nan               </td><td>nan               </td><td>nan               </td><td>nan                </td><td>NO            </td><td>NO            </td></tr>\n",
       "<tr><td>6      </td><td>1987.0            </td><td>10.0              </td><td>22.0              </td><td>4.0               </td><td>728.0            </td><td>730.0             </td><td>852.0            </td><td>849.0             </td><td>PS             </td><td>1451.0           </td><td>NA       </td><td>84.0               </td><td>79.0              </td><td>nan               </td><td>3.0               </td><td>-2.0              </td><td>SAN     </td><td>SFO   </td><td>447.0            </td><td>nan              </td><td>nan              </td><td>0.0                 </td><td>NA                </td><td>0.0                  </td><td>nan              </td><td>nan               </td><td>nan               </td><td>nan               </td><td>nan                </td><td>YES           </td><td>NO            </td></tr>\n",
       "<tr><td>7      </td><td>1987.0            </td><td>10.0              </td><td>23.0              </td><td>5.0               </td><td>731.0            </td><td>730.0             </td><td>902.0            </td><td>849.0             </td><td>PS             </td><td>1451.0           </td><td>NA       </td><td>91.0               </td><td>79.0              </td><td>nan               </td><td>13.0              </td><td>1.0               </td><td>SAN     </td><td>SFO   </td><td>447.0            </td><td>nan              </td><td>nan              </td><td>0.0                 </td><td>NA                </td><td>0.0                  </td><td>nan              </td><td>nan               </td><td>nan               </td><td>nan               </td><td>nan                </td><td>YES           </td><td>YES           </td></tr>\n",
       "<tr><td>8      </td><td>1987.0            </td><td>10.0              </td><td>24.0              </td><td>6.0               </td><td>744.0            </td><td>730.0             </td><td>908.0            </td><td>849.0             </td><td>PS             </td><td>1451.0           </td><td>NA       </td><td>84.0               </td><td>79.0              </td><td>nan               </td><td>19.0              </td><td>14.0              </td><td>SAN     </td><td>SFO   </td><td>447.0            </td><td>nan              </td><td>nan              </td><td>0.0                 </td><td>NA                </td><td>0.0                  </td><td>nan              </td><td>nan               </td><td>nan               </td><td>nan               </td><td>nan                </td><td>YES           </td><td>YES           </td></tr>\n",
       "<tr><td>9      </td><td>1987.0            </td><td>10.0              </td><td>25.0              </td><td>7.0               </td><td>729.0            </td><td>730.0             </td><td>851.0            </td><td>849.0             </td><td>PS             </td><td>1451.0           </td><td>NA       </td><td>82.0               </td><td>79.0              </td><td>nan               </td><td>2.0               </td><td>-1.0              </td><td>SAN     </td><td>SFO   </td><td>447.0            </td><td>nan              </td><td>nan              </td><td>0.0                 </td><td>NA                </td><td>0.0                  </td><td>nan              </td><td>nan               </td><td>nan               </td><td>nan               </td><td>nan                </td><td>YES           </td><td>NO            </td></tr>\n",
       "</tbody>\n",
       "</table>"
      ]
     },
     "metadata": {},
     "output_type": "display_data"
    }
   ],
   "source": [
    "data.summary()"
   ]
  },
  {
   "cell_type": "code",
   "execution_count": 5,
   "id": "interracial-newton",
   "metadata": {
    "collapsed": true,
    "jupyter": {
     "outputs_hidden": true
    },
    "tags": []
   },
   "outputs": [
    {
     "data": {
      "text/html": [
       "<table>\n",
       "<thead>\n",
       "<tr><th>       </th><th>AirTime           </th></tr>\n",
       "</thead>\n",
       "<tbody>\n",
       "<tr><td>type   </td><td>int               </td></tr>\n",
       "<tr><td>mins   </td><td>14.0              </td></tr>\n",
       "<tr><td>mean   </td><td>114.31611109078231</td></tr>\n",
       "<tr><td>maxs   </td><td>402.0             </td></tr>\n",
       "<tr><td>sigma  </td><td>69.6363295150612  </td></tr>\n",
       "<tr><td>zeros  </td><td>0                 </td></tr>\n",
       "<tr><td>missing</td><td>16649             </td></tr>\n",
       "<tr><td>0      </td><td>nan               </td></tr>\n",
       "<tr><td>1      </td><td>nan               </td></tr>\n",
       "<tr><td>2      </td><td>nan               </td></tr>\n",
       "<tr><td>3      </td><td>nan               </td></tr>\n",
       "<tr><td>4      </td><td>nan               </td></tr>\n",
       "<tr><td>5      </td><td>nan               </td></tr>\n",
       "<tr><td>6      </td><td>nan               </td></tr>\n",
       "<tr><td>7      </td><td>nan               </td></tr>\n",
       "<tr><td>8      </td><td>nan               </td></tr>\n",
       "<tr><td>9      </td><td>nan               </td></tr>\n",
       "</tbody>\n",
       "</table>"
      ]
     },
     "metadata": {},
     "output_type": "display_data"
    }
   ],
   "source": [
    "data[:, \"AirTime\"].mean()\n",
    "data[:, \"AirTime\"].summary()"
   ]
  },
  {
   "cell_type": "code",
   "execution_count": 9,
   "id": "guilty-lambda",
   "metadata": {
    "collapsed": true,
    "jupyter": {
     "outputs_hidden": true
    },
    "tags": []
   },
   "outputs": [
    {
     "data": {
      "image/png": "[encoded data removed]",
      "text/plain": [
       "<Figure size 432x288 with 1 Axes>"
      ]
     },
     "metadata": {
      "needs_background": "light"
     },
     "output_type": "display_data"
    }
   ],
   "source": [
    "data[:,\"AirTime\"].hist()"
   ]
  },
  {
   "cell_type": "code",
   "execution_count": 10,
   "id": "accredited-process",
   "metadata": {
    "tags": []
   },
   "outputs": [
    {
     "data": {
      "text/html": [
       "<table>\n",
       "<thead>\n",
       "<tr><th>       </th><th>ArrDelay          </th></tr>\n",
       "</thead>\n",
       "<tbody>\n",
       "<tr><td>type   </td><td>int               </td></tr>\n",
       "<tr><td>mins   </td><td>-63.0             </td></tr>\n",
       "<tr><td>mean   </td><td>9.317111936984306 </td></tr>\n",
       "<tr><td>maxs   </td><td>475.0             </td></tr>\n",
       "<tr><td>sigma  </td><td>29.840221962414837</td></tr>\n",
       "<tr><td>zeros  </td><td>1514              </td></tr>\n",
       "<tr><td>missing</td><td>1195              </td></tr>\n",
       "<tr><td>0      </td><td>23.0              </td></tr>\n",
       "<tr><td>1      </td><td>14.0              </td></tr>\n",
       "<tr><td>2      </td><td>29.0              </td></tr>\n",
       "<tr><td>3      </td><td>-2.0              </td></tr>\n",
       "<tr><td>4      </td><td>33.0              </td></tr>\n",
       "<tr><td>5      </td><td>-1.0              </td></tr>\n",
       "<tr><td>6      </td><td>3.0               </td></tr>\n",
       "<tr><td>7      </td><td>13.0              </td></tr>\n",
       "<tr><td>8      </td><td>19.0              </td></tr>\n",
       "<tr><td>9      </td><td>2.0               </td></tr>\n",
       "</tbody>\n",
       "</table>"
      ]
     },
     "metadata": {},
     "output_type": "display_data"
    }
   ],
   "source": [
    "data[:, \"ArrDelay\"].summary()"
   ]
  },
  {
   "cell_type": "code",
   "execution_count": null,
   "id": "optical-battlefield",
   "metadata": {},
   "outputs": [],
   "source": []
  },
  {
   "cell_type": "code",
   "execution_count": null,
   "id": "hazardous-saskatchewan",
   "metadata": {},
   "outputs": [],
   "source": []
  },
  {
   "cell_type": "code",
   "execution_count": null,
   "id": "dress-venue",
   "metadata": {},
   "outputs": [],
   "source": []
  },
  {
   "cell_type": "code",
   "execution_count": 1,
   "id": "greek-polish",
   "metadata": {
    "collapsed": true,
    "jupyter": {
     "outputs_hidden": true
    },
    "tags": []
   },
   "outputs": [
    {
     "ename": "NameError",
     "evalue": "name 'h2o' is not defined",
     "output_type": "error",
     "traceback": [
      "\u001b[1;31m---------------------------------------------------------------------------\u001b[0m",
      "\u001b[1;31mNameError\u001b[0m                                 Traceback (most recent call last)",
      "\u001b[1;32m<ipython-input-1-f9d18c6de9be>\u001b[0m in \u001b[0;36m<module>\u001b[1;34m\u001b[0m\n\u001b[0;32m      2\u001b[0m \u001b[1;31m# shut down the h2o client cluster\u001b[0m\u001b[1;33m\u001b[0m\u001b[1;33m\u001b[0m\u001b[1;33m\u001b[0m\u001b[0m\n\u001b[0;32m      3\u001b[0m \u001b[1;31m#\u001b[0m\u001b[1;33m\u001b[0m\u001b[1;33m\u001b[0m\u001b[1;33m\u001b[0m\u001b[0m\n\u001b[1;32m----> 4\u001b[1;33m \u001b[0mh2o\u001b[0m\u001b[1;33m.\u001b[0m\u001b[0mcluster\u001b[0m\u001b[1;33m(\u001b[0m\u001b[1;33m)\u001b[0m\u001b[1;33m.\u001b[0m\u001b[0mshutdown\u001b[0m\u001b[1;33m(\u001b[0m\u001b[1;33m)\u001b[0m\u001b[1;33m\u001b[0m\u001b[1;33m\u001b[0m\u001b[0m\n\u001b[0m",
      "\u001b[1;31mNameError\u001b[0m: name 'h2o' is not defined"
     ]
    }
   ],
   "source": [
    "#\n",
    "# shut down the h2o client cluster\n",
    "#\n",
    "h2o.cluster().shutdown()"
   ]
  },
  {
   "cell_type": "code",
   "execution_count": null,
   "id": "tutorial-sending",
   "metadata": {},
   "outputs": [],
   "source": []
  }
 ],
 "metadata": {
  "kernelspec": {
   "display_name": "Python 3",
   "language": "python",
   "name": "python3"
  },
  "language_info": {
   "codemirror_mode": {
    "name": "ipython",
    "version": 3
   },
   "file_extension": ".py",
   "mimetype": "text/x-python",
   "name": "python",
   "nbconvert_exporter": "python",
   "pygments_lexer": "ipython3",
   "version": "3.9.0"
  }
 },
 "nbformat": 4,
 "nbformat_minor": 5
}
