{
 "cells": [
  {
   "cell_type": "code",
   "execution_count": 1,
   "id": "347ffd0c-a744-4f11-a20b-c4cb2b8e78da",
   "metadata": {},
   "outputs": [
    {
     "name": "stdout",
     "output_type": "stream",
     "text": [
      "Checking whether there is an H2O instance running at http://localhost:54321 ..... not found.\n",
      "Attempting to start a local H2O server...\n",
      "  Java Version: openjdk version \"11.0.4\" 2019-07-16; OpenJDK Runtime Environment AdoptOpenJDK (build 11.0.4+11); OpenJDK 64-Bit Server VM AdoptOpenJDK (build 11.0.4+11, mixed mode)\n",
      "  Starting server from /opt/anaconda3/envs/h2oprod-py3.8/lib/python3.8/site-packages/h2o/backend/bin/h2o.jar\n",
      "  Ice root: /var/folders/5j/hpc15scd6nx23pl4x9tzr2mw0000gp/T/tmp648hjimy\n",
      "  JVM stdout: /var/folders/5j/hpc15scd6nx23pl4x9tzr2mw0000gp/T/tmp648hjimy/h2o_gerd_started_from_python.out\n",
      "  JVM stderr: /var/folders/5j/hpc15scd6nx23pl4x9tzr2mw0000gp/T/tmp648hjimy/h2o_gerd_started_from_python.err\n",
      "  Server is running at http://127.0.0.1:54321\n",
      "Connecting to H2O server at http://127.0.0.1:54321 ... successful.\n"
     ]
    },
    {
     "data": {
      "text/html": [
       "<div style=\"overflow:auto\"><table style=\"width:50%\"><tr><td>H2O_cluster_uptime:</td>\n",
       "<td>03 secs</td></tr>\n",
       "<tr><td>H2O_cluster_timezone:</td>\n",
       "<td>Europe/Vienna</td></tr>\n",
       "<tr><td>H2O_data_parsing_timezone:</td>\n",
       "<td>UTC</td></tr>\n",
       "<tr><td>H2O_cluster_version:</td>\n",
       "<td>3.32.1.3</td></tr>\n",
       "<tr><td>H2O_cluster_version_age:</td>\n",
       "<td>11 days </td></tr>\n",
       "<tr><td>H2O_cluster_name:</td>\n",
       "<td>H2O_from_python_gerd_p5ad06</td></tr>\n",
       "<tr><td>H2O_cluster_total_nodes:</td>\n",
       "<td>1</td></tr>\n",
       "<tr><td>H2O_cluster_free_memory:</td>\n",
       "<td>2 Gb</td></tr>\n",
       "<tr><td>H2O_cluster_total_cores:</td>\n",
       "<td>4</td></tr>\n",
       "<tr><td>H2O_cluster_allowed_cores:</td>\n",
       "<td>4</td></tr>\n",
       "<tr><td>H2O_cluster_status:</td>\n",
       "<td>accepting new members, healthy</td></tr>\n",
       "<tr><td>H2O_connection_url:</td>\n",
       "<td>http://127.0.0.1:54321</td></tr>\n",
       "<tr><td>H2O_connection_proxy:</td>\n",
       "<td>{\"http\": null, \"https\": null}</td></tr>\n",
       "<tr><td>H2O_internal_security:</td>\n",
       "<td>False</td></tr>\n",
       "<tr><td>H2O_API_Extensions:</td>\n",
       "<td>Amazon S3, XGBoost, Algos, AutoML, Core V3, TargetEncoder, Core V4</td></tr>\n",
       "<tr><td>Python_version:</td>\n",
       "<td>3.8.8 final</td></tr></table></div>"
      ],
      "text/plain": [
       "--------------------------  ------------------------------------------------------------------\n",
       "H2O_cluster_uptime:         03 secs\n",
       "H2O_cluster_timezone:       Europe/Vienna\n",
       "H2O_data_parsing_timezone:  UTC\n",
       "H2O_cluster_version:        3.32.1.3\n",
       "H2O_cluster_version_age:    11 days\n",
       "H2O_cluster_name:           H2O_from_python_gerd_p5ad06\n",
       "H2O_cluster_total_nodes:    1\n",
       "H2O_cluster_free_memory:    2 Gb\n",
       "H2O_cluster_total_cores:    4\n",
       "H2O_cluster_allowed_cores:  4\n",
       "H2O_cluster_status:         accepting new members, healthy\n",
       "H2O_connection_url:         http://127.0.0.1:54321\n",
       "H2O_connection_proxy:       {\"http\": null, \"https\": null}\n",
       "H2O_internal_security:      False\n",
       "H2O_API_Extensions:         Amazon S3, XGBoost, Algos, AutoML, Core V3, TargetEncoder, Core V4\n",
       "Python_version:             3.8.8 final\n",
       "--------------------------  ------------------------------------------------------------------"
      ]
     },
     "metadata": {},
     "output_type": "display_data"
    }
   ],
   "source": [
    "#!/usr/bin/env python\n",
    "# coding: utf-8\n",
    "\n",
    "# In[1]:\n",
    "\n",
    "\n",
    "import h2o\n",
    "import numpy as np\n",
    "import pandas as pd\n",
    "import matplotlib.pyplot as plt\n",
    "\n",
    "from h2o.estimators.gbm import H2OGradientBoostingEstimator\n",
    "\n",
    "h2o.init()\n",
    "\n"
   ]
  },
  {
   "cell_type": "code",
   "execution_count": 2,
   "id": "3ae67106-6f2a-43d6-962d-93eba09b4cb6",
   "metadata": {},
   "outputs": [],
   "source": [
    "\n",
    "# In[2]:\n",
    "\n",
    "\n",
    "N = 1000\n",
    "bloodTypes = ['A', 'O', 'AB', 'B']\n",
    "np.random.seed(1)\n",
    "\n",
    "id = range(0,N)\n",
    "bloodTypesSample = [bloodTypes[z] for z in np.random.randint(0, 4, N)]\n",
    "age = np.random.randint(18, 65, N)\n",
    "healthyEating = np.round(np.random.normal(5, 2, N),0)\n",
    "activeLifestyle = np.round(np.random.normal(5, 2, N),0)\n",
    "\n",
    "for i in range(0,N):\n",
    "    if healthyEating[i] > 9.:\n",
    "        healthyEating[i] = 9\n",
    "    if healthyEating[i] < 0.:\n",
    "        healthyEating[i] = 0\n",
    "\n",
    "for i in range(0,N):\n",
    "    if age[i] < 30:\n",
    "        activeLifestyle[i]+=1\n",
    "    if activeLifestyle[i] > 9.:\n",
    "        activeLifestyle[i] = 9\n",
    "    if activeLifestyle[i] < 0.:\n",
    "        activeLifestyle[i] = 0\n",
    "\n",
    "income = [round(20000 + (age[i]*3)**2 + healthyEating[i] * 500 - activeLifestyle[i] * 300 + np.random.randint(0, 5000), -2)\n",
    "             for i in range(0,N)]\n",
    "\n"
   ]
  },
  {
   "cell_type": "code",
   "execution_count": 3,
   "id": "b0c9f2ff-7763-431d-bbe9-81f2af633bf5",
   "metadata": {},
   "outputs": [
    {
     "name": "stdout",
     "output_type": "stream",
     "text": [
      "Parse progress: |█████████████████████████████████████████████████████████| 100%\n"
     ]
    }
   ],
   "source": [
    "\n",
    "# In[3]:\n",
    "\n",
    "\n",
    "people = pd.DataFrame({\n",
    "    'Id':id,\n",
    "    'Blood Type':bloodTypesSample, \n",
    "    'Age':age, \n",
    "    'Healthy Eating':healthyEating, \n",
    "    'Active Lifestyle':activeLifestyle, \n",
    "    'Income':income\n",
    "})\n",
    "\n",
    "people = h2o.H2OFrame(\n",
    "    people\n",
    "    )\n",
    "\n"
   ]
  },
  {
   "cell_type": "code",
   "execution_count": 4,
   "id": "109e31a2-f4bc-4ba8-9c05-1f6230389f25",
   "metadata": {},
   "outputs": [
    {
     "name": "stdout",
     "output_type": "stream",
     "text": [
      "Rows:1000\n",
      "Cols:6\n",
      "\n",
      "\n"
     ]
    },
    {
     "data": {
      "text/html": [
       "<table>\n",
       "<thead>\n",
       "<tr><th>       </th><th>Id               </th><th>Blood Type  </th><th>Age               </th><th>Healthy Eating    </th><th>Active Lifestyle  </th><th>Income            </th></tr>\n",
       "</thead>\n",
       "<tbody>\n",
       "<tr><td>type   </td><td>int              </td><td>enum        </td><td>int               </td><td>int               </td><td>int               </td><td>int               </td></tr>\n",
       "<tr><td>mins   </td><td>0.0              </td><td>            </td><td>18.0              </td><td>0.0               </td><td>0.0               </td><td>22500.0           </td></tr>\n",
       "<tr><td>mean   </td><td>499.5            </td><td>            </td><td>40.846000000000075</td><td>4.983999999999992 </td><td>5.313000000000001 </td><td>39972.09999999998 </td></tr>\n",
       "<tr><td>maxs   </td><td>999.0            </td><td>            </td><td>64.0              </td><td>9.0               </td><td>9.0               </td><td>64600.0           </td></tr>\n",
       "<tr><td>sigma  </td><td>288.8194360957494</td><td>            </td><td>13.420670564409152</td><td>2.0317164841266284</td><td>1.9382434800065216</td><td>10193.543049887505</td></tr>\n",
       "<tr><td>zeros  </td><td>1                </td><td>            </td><td>0                 </td><td>16                </td><td>8                 </td><td>0                 </td></tr>\n",
       "<tr><td>missing</td><td>0                </td><td>0           </td><td>0                 </td><td>0                 </td><td>0                 </td><td>0                 </td></tr>\n",
       "<tr><td>0      </td><td>0.0              </td><td>O           </td><td>22.0              </td><td>5.0               </td><td>5.0               </td><td>30100.0           </td></tr>\n",
       "<tr><td>1      </td><td>1.0              </td><td>B           </td><td>27.0              </td><td>8.0               </td><td>4.0               </td><td>31300.0           </td></tr>\n",
       "<tr><td>2      </td><td>2.0              </td><td>A           </td><td>18.0              </td><td>6.0               </td><td>5.0               </td><td>27900.0           </td></tr>\n",
       "<tr><td>3      </td><td>3.0              </td><td>A           </td><td>44.0              </td><td>3.0               </td><td>3.0               </td><td>40700.0           </td></tr>\n",
       "<tr><td>4      </td><td>4.0              </td><td>B           </td><td>39.0              </td><td>4.0               </td><td>6.0               </td><td>36300.0           </td></tr>\n",
       "<tr><td>5      </td><td>5.0              </td><td>O           </td><td>28.0              </td><td>8.0               </td><td>5.0               </td><td>33200.0           </td></tr>\n",
       "<tr><td>6      </td><td>6.0              </td><td>B           </td><td>39.0              </td><td>4.0               </td><td>7.0               </td><td>33900.0           </td></tr>\n",
       "<tr><td>7      </td><td>7.0              </td><td>O           </td><td>51.0              </td><td>7.0               </td><td>5.0               </td><td>48300.0           </td></tr>\n",
       "<tr><td>8      </td><td>8.0              </td><td>B           </td><td>56.0              </td><td>7.0               </td><td>7.0               </td><td>53200.0           </td></tr>\n",
       "<tr><td>9      </td><td>9.0              </td><td>A           </td><td>55.0              </td><td>5.0               </td><td>6.0               </td><td>48800.0           </td></tr>\n",
       "</tbody>\n",
       "</table>"
      ]
     },
     "metadata": {},
     "output_type": "display_data"
    },
    {
     "name": "stdout",
     "output_type": "stream",
     "text": [
      "gbm Model Build progress: |███████████████████████████████████████████████| 100%\n",
      "Train sample MAE: 997.2082730210977\n",
      "Validation sample MAE: 1229.7792052372718\n",
      "Perfomance MAE: 1254.4055872469512\n"
     ]
    }
   ],
   "source": [
    "\n",
    "# In[4]:\n",
    "\n",
    "\n",
    "people.describe()\n",
    "\n",
    "\n",
    "# In[5]:\n",
    "\n",
    "\n",
    "## Training to first model\n",
    "\n",
    "train, valid, test = people.split_frame(\n",
    "    ratios = [0.8, 0.1],\n",
    "    destination_frames=['people_train','people_valid','people_test'],\n",
    "    seed = 123\n",
    ")\n",
    "\n",
    "y = 'Income'\n",
    "ignoreFields = [y, 'Id']\n",
    "x = [i for i in train.names if i not in ignoreFields]\n",
    "\n",
    "ml = H2OGradientBoostingEstimator(model_id = 'defaults')\n",
    "ml.train(x, y, train, validation_frame = valid)\n",
    "\n",
    "\n",
    "print('Train sample MAE:', ml.mae(train=True))\n",
    "print('Validation sample MAE:', ml.mae(valid=True))\n",
    "\n",
    "perf = ml.model_performance(test)\n",
    "\n",
    "print('Perfomance MAE:', perf.mae()) \n",
    "\n"
   ]
  },
  {
   "cell_type": "code",
   "execution_count": 13,
   "id": "bf69d764-7e2a-491c-9cec-32a5228e4a98",
   "metadata": {},
   "outputs": [
    {
     "name": "stdout",
     "output_type": "stream",
     "text": [
      "gbm Model Build progress: |███████████████████████████████████████████████| 100%\n",
      "Train sample MAE: 894.9269288348668\n",
      "Validation sample MAE: 1374.0514820377552\n",
      "Perfomance MAE: 1316.0259646207978\n"
     ]
    }
   ],
   "source": [
    "\n",
    "# In[6]:\n",
    "\n",
    "\n",
    "## Training the second model (cross-validation)\n",
    "\n",
    "train_cv, test_cv = people.split_frame(\n",
    "    ratios = [0.85],\n",
    "    destination_frames=['people_train_cv','people_test_cv'],\n",
    "    seed = 123\n",
    ")\n",
    "\n",
    "\n",
    "ml_cv = H2OGradientBoostingEstimator(model_id = 'def9folds', ntrees=150, nfolds = 8, max_depth=5, learn_rate=0.1)\n",
    "ml_cv.train(x, y, train)\n",
    "\n",
    "print('Train sample MAE:', ml_cv.mae(train=True))\n",
    "print('Validation sample MAE:', ml_cv.mae(xval=True))\n",
    "\n",
    "perf_cv = ml_cv.model_performance(test)\n",
    "print('Perfomance MAE:', perf_cv.mae()) \n",
    "\n"
   ]
  },
  {
   "cell_type": "code",
   "execution_count": null,
   "id": "746c6f94-99d6-4131-97df-71abfe87f6c6",
   "metadata": {},
   "outputs": [],
   "source": []
  }
 ],
 "metadata": {
  "kernelspec": {
   "display_name": "Python 3",
   "language": "python",
   "name": "python3"
  },
  "language_info": {
   "codemirror_mode": {
    "name": "ipython",
    "version": 3
   },
   "file_extension": ".py",
   "mimetype": "text/x-python",
   "name": "python",
   "nbconvert_exporter": "python",
   "pygments_lexer": "ipython3",
   "version": "3.8.8"
  }
 },
 "nbformat": 4,
 "nbformat_minor": 5
}
