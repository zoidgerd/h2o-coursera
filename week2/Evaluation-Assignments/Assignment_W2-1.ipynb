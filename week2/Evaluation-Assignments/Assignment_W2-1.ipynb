{
 "cells": [
  {
   "cell_type": "code",
   "execution_count": 1,
   "metadata": {},
   "outputs": [],
   "source": [
    "import numpy as np\n",
    "import pandas as pd\n",
    "import matplotlib.pyplot as plt\n",
    "import h2o"
   ]
  },
  {
   "cell_type": "code",
   "execution_count": 2,
   "metadata": {},
   "outputs": [],
   "source": [
    "# data set cration\n",
    "\n",
    "np.random.seed(2021)\n",
    "n=5000\n",
    "\n",
    "# independent variables\n",
    "gender=['Female','Male']\n",
    "d = pd.DataFrame({'gender':np.random.choice(gender, n)})\n",
    "\n",
    "marital_status=['Single','Single','Single','Single','Married','Married','Married','Married','Divorced','Widowed']\n",
    "d['marital_status']=[x for x in np.random.choice(marital_status,n)]\n",
    "\n",
    "d['age']=[int(max(x,16)) for x in np.random.normal(50,15,n)]\n",
    "d['distance']=[int(x) for x in np.random.chisquare(3,n)*10]\n",
    "d['income']=[int(x) for x in np.random.lognormal(3,1,n)*1000]\n",
    "\n",
    "# dependent variable calculation\n",
    "d['number_of_visits']=1/d['distance']*10000+1/d['age']*1000+np.sqrt(d['income'])\n",
    "d['number_of_visits'] = np.where((d['age'] < 30), d['number_of_visits']*2, d['number_of_visits']+20)\n",
    "d['number_of_visits'] = np.where(d['gender']=='Male', d['number_of_visits']+d['distance'], d['number_of_visits']+d['age']/10)\n",
    "# randomness addition\n",
    "d['number_of_visits']=d['number_of_visits']+[int(x) for x in np.random.uniform(0,2000,n)]\n",
    "d['number_of_visits']=(d['number_of_visits']/10).round(0)\n",
    "\n",
    "# id\n",
    "d.index.name='id'"
   ]
  },
  {
   "cell_type": "code",
   "execution_count": 3,
   "metadata": {},
   "outputs": [
    {
     "data": {
      "text/html": [
       "<div>\n",
       "<style scoped>\n",
       "    .dataframe tbody tr th:only-of-type {\n",
       "        vertical-align: middle;\n",
       "    }\n",
       "\n",
       "    .dataframe tbody tr th {\n",
       "        vertical-align: top;\n",
       "    }\n",
       "\n",
       "    .dataframe thead th {\n",
       "        text-align: right;\n",
       "    }\n",
       "</style>\n",
       "<table border=\"1\" class=\"dataframe\">\n",
       "  <thead>\n",
       "    <tr style=\"text-align: right;\">\n",
       "      <th></th>\n",
       "      <th>gender</th>\n",
       "      <th>marital_status</th>\n",
       "      <th>age</th>\n",
       "      <th>distance</th>\n",
       "      <th>income</th>\n",
       "      <th>number_of_visits</th>\n",
       "    </tr>\n",
       "    <tr>\n",
       "      <th>id</th>\n",
       "      <th></th>\n",
       "      <th></th>\n",
       "      <th></th>\n",
       "      <th></th>\n",
       "      <th></th>\n",
       "      <th></th>\n",
       "    </tr>\n",
       "  </thead>\n",
       "  <tbody>\n",
       "    <tr>\n",
       "      <th>0</th>\n",
       "      <td>Female</td>\n",
       "      <td>Married</td>\n",
       "      <td>29</td>\n",
       "      <td>29</td>\n",
       "      <td>35237</td>\n",
       "      <td>250.0</td>\n",
       "    </tr>\n",
       "    <tr>\n",
       "      <th>1</th>\n",
       "      <td>Male</td>\n",
       "      <td>Single</td>\n",
       "      <td>53</td>\n",
       "      <td>40</td>\n",
       "      <td>6496</td>\n",
       "      <td>186.0</td>\n",
       "    </tr>\n",
       "    <tr>\n",
       "      <th>2</th>\n",
       "      <td>Male</td>\n",
       "      <td>Divorced</td>\n",
       "      <td>52</td>\n",
       "      <td>6</td>\n",
       "      <td>26879</td>\n",
       "      <td>245.0</td>\n",
       "    </tr>\n",
       "    <tr>\n",
       "      <th>3</th>\n",
       "      <td>Female</td>\n",
       "      <td>Single</td>\n",
       "      <td>62</td>\n",
       "      <td>26</td>\n",
       "      <td>92467</td>\n",
       "      <td>111.0</td>\n",
       "    </tr>\n",
       "    <tr>\n",
       "      <th>4</th>\n",
       "      <td>Male</td>\n",
       "      <td>Married</td>\n",
       "      <td>56</td>\n",
       "      <td>47</td>\n",
       "      <td>13071</td>\n",
       "      <td>207.0</td>\n",
       "    </tr>\n",
       "  </tbody>\n",
       "</table>\n",
       "</div>"
      ],
      "text/plain": [
       "    gender marital_status  age  distance  income  number_of_visits\n",
       "id                                                                \n",
       "0   Female        Married   29        29   35237             250.0\n",
       "1     Male         Single   53        40    6496             186.0\n",
       "2     Male       Divorced   52         6   26879             245.0\n",
       "3   Female         Single   62        26   92467             111.0\n",
       "4     Male        Married   56        47   13071             207.0"
      ]
     },
     "execution_count": 3,
     "metadata": {},
     "output_type": "execute_result"
    }
   ],
   "source": [
    "d.head()"
   ]
  },
  {
   "cell_type": "code",
   "execution_count": 4,
   "metadata": {
    "scrolled": true
   },
   "outputs": [
    {
     "data": {
      "text/plain": [
       "[<matplotlib.lines.Line2D at 0x156f06282b0>]"
      ]
     },
     "execution_count": 4,
     "metadata": {},
     "output_type": "execute_result"
    },
    {
     "data": {
      "image/png": "[encoded data removed]",
      "text/plain": [
       "<Figure size 432x288 with 1 Axes>"
      ]
     },
     "metadata": {
      "needs_background": "light"
     },
     "output_type": "display_data"
    }
   ],
   "source": [
    "# target visualisation\n",
    "plt.plot(d['number_of_visits'])"
   ]
  },
  {
   "cell_type": "code",
   "execution_count": 5,
   "metadata": {
    "scrolled": true
   },
   "outputs": [
    {
     "name": "stdout",
     "output_type": "stream",
     "text": [
      "Checking whether there is an H2O instance running at http://localhost:54321 ..... not found.\n",
      "Attempting to start a local H2O server...\n",
      "; Java HotSpot(TM) 64-Bit Server VM 18.9 (build 11.0.11+9-LTS-194, mixed mode)\n",
      "  Starting server from C:\\Users\\Gerd\\venvs\\h2o\\Lib\\site-packages\\h2o\\backend\\bin\\h2o.jar\n",
      "  Ice root: C:\\Users\\Gerd\\AppData\\Local\\Temp\\tmpmces0tde\n",
      "  JVM stdout: C:\\Users\\Gerd\\AppData\\Local\\Temp\\tmpmces0tde\\h2o_Gerd_started_from_python.out\n",
      "  JVM stderr: C:\\Users\\Gerd\\AppData\\Local\\Temp\\tmpmces0tde\\h2o_Gerd_started_from_python.err\n",
      "  Server is running at http://127.0.0.1:54321\n",
      "Connecting to H2O server at http://127.0.0.1:54321 ... successful.\n"
     ]
    },
    {
     "data": {
      "text/html": [
       "<div style=\"overflow:auto\"><table style=\"width:50%\"><tr><td>H2O_cluster_uptime:</td>\n",
       "<td>01 secs</td></tr>\n",
       "<tr><td>H2O_cluster_timezone:</td>\n",
       "<td>Europe/Berlin</td></tr>\n",
       "<tr><td>H2O_data_parsing_timezone:</td>\n",
       "<td>UTC</td></tr>\n",
       "<tr><td>H2O_cluster_version:</td>\n",
       "<td>3.32.1.1</td></tr>\n",
       "<tr><td>H2O_cluster_version_age:</td>\n",
       "<td>2 months and 5 days </td></tr>\n",
       "<tr><td>H2O_cluster_name:</td>\n",
       "<td>H2O_from_python_Gerd_1iryoa</td></tr>\n",
       "<tr><td>H2O_cluster_total_nodes:</td>\n",
       "<td>1</td></tr>\n",
       "<tr><td>H2O_cluster_free_memory:</td>\n",
       "<td>3.975 Gb</td></tr>\n",
       "<tr><td>H2O_cluster_total_cores:</td>\n",
       "<td>16</td></tr>\n",
       "<tr><td>H2O_cluster_allowed_cores:</td>\n",
       "<td>16</td></tr>\n",
       "<tr><td>H2O_cluster_status:</td>\n",
       "<td>accepting new members, healthy</td></tr>\n",
       "<tr><td>H2O_connection_url:</td>\n",
       "<td>http://127.0.0.1:54321</td></tr>\n",
       "<tr><td>H2O_connection_proxy:</td>\n",
       "<td>{\"http\": null, \"https\": null}</td></tr>\n",
       "<tr><td>H2O_internal_security:</td>\n",
       "<td>False</td></tr>\n",
       "<tr><td>H2O_API_Extensions:</td>\n",
       "<td>Amazon S3, Algos, AutoML, Core V3, TargetEncoder, Core V4</td></tr>\n",
       "<tr><td>Python_version:</td>\n",
       "<td>3.9.0 final</td></tr></table></div>"
      ],
      "text/plain": [
       "--------------------------  ---------------------------------------------------------\n",
       "H2O_cluster_uptime:         01 secs\n",
       "H2O_cluster_timezone:       Europe/Berlin\n",
       "H2O_data_parsing_timezone:  UTC\n",
       "H2O_cluster_version:        3.32.1.1\n",
       "H2O_cluster_version_age:    2 months and 5 days\n",
       "H2O_cluster_name:           H2O_from_python_Gerd_1iryoa\n",
       "H2O_cluster_total_nodes:    1\n",
       "H2O_cluster_free_memory:    3.975 Gb\n",
       "H2O_cluster_total_cores:    16\n",
       "H2O_cluster_allowed_cores:  16\n",
       "H2O_cluster_status:         accepting new members, healthy\n",
       "H2O_connection_url:         http://127.0.0.1:54321\n",
       "H2O_connection_proxy:       {\"http\": null, \"https\": null}\n",
       "H2O_internal_security:      False\n",
       "H2O_API_Extensions:         Amazon S3, Algos, AutoML, Core V3, TargetEncoder, Core V4\n",
       "Python_version:             3.9.0 final\n",
       "--------------------------  ---------------------------------------------------------"
      ]
     },
     "metadata": {},
     "output_type": "display_data"
    }
   ],
   "source": [
    "# h2o initialisation\n",
    "h2o.init()"
   ]
  },
  {
   "cell_type": "code",
   "execution_count": 6,
   "metadata": {},
   "outputs": [
    {
     "name": "stdout",
     "output_type": "stream",
     "text": [
      "Parse progress: |█████████████████████████████████████████████████████████| 100%\n"
     ]
    }
   ],
   "source": [
    "# data import\n",
    "d=h2o.H2OFrame(d)"
   ]
  },
  {
   "cell_type": "code",
   "execution_count": 7,
   "metadata": {},
   "outputs": [],
   "source": [
    "# data split\n",
    "train, valid, test = d.split_frame(ratios=[0.7,0.15],seed=19)"
   ]
  },
  {
   "cell_type": "code",
   "execution_count": 8,
   "metadata": {},
   "outputs": [
    {
     "data": {
      "text/plain": [
       "['gender', 'marital_status', 'age', 'distance', 'income']"
      ]
     },
     "execution_count": 8,
     "metadata": {},
     "output_type": "execute_result"
    }
   ],
   "source": [
    "y='number_of_visits'\n",
    "x=d.columns[:5]\n",
    "x"
   ]
  },
  {
   "cell_type": "code",
   "execution_count": 9,
   "metadata": {},
   "outputs": [],
   "source": [
    "from h2o.estimators.gbm import H2OGradientBoostingEstimator"
   ]
  },
  {
   "cell_type": "code",
   "execution_count": 10,
   "metadata": {},
   "outputs": [
    {
     "name": "stdout",
     "output_type": "stream",
     "text": [
      "gbm Model Build progress: |███████████████████████████████████████████████| 100%\n"
     ]
    }
   ],
   "source": [
    "# reasonable gbm model\n",
    "mgbm = H2OGradientBoostingEstimator(nfolds=10,ntrees=45,max_depth=4, )\n",
    "mgbm.train(x,y,train,model_id='first',validation_frame=valid)"
   ]
  },
  {
   "cell_type": "code",
   "execution_count": 11,
   "metadata": {
    "scrolled": true
   },
   "outputs": [
    {
     "name": "stdout",
     "output_type": "stream",
     "text": [
      "\n",
      "ModelMetricsRegression: gbm\n",
      "** Reported on train data. **\n",
      "\n",
      "MSE: 3290.701993660183\n",
      "RMSE: 57.36464062172954\n",
      "MAE: 48.92555435625857\n",
      "RMSLE: 0.3644010356692234\n",
      "Mean Residual Deviance: 3290.701993660183\n",
      "\n",
      "\n",
      "ModelMetricsRegression: gbm\n",
      "** Reported on test data. **\n",
      "\n",
      "MSE: 4066.986503056774\n",
      "RMSE: 63.77292923378049\n",
      "MAE: 51.95264106980037\n",
      "RMSLE: 0.3725840886403885\n",
      "Mean Residual Deviance: 4066.986503056774\n",
      "\n"
     ]
    }
   ],
   "source": [
    "# results on training and testing data\n",
    "print(mgbm.model_performance(train=True))\n",
    "print(mgbm.model_performance(test))"
   ]
  },
  {
   "cell_type": "code",
   "execution_count": 12,
   "metadata": {},
   "outputs": [
    {
     "name": "stdout",
     "output_type": "stream",
     "text": [
      "gbm Model Build progress: |███████████████████████████████████████████████| 100%\n"
     ]
    }
   ],
   "source": [
    "# overfitted gbm model\n",
    "mgbm2 = H2OGradientBoostingEstimator(ntrees=500,nfolds=10,max_depth=10)\n",
    "mgbm2.train(x,y,train,model_id='overfit',validation_frame=valid)"
   ]
  },
  {
   "cell_type": "code",
   "execution_count": 14,
   "metadata": {},
   "outputs": [
    {
     "name": "stdout",
     "output_type": "stream",
     "text": [
      "\n",
      "ModelMetricsRegression: gbm\n",
      "** Reported on train data. **\n",
      "\n",
      "MSE: 558.3402763139162\n",
      "RMSE: 23.629225046833767\n",
      "MAE: 18.497452692254456\n",
      "RMSLE: 0.16515857153581098\n",
      "Mean Residual Deviance: 558.3402763139162\n",
      "\n",
      "\n",
      "ModelMetricsRegression: gbm\n",
      "** Reported on test data. **\n",
      "\n",
      "MSE: 4855.748982038423\n",
      "RMSE: 69.68320444725848\n",
      "MAE: 55.87194096416413\n",
      "RMSLE: 0.40800666984702333\n",
      "Mean Residual Deviance: 4855.748982038423\n",
      "\n"
     ]
    }
   ],
   "source": [
    "# results on training and testing data\n",
    "print(mgbm2.model_performance(train=True))\n",
    "print(mgbm2.model_performance(test))"
   ]
  },
  {
   "cell_type": "code",
   "execution_count": null,
   "metadata": {},
   "outputs": [],
   "source": []
  }
 ],
 "metadata": {
  "kernelspec": {
   "display_name": "Python 3",
   "language": "python",
   "name": "python3"
  },
  "language_info": {
   "codemirror_mode": {
    "name": "ipython",
    "version": 3
   },
   "file_extension": ".py",
   "mimetype": "text/x-python",
   "name": "python",
   "nbconvert_exporter": "python",
   "pygments_lexer": "ipython3",
   "version": "3.9.0"
  }
 },
 "nbformat": 4,
 "nbformat_minor": 4
}
