{
 "cells": [
  {
   "cell_type": "code",
   "execution_count": 49,
   "metadata": {},
   "outputs": [],
   "source": [
    "import numpy as np\n",
    "import pandas as pd\n",
    "import matplotlib.pyplot as plt\n",
    "import h2o"
   ]
  },
  {
   "cell_type": "code",
   "execution_count": 230,
   "metadata": {},
   "outputs": [],
   "source": [
    "# data set cration\n",
    "\n",
    "np.random.seed(2021)\n",
    "n=5000\n",
    "\n",
    "# independent variables\n",
    "gender=['Female','Male']\n",
    "d = pd.DataFrame({'gender':np.random.choice(gender, n)})\n",
    "\n",
    "marital_status=['Single','Single','Single','Single','Married','Married','Married','Married','Divorced','Widowed']\n",
    "d['marital_status']=[x for x in np.random.choice(marital_status,n)]\n",
    "\n",
    "d['age']=[int(max(x,16)) for x in np.random.normal(50,15,n)]\n",
    "d['distance']=[int(x) for x in np.random.chisquare(3,n)*10]\n",
    "d['income']=[int(x) for x in np.random.lognormal(3,1,n)*1000]\n",
    "\n",
    "# dependent variable calculation\n",
    "d['number_of_visits']=1/d['distance']*10000+1/d['age']*1000+np.sqrt(d['income'])\n",
    "d['number_of_visits'] = np.where((d['age'] < 30), d['number_of_visits']*2, d['number_of_visits']+20)\n",
    "d['number_of_visits'] = np.where(d['gender']=='Male', d['number_of_visits']+d['distance'], d['number_of_visits']+d['age']/10)\n",
    "# randomness addition\n",
    "d['number_of_visits']=d['number_of_visits']+[int(x) for x in np.random.uniform(0,2000,n)]\n",
    "d['number_of_visits']=(d['number_of_visits']/10).round(0)\n",
    "\n",
    "# id\n",
    "d.index.name='id'"
   ]
  },
  {
   "cell_type": "code",
   "execution_count": 154,
   "metadata": {},
   "outputs": [
    {
     "data": {
      "text/html": [
       "<div>\n",
       "<style scoped>\n",
       "    .dataframe tbody tr th:only-of-type {\n",
       "        vertical-align: middle;\n",
       "    }\n",
       "\n",
       "    .dataframe tbody tr th {\n",
       "        vertical-align: top;\n",
       "    }\n",
       "\n",
       "    .dataframe thead th {\n",
       "        text-align: right;\n",
       "    }\n",
       "</style>\n",
       "<table border=\"1\" class=\"dataframe\">\n",
       "  <thead>\n",
       "    <tr style=\"text-align: right;\">\n",
       "      <th></th>\n",
       "      <th>gender</th>\n",
       "      <th>marital_status</th>\n",
       "      <th>age</th>\n",
       "      <th>distance</th>\n",
       "      <th>income</th>\n",
       "      <th>number_of_visits</th>\n",
       "    </tr>\n",
       "    <tr>\n",
       "      <th>id</th>\n",
       "      <th></th>\n",
       "      <th></th>\n",
       "      <th></th>\n",
       "      <th></th>\n",
       "      <th></th>\n",
       "      <th></th>\n",
       "    </tr>\n",
       "  </thead>\n",
       "  <tbody>\n",
       "    <tr>\n",
       "      <th>0</th>\n",
       "      <td>Male</td>\n",
       "      <td>Widowed</td>\n",
       "      <td>75</td>\n",
       "      <td>5</td>\n",
       "      <td>123134</td>\n",
       "      <td>327.0</td>\n",
       "    </tr>\n",
       "    <tr>\n",
       "      <th>1</th>\n",
       "      <td>Female</td>\n",
       "      <td>Single</td>\n",
       "      <td>20</td>\n",
       "      <td>10</td>\n",
       "      <td>6396</td>\n",
       "      <td>294.0</td>\n",
       "    </tr>\n",
       "    <tr>\n",
       "      <th>2</th>\n",
       "      <td>Male</td>\n",
       "      <td>Widowed</td>\n",
       "      <td>41</td>\n",
       "      <td>26</td>\n",
       "      <td>20399</td>\n",
       "      <td>136.0</td>\n",
       "    </tr>\n",
       "    <tr>\n",
       "      <th>3</th>\n",
       "      <td>Female</td>\n",
       "      <td>Married</td>\n",
       "      <td>51</td>\n",
       "      <td>31</td>\n",
       "      <td>29297</td>\n",
       "      <td>213.0</td>\n",
       "    </tr>\n",
       "    <tr>\n",
       "      <th>4</th>\n",
       "      <td>Female</td>\n",
       "      <td>Married</td>\n",
       "      <td>55</td>\n",
       "      <td>29</td>\n",
       "      <td>49461</td>\n",
       "      <td>186.0</td>\n",
       "    </tr>\n",
       "  </tbody>\n",
       "</table>\n",
       "</div>"
      ],
      "text/plain": [
       "    gender marital_status  age  distance  income  number_of_visits\n",
       "id                                                                \n",
       "0     Male        Widowed   75         5  123134             327.0\n",
       "1   Female         Single   20        10    6396             294.0\n",
       "2     Male        Widowed   41        26   20399             136.0\n",
       "3   Female        Married   51        31   29297             213.0\n",
       "4   Female        Married   55        29   49461             186.0"
      ]
     },
     "execution_count": 154,
     "metadata": {},
     "output_type": "execute_result"
    }
   ],
   "source": [
    "d.head()"
   ]
  },
  {
   "cell_type": "code",
   "execution_count": 155,
   "metadata": {
    "scrolled": true
   },
   "outputs": [
    {
     "data": {
      "text/plain": [
       "[<matplotlib.lines.Line2D at 0xcdd45f8>]"
      ]
     },
     "execution_count": 155,
     "metadata": {},
     "output_type": "execute_result"
    },
    {
     "data": {
      "image/png": "[encoded data removed]",
      "text/plain": [
       "<matplotlib.figure.Figure at 0xab47be0>"
      ]
     },
     "metadata": {},
     "output_type": "display_data"
    }
   ],
   "source": [
    "# target visualisation\n",
    "plt.plot(d['number_of_visits'])"
   ]
  },
  {
   "cell_type": "code",
   "execution_count": 159,
   "metadata": {
    "scrolled": true
   },
   "outputs": [
    {
     "name": "stdout",
     "output_type": "stream",
     "text": [
      "Checking whether there is an H2O instance running at http://localhost:54321 ..... not found.\n",
      "Attempting to start a local H2O server...\n",
      "; Java HotSpot(TM) 64-Bit Server VM 18.3 (build 10.0.2+13, mixed mode)\n",
      "  Starting server from C:\\Users\\Ewela\\Anaconda3\\lib\\site-packages\\h2o\\backend\\bin\\h2o.jar\n",
      "  Ice root: C:\\Users\\Ewela\\AppData\\Local\\Temp\\tmpq__d8fg9\n",
      "  JVM stdout: C:\\Users\\Ewela\\AppData\\Local\\Temp\\tmpq__d8fg9\\h2o_Ewela_started_from_python.out\n",
      "  JVM stderr: C:\\Users\\Ewela\\AppData\\Local\\Temp\\tmpq__d8fg9\\h2o_Ewela_started_from_python.err\n",
      "  Server is running at http://127.0.0.1:54321\n",
      "Connecting to H2O server at http://127.0.0.1:54321 ... successful.\n"
     ]
    },
    {
     "data": {
      "text/html": [
       "<div style=\"overflow:auto\"><table style=\"width:50%\"><tr><td>H2O_cluster_uptime:</td>\n",
       "<td>02 secs</td></tr>\n",
       "<tr><td>H2O_cluster_timezone:</td>\n",
       "<td>Europe/Belgrade</td></tr>\n",
       "<tr><td>H2O_data_parsing_timezone:</td>\n",
       "<td>UTC</td></tr>\n",
       "<tr><td>H2O_cluster_version:</td>\n",
       "<td>3.32.1.2</td></tr>\n",
       "<tr><td>H2O_cluster_version_age:</td>\n",
       "<td>11 days </td></tr>\n",
       "<tr><td>H2O_cluster_name:</td>\n",
       "<td>H2O_from_python_Ewela_j41tel</td></tr>\n",
       "<tr><td>H2O_cluster_total_nodes:</td>\n",
       "<td>1</td></tr>\n",
       "<tr><td>H2O_cluster_free_memory:</td>\n",
       "<td>3.928 Gb</td></tr>\n",
       "<tr><td>H2O_cluster_total_cores:</td>\n",
       "<td>8</td></tr>\n",
       "<tr><td>H2O_cluster_allowed_cores:</td>\n",
       "<td>8</td></tr>\n",
       "<tr><td>H2O_cluster_status:</td>\n",
       "<td>accepting new members, healthy</td></tr>\n",
       "<tr><td>H2O_connection_url:</td>\n",
       "<td>http://127.0.0.1:54321</td></tr>\n",
       "<tr><td>H2O_connection_proxy:</td>\n",
       "<td>{\"http\": null, \"https\": null}</td></tr>\n",
       "<tr><td>H2O_internal_security:</td>\n",
       "<td>False</td></tr>\n",
       "<tr><td>H2O_API_Extensions:</td>\n",
       "<td>Amazon S3, Algos, AutoML, Core V3, TargetEncoder, Core V4</td></tr>\n",
       "<tr><td>Python_version:</td>\n",
       "<td>3.6.4 final</td></tr></table></div>"
      ],
      "text/plain": [
       "--------------------------  ---------------------------------------------------------\n",
       "H2O_cluster_uptime:         02 secs\n",
       "H2O_cluster_timezone:       Europe/Belgrade\n",
       "H2O_data_parsing_timezone:  UTC\n",
       "H2O_cluster_version:        3.32.1.2\n",
       "H2O_cluster_version_age:    11 days\n",
       "H2O_cluster_name:           H2O_from_python_Ewela_j41tel\n",
       "H2O_cluster_total_nodes:    1\n",
       "H2O_cluster_free_memory:    3.928 Gb\n",
       "H2O_cluster_total_cores:    8\n",
       "H2O_cluster_allowed_cores:  8\n",
       "H2O_cluster_status:         accepting new members, healthy\n",
       "H2O_connection_url:         http://127.0.0.1:54321\n",
       "H2O_connection_proxy:       {\"http\": null, \"https\": null}\n",
       "H2O_internal_security:      False\n",
       "H2O_API_Extensions:         Amazon S3, Algos, AutoML, Core V3, TargetEncoder, Core V4\n",
       "Python_version:             3.6.4 final\n",
       "--------------------------  ---------------------------------------------------------"
      ]
     },
     "metadata": {},
     "output_type": "display_data"
    }
   ],
   "source": [
    "# h2o initialisation\n",
    "h2o.init()"
   ]
  },
  {
   "cell_type": "code",
   "execution_count": 160,
   "metadata": {},
   "outputs": [
    {
     "name": "stdout",
     "output_type": "stream",
     "text": [
      "Parse progress: |█████████████████████████████████████████████████████████| 100%\n"
     ]
    }
   ],
   "source": [
    "# data import\n",
    "d=h2o.H2OFrame(d)"
   ]
  },
  {
   "cell_type": "code",
   "execution_count": 162,
   "metadata": {},
   "outputs": [],
   "source": [
    "# data split\n",
    "train, valid, test = d.split_frame(ratios=[0.7,0.15],seed=19)"
   ]
  },
  {
   "cell_type": "code",
   "execution_count": 163,
   "metadata": {},
   "outputs": [
    {
     "data": {
      "text/plain": [
       "['gender', 'marital_status', 'age', 'distance', 'income']"
      ]
     },
     "execution_count": 163,
     "metadata": {},
     "output_type": "execute_result"
    }
   ],
   "source": [
    "y='number_of_visits'\n",
    "x=d.columns[:5]\n",
    "x"
   ]
  },
  {
   "cell_type": "code",
   "execution_count": 235,
   "metadata": {},
   "outputs": [],
   "source": [
    "from h2o.estimators.gbm import H2OGradientBoostingEstimator"
   ]
  },
  {
   "cell_type": "code",
   "execution_count": 266,
   "metadata": {},
   "outputs": [
    {
     "name": "stdout",
     "output_type": "stream",
     "text": [
      "gbm Model Build progress: |███████████████████████████████████████████████| 100%\n"
     ]
    }
   ],
   "source": [
    "# reasonable gbm model\n",
    "mgbm = H2OGradientBoostingEstimator(nfolds=10,ntrees=45,max_depth=4)\n",
    "mgbm.train(x,y,train,model_id='first',validation_frame=valid)"
   ]
  },
  {
   "cell_type": "code",
   "execution_count": 267,
   "metadata": {
    "scrolled": true
   },
   "outputs": [
    {
     "name": "stdout",
     "output_type": "stream",
     "text": [
      "\n",
      "ModelMetricsRegression: gbm\n",
      "** Reported on train data. **\n",
      "\n",
      "MSE: 3564.5881146882152\n",
      "RMSE: 59.70417166905689\n",
      "MAE: 49.608667005725636\n",
      "RMSLE: 0.3747933524205017\n",
      "Mean Residual Deviance: 3564.5881146882152\n",
      "\n",
      "\n",
      "ModelMetricsRegression: gbm\n",
      "** Reported on test data. **\n",
      "\n",
      "MSE: 4067.6757427493008\n",
      "RMSE: 63.778332862730906\n",
      "MAE: 53.590175858358805\n",
      "RMSLE: 0.39487089884080895\n",
      "Mean Residual Deviance: 4067.6757427493008\n",
      "\n"
     ]
    }
   ],
   "source": [
    "# results on training and testing data\n",
    "print(mgbm.model_performance(train=True))\n",
    "print(mgbm.model_performance(test))"
   ]
  },
  {
   "cell_type": "code",
   "execution_count": 248,
   "metadata": {},
   "outputs": [
    {
     "name": "stdout",
     "output_type": "stream",
     "text": [
      "gbm Model Build progress: |███████████████████████████████████████████████| 100%\n"
     ]
    }
   ],
   "source": [
    "# overfitted gbm model\n",
    "mgbm2 = H2OGradientBoostingEstimator(ntrees=500,nfolds=10,max_depth=10)\n",
    "mgbm2.train(x,y,train,model_id='overfit',validation_frame=valid)"
   ]
  },
  {
   "cell_type": "code",
   "execution_count": 249,
   "metadata": {},
   "outputs": [
    {
     "name": "stdout",
     "output_type": "stream",
     "text": [
      "\n",
      "ModelMetricsRegression: gbm\n",
      "** Reported on train data. **\n",
      "\n",
      "MSE: 543.4112675148831\n",
      "RMSE: 23.311183314342564\n",
      "MAE: 18.105465981232896\n",
      "RMSLE: 0.16534334841570306\n",
      "Mean Residual Deviance: 543.4112675148831\n",
      "\n",
      "\n",
      "ModelMetricsRegression: gbm\n",
      "** Reported on test data. **\n",
      "\n",
      "MSE: 4879.555167593962\n",
      "RMSE: 69.85381283504833\n",
      "MAE: 58.50622967518567\n",
      "RMSLE: 0.4376805899730214\n",
      "Mean Residual Deviance: 4879.555167593962\n",
      "\n"
     ]
    }
   ],
   "source": [
    "# results on training and testing data\n",
    "print(mgbm2.model_performance(train=True))\n",
    "print(mgbm2.model_performance(test))"
   ]
  },
  {
   "cell_type": "code",
   "execution_count": null,
   "metadata": {},
   "outputs": [],
   "source": []
  }
 ],
 "metadata": {
  "kernelspec": {
   "display_name": "Python 3",
   "language": "python",
   "name": "python3"
  },
  "language_info": {
   "codemirror_mode": {
    "name": "ipython",
    "version": 3
   },
   "file_extension": ".py",
   "mimetype": "text/x-python",
   "name": "python",
   "nbconvert_exporter": "python",
   "pygments_lexer": "ipython3",
   "version": "3.9.0"
  }
 },
 "nbformat": 4,
 "nbformat_minor": 4
}
