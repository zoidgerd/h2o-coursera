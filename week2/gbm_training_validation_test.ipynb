{
 "cells": [
  {
   "cell_type": "code",
   "execution_count": 1,
   "id": "sacred-passport",
   "metadata": {
    "tags": []
   },
   "outputs": [
    {
     "name": "stdout",
     "output_type": "stream",
     "text": [
      "Checking whether there is an H2O instance running at http://localhost:54321 ..... not found.\n",
      "Attempting to start a local H2O server...\n",
      "; Java HotSpot(TM) 64-Bit Server VM 18.9 (build 11.0.11+9-LTS-194, mixed mode)\n",
      "  Starting server from C:\\Users\\Gerd\\venvs\\h2o\\Lib\\site-packages\\h2o\\backend\\bin\\h2o.jar\n",
      "  Ice root: C:\\Users\\Gerd\\AppData\\Local\\Temp\\tmp4bjmn1i_\n",
      "  JVM stdout: C:\\Users\\Gerd\\AppData\\Local\\Temp\\tmp4bjmn1i_\\h2o_Gerd_started_from_python.out\n",
      "  JVM stderr: C:\\Users\\Gerd\\AppData\\Local\\Temp\\tmp4bjmn1i_\\h2o_Gerd_started_from_python.err\n",
      "  Server is running at http://127.0.0.1:54321\n",
      "Connecting to H2O server at http://127.0.0.1:54321 ... successful.\n"
     ]
    },
    {
     "data": {
      "text/html": [
       "<div style=\"overflow:auto\"><table style=\"width:50%\"><tr><td>H2O_cluster_uptime:</td>\n",
       "<td>01 secs</td></tr>\n",
       "<tr><td>H2O_cluster_timezone:</td>\n",
       "<td>Europe/Berlin</td></tr>\n",
       "<tr><td>H2O_data_parsing_timezone:</td>\n",
       "<td>UTC</td></tr>\n",
       "<tr><td>H2O_cluster_version:</td>\n",
       "<td>3.32.1.1</td></tr>\n",
       "<tr><td>H2O_cluster_version_age:</td>\n",
       "<td>1 month and 28 days </td></tr>\n",
       "<tr><td>H2O_cluster_name:</td>\n",
       "<td>H2O_from_python_Gerd_mpc823</td></tr>\n",
       "<tr><td>H2O_cluster_total_nodes:</td>\n",
       "<td>1</td></tr>\n",
       "<tr><td>H2O_cluster_free_memory:</td>\n",
       "<td>3.975 Gb</td></tr>\n",
       "<tr><td>H2O_cluster_total_cores:</td>\n",
       "<td>16</td></tr>\n",
       "<tr><td>H2O_cluster_allowed_cores:</td>\n",
       "<td>16</td></tr>\n",
       "<tr><td>H2O_cluster_status:</td>\n",
       "<td>accepting new members, healthy</td></tr>\n",
       "<tr><td>H2O_connection_url:</td>\n",
       "<td>http://127.0.0.1:54321</td></tr>\n",
       "<tr><td>H2O_connection_proxy:</td>\n",
       "<td>{\"http\": null, \"https\": null}</td></tr>\n",
       "<tr><td>H2O_internal_security:</td>\n",
       "<td>False</td></tr>\n",
       "<tr><td>H2O_API_Extensions:</td>\n",
       "<td>Amazon S3, Algos, AutoML, Core V3, TargetEncoder, Core V4</td></tr>\n",
       "<tr><td>Python_version:</td>\n",
       "<td>3.9.0 final</td></tr></table></div>"
      ],
      "text/plain": [
       "--------------------------  ---------------------------------------------------------\n",
       "H2O_cluster_uptime:         01 secs\n",
       "H2O_cluster_timezone:       Europe/Berlin\n",
       "H2O_data_parsing_timezone:  UTC\n",
       "H2O_cluster_version:        3.32.1.1\n",
       "H2O_cluster_version_age:    1 month and 28 days\n",
       "H2O_cluster_name:           H2O_from_python_Gerd_mpc823\n",
       "H2O_cluster_total_nodes:    1\n",
       "H2O_cluster_free_memory:    3.975 Gb\n",
       "H2O_cluster_total_cores:    16\n",
       "H2O_cluster_allowed_cores:  16\n",
       "H2O_cluster_status:         accepting new members, healthy\n",
       "H2O_connection_url:         http://127.0.0.1:54321\n",
       "H2O_connection_proxy:       {\"http\": null, \"https\": null}\n",
       "H2O_internal_security:      False\n",
       "H2O_API_Extensions:         Amazon S3, Algos, AutoML, Core V3, TargetEncoder, Core V4\n",
       "Python_version:             3.9.0 final\n",
       "--------------------------  ---------------------------------------------------------"
      ]
     },
     "metadata": {},
     "output_type": "display_data"
    }
   ],
   "source": [
    "import math\n",
    "import pandas as pd\n",
    "import numpy as np\n",
    "import random\n",
    "from math import sqrt\n",
    "import matplotlib.pyplot as plt\n",
    "import h2o\n",
    "from h2o.estimators import H2OGradientBoostingEstimator\n",
    "\n",
    "\n",
    "h2o.init()"
   ]
  },
  {
   "cell_type": "code",
   "execution_count": 6,
   "id": "focal-albany",
   "metadata": {},
   "outputs": [],
   "source": [
    "number_of_records = 2000\n",
    "\n",
    "ids = [x for x in range(0,number_of_records)]\n",
    "random_category = ['A', 'B', 'C', 'D']\n",
    "age = [round(random.uniform(18.0, 75.0), 2) for x in range(0, number_of_records)]\n",
    "healthyEating = [round(x, 0) for x in np.random.normal(loc=5, scale=1.0, size=number_of_records)]\n",
    "activeLifestyle = [round(x, 0) for x in np.random.normal(loc=5, scale=1.0, size=number_of_records)]\n",
    "\n",
    "dataframe = pd.DataFrame(ids, columns=['id'])\n",
    "dataframe['random_category'] = [random_category[random.randint(0,len(random_category)-1)] for x in range(0, len(ids))]\n",
    "dataframe['age'] = age\n",
    "dataframe['healthyEating'] = healthyEating\n",
    "dataframe['activeLifestyle'] = activeLifestyle\n",
    "dataframe['activeLifestyle'] = np.where(dataframe['age'] < 30, dataframe['activeLifestyle'] + 1 ,  dataframe['activeLifestyle'])\n",
    "dataframe['income'] = 20000 + ((dataframe['age']*3)**2)\n",
    "dataframe['income'] = np.where(dataframe['activeLifestyle'] > 5, dataframe['income'] * 0.9, dataframe['income'])\n",
    "dataframe['income'] = np.where(dataframe['healthyEating'] > 5, dataframe['income'] * 1.1, dataframe['income'])\n",
    "\n",
    "#\n",
    "# add noise to the income column\n",
    "#\n",
    "dataframe['income'] = dataframe['income'] + random.randint(0,4000)\n",
    "dataframe['income'] = np.ceil(dataframe['income']/100)*100\n"
   ]
  },
  {
   "cell_type": "code",
   "execution_count": 7,
   "id": "impossible-international",
   "metadata": {},
   "outputs": [
    {
     "data": {
      "text/plain": [
       "(array([332., 300., 301., 221., 208., 186., 172., 156.,  98.,  26.]),\n",
       " array([23100., 28780., 34460., 40140., 45820., 51500., 57180., 62860.,\n",
       "        68540., 74220., 79900.]),\n",
       " <BarContainer object of 10 artists>)"
      ]
     },
     "execution_count": 7,
     "metadata": {},
     "output_type": "execute_result"
    },
    {
     "data": {
      "image/png": "[encoded data removed]",
      "text/plain": [
       "<Figure size 432x288 with 1 Axes>"
      ]
     },
     "metadata": {
      "needs_background": "light"
     },
     "output_type": "display_data"
    }
   ],
   "source": [
    "plt.hist(dataframe['income'])"
   ]
  },
  {
   "cell_type": "code",
   "execution_count": 13,
   "id": "twenty-smooth",
   "metadata": {
    "tags": []
   },
   "outputs": [
    {
     "name": "stdout",
     "output_type": "stream",
     "text": [
      "Parse progress: |█████████████████████████████████████████████████████████| 100%\n"
     ]
    },
    {
     "data": {
      "text/plain": [
       "'\\ntrain = h2o.get_frame(\"train\")\\nvalidation = h2o.get_frame(\"validation\")\\ntest = h2o.get_frame(\"test\")\\n'"
      ]
     },
     "execution_count": 13,
     "metadata": {},
     "output_type": "execute_result"
    }
   ],
   "source": [
    "#\n",
    "# create frames in h2o instance\n",
    "#\n",
    "dataframe = h2o.H2OFrame(dataframe)\n",
    "train, validation, test = dataframe.split_frame(ratios=[0.8, 0.1], destination_frames=[\"train\", \"validation\", \"test\"], seed=123)\n",
    "\n",
    "'''\n",
    "train = h2o.get_frame(\"train\")\n",
    "validation = h2o.get_frame(\"validation\")\n",
    "test = h2o.get_frame(\"test\")\n",
    "'''"
   ]
  },
  {
   "cell_type": "code",
   "execution_count": 14,
   "id": "accessible-annex",
   "metadata": {},
   "outputs": [],
   "source": [
    "y = 'income'\n",
    "ignoreFields = [y, 'id']\n",
    "x = [i for i in train.names if i not in ignoreFields]"
   ]
  },
  {
   "cell_type": "code",
   "execution_count": 19,
   "id": "received-agriculture",
   "metadata": {},
   "outputs": [
    {
     "name": "stdout",
     "output_type": "stream",
     "text": [
      "gbm Model Build progress: |███████████████████████████████████████████████| 100%\n"
     ]
    }
   ],
   "source": [
    "#\n",
    "# using a validation frame\n",
    "#\n",
    "# model = H2OGradientBoostingEstimator(model_id = \"gbm-coursera\", ntrees=75, max_depth=5)\n",
    "# model.train(x, y, train, validation_frame=validation)\n",
    "\n",
    "\n",
    "#\n",
    "# using cross validation\n",
    "#\n",
    "model = H2OGradientBoostingEstimator(model_id = \"gbm-coursera\", ntrees=75, nfolds=5, max_depth=5)\n",
    "model.train(x, y, train, validation_frame=validation)"
   ]
  },
  {
   "cell_type": "code",
   "execution_count": null,
   "id": "vital-security",
   "metadata": {},
   "outputs": [],
   "source": [
    "overfitted_model = H2OGradientBoostingEstimator(model_id = \"gbm-coursera-overfitted\", ntrees=1000, max_depth=10)\n",
    "overfitted.train(x, y, train, validation_frame=validation)"
   ]
  },
  {
   "cell_type": "code",
   "execution_count": 21,
   "id": "romantic-indian",
   "metadata": {
    "tags": []
   },
   "outputs": [
    {
     "name": "stdout",
     "output_type": "stream",
     "text": [
      "167.60411380201225\n",
      "167.62986014423686\n"
     ]
    }
   ],
   "source": [
    "#\n",
    "# Mean Average Error\n",
    "#\n",
    "#model.mae(train=True)\n",
    "print(model.mae(valid=True))\n",
    "print(model.mae(xval=True))"
   ]
  },
  {
   "cell_type": "code",
   "execution_count": null,
   "id": "expressed-entertainment",
   "metadata": {},
   "outputs": [],
   "source": []
  },
  {
   "cell_type": "code",
   "execution_count": null,
   "id": "architectural-prescription",
   "metadata": {},
   "outputs": [],
   "source": []
  }
 ],
 "metadata": {
  "kernelspec": {
   "display_name": "Python 3",
   "language": "python",
   "name": "python3"
  },
  "language_info": {
   "codemirror_mode": {
    "name": "ipython",
    "version": 3
   },
   "file_extension": ".py",
   "mimetype": "text/x-python",
   "name": "python",
   "nbconvert_exporter": "python",
   "pygments_lexer": "ipython3",
   "version": "3.9.0"
  }
 },
 "nbformat": 4,
 "nbformat_minor": 5
}
