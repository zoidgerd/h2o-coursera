{
 "cells": [
  {
   "cell_type": "code",
   "execution_count": 7,
   "id": "infinite-quick",
   "metadata": {
    "collapsed": true,
    "jupyter": {
     "outputs_hidden": true
    },
    "tags": []
   },
   "outputs": [
    {
     "name": "stdout",
     "output_type": "stream",
     "text": [
      "Checking whether there is an H2O instance running at http://localhost:54321 . connected.\n"
     ]
    },
    {
     "data": {
      "text/html": [
       "<div style=\"overflow:auto\"><table style=\"width:50%\"><tr><td>H2O_cluster_uptime:</td>\n",
       "<td>9 hours 33 mins</td></tr>\n",
       "<tr><td>H2O_cluster_timezone:</td>\n",
       "<td>Europe/Berlin</td></tr>\n",
       "<tr><td>H2O_data_parsing_timezone:</td>\n",
       "<td>UTC</td></tr>\n",
       "<tr><td>H2O_cluster_version:</td>\n",
       "<td>3.32.1.1</td></tr>\n",
       "<tr><td>H2O_cluster_version_age:</td>\n",
       "<td>1 month </td></tr>\n",
       "<tr><td>H2O_cluster_name:</td>\n",
       "<td>H2O_from_python_Gerd_n09qfv</td></tr>\n",
       "<tr><td>H2O_cluster_total_nodes:</td>\n",
       "<td>1</td></tr>\n",
       "<tr><td>H2O_cluster_free_memory:</td>\n",
       "<td>3.968 Gb</td></tr>\n",
       "<tr><td>H2O_cluster_total_cores:</td>\n",
       "<td>16</td></tr>\n",
       "<tr><td>H2O_cluster_allowed_cores:</td>\n",
       "<td>16</td></tr>\n",
       "<tr><td>H2O_cluster_status:</td>\n",
       "<td>locked, healthy</td></tr>\n",
       "<tr><td>H2O_connection_url:</td>\n",
       "<td>http://localhost:54321</td></tr>\n",
       "<tr><td>H2O_connection_proxy:</td>\n",
       "<td>{\"http\": null, \"https\": null}</td></tr>\n",
       "<tr><td>H2O_internal_security:</td>\n",
       "<td>False</td></tr>\n",
       "<tr><td>H2O_API_Extensions:</td>\n",
       "<td>Amazon S3, Algos, AutoML, Core V3, TargetEncoder, Core V4</td></tr>\n",
       "<tr><td>Python_version:</td>\n",
       "<td>3.9.0 final</td></tr></table></div>"
      ],
      "text/plain": [
       "--------------------------  ---------------------------------------------------------\n",
       "H2O_cluster_uptime:         9 hours 33 mins\n",
       "H2O_cluster_timezone:       Europe/Berlin\n",
       "H2O_data_parsing_timezone:  UTC\n",
       "H2O_cluster_version:        3.32.1.1\n",
       "H2O_cluster_version_age:    1 month\n",
       "H2O_cluster_name:           H2O_from_python_Gerd_n09qfv\n",
       "H2O_cluster_total_nodes:    1\n",
       "H2O_cluster_free_memory:    3.968 Gb\n",
       "H2O_cluster_total_cores:    16\n",
       "H2O_cluster_allowed_cores:  16\n",
       "H2O_cluster_status:         locked, healthy\n",
       "H2O_connection_url:         http://localhost:54321\n",
       "H2O_connection_proxy:       {\"http\": null, \"https\": null}\n",
       "H2O_internal_security:      False\n",
       "H2O_API_Extensions:         Amazon S3, Algos, AutoML, Core V3, TargetEncoder, Core V4\n",
       "Python_version:             3.9.0 final\n",
       "--------------------------  ---------------------------------------------------------"
      ]
     },
     "metadata": {},
     "output_type": "display_data"
    }
   ],
   "source": [
    "#\n",
    "# generating an artificial dataset\n",
    "#\n",
    "import math\n",
    "import pandas as pd\n",
    "import numpy as np\n",
    "import random\n",
    "from math import sqrt\n",
    "import matplotlib.pyplot as plt\n",
    "import h2o\n",
    "from h2o.estimators import H2OGradientBoostingEstimator\n",
    "\n",
    "\n",
    "\n",
    "h2o.init()\n",
    "\n"
   ]
  },
  {
   "cell_type": "code",
   "execution_count": 8,
   "id": "smart-defensive",
   "metadata": {},
   "outputs": [],
   "source": [
    "number_of_records = 2000\n",
    "\n",
    "ids = [x for x in range(0,number_of_records)]\n",
    "random_category = ['A', 'B', 'C', 'D']\n",
    "age = [round(random.uniform(18.0, 75.0), 2) for x in range(0, number_of_records)]\n",
    "healthyEating = [round(x, 0) for x in np.random.normal(loc=5, scale=1.0, size=number_of_records)]\n",
    "activeLifestyle = [round(x, 0) for x in np.random.normal(loc=5, scale=1.0, size=number_of_records)]\n",
    "\n",
    "dataframe = pd.DataFrame(ids, columns=['id'])\n",
    "dataframe['random_category'] = [random_category[random.randint(0,len(random_category)-1)] for x in range(0, len(ids))]\n",
    "dataframe['age'] = age\n",
    "dataframe['healthyEating'] = healthyEating\n",
    "dataframe['activeLifestyle'] = activeLifestyle\n",
    "dataframe['activeLifestyle'] = np.where(dataframe['age'] < 30, dataframe['activeLifestyle'] + 1 ,  dataframe['activeLifestyle'])\n",
    "dataframe['income'] = 20000 + ((dataframe['age']*3)**2)\n",
    "dataframe['income'] = np.where(dataframe['activeLifestyle'] > 5, dataframe['income'] * 0.9, dataframe['income'])\n",
    "dataframe['income'] = np.where(dataframe['healthyEating'] > 5, dataframe['income'] * 1.1, dataframe['income'])\n",
    "\n",
    "#\n",
    "# add noise to the income column\n",
    "#\n",
    "dataframe['income'] = dataframe['income'] + random.randint(0,4000)\n",
    "dataframe['income'] = np.ceil(dataframe['income']/100)*100\n"
   ]
  },
  {
   "cell_type": "code",
   "execution_count": 9,
   "id": "noble-volunteer",
   "metadata": {},
   "outputs": [
    {
     "data": {
      "text/plain": [
       "(array([356., 323., 275., 228., 212., 186., 158., 138.,  96.,  28.]),\n",
       " array([21000., 26700., 32400., 38100., 43800., 49500., 55200., 60900.,\n",
       "        66600., 72300., 78000.]),\n",
       " <BarContainer object of 10 artists>)"
      ]
     },
     "execution_count": 9,
     "metadata": {},
     "output_type": "execute_result"
    },
    {
     "data": {
      "image/png": "[encoded data removed]",
      "text/plain": [
       "<Figure size 432x288 with 1 Axes>"
      ]
     },
     "metadata": {
      "needs_background": "light"
     },
     "output_type": "display_data"
    }
   ],
   "source": [
    "plt.hist(dataframe['income'])"
   ]
  },
  {
   "cell_type": "code",
   "execution_count": 10,
   "id": "protected-priest",
   "metadata": {
    "tags": []
   },
   "outputs": [],
   "source": [
    "#\n",
    "# create frames in h2o instance\n",
    "#\n",
    "#dataframe = h2o.H2OFrame(dataframe)\n",
    "#train, validation, test = dataframe.split_frame(ratios=[0.8, 0.1], destination_frames=[\"train\", \"validation\", \"test\"], seed=123)\n",
    "\n",
    "train = h2o.get_frame(\"train\")\n",
    "validation = h2o.get_frame(\"validation\")\n",
    "test = h2o.get_frame(\"test\")"
   ]
  },
  {
   "cell_type": "code",
   "execution_count": 11,
   "id": "underlying-liquid",
   "metadata": {},
   "outputs": [],
   "source": [
    "y = 'income'\n",
    "ignoreFields = [y, 'id']\n",
    "x = [i for i in train.names if i not in ignoreFields]"
   ]
  },
  {
   "cell_type": "code",
   "execution_count": 24,
   "id": "sitting-adapter",
   "metadata": {},
   "outputs": [
    {
     "name": "stdout",
     "output_type": "stream",
     "text": [
      "gbm Model Build progress: |███████████████████████████████████████████████| 100%\n"
     ]
    }
   ],
   "source": [
    "#\n",
    "# using a validation frame\n",
    "#\n",
    "# model = H2OGradientBoostingEstimator(model_id = \"gbm-coursera\", ntrees=75, max_depth=5)\n",
    "# model.train(x, y, train, validation_frame=validation)\n",
    "\n",
    "\n",
    "#\n",
    "# using cross validation\n",
    "#\n",
    "model = H2OGradientBoostingEstimator(model_id = \"gbm-coursera\", ntrees=75, nfolds=5, max_depth=5)\n",
    "model.train(x, y, train)"
   ]
  },
  {
   "cell_type": "code",
   "execution_count": null,
   "id": "fifteen-lodging",
   "metadata": {},
   "outputs": [],
   "source": [
    "overfitted_model = H2OGradientBoostingEstimator(model_id = \"gbm-coursera-overfitted\", ntrees=1000, max_depth=10)\n",
    "overfitted.train(x, y, train, validation_frame=validation)"
   ]
  },
  {
   "cell_type": "code",
   "execution_count": 22,
   "id": "guided-blocking",
   "metadata": {
    "tags": []
   },
   "outputs": [
    {
     "data": {
      "text/plain": [
       "161.02085572406915"
      ]
     },
     "execution_count": 22,
     "metadata": {},
     "output_type": "execute_result"
    }
   ],
   "source": [
    "#\n",
    "# Mean Average Error\n",
    "#\n",
    "#model.mae(train=True)\n",
    "model.mae(valid=True)\n",
    "model.mae(xval=True)"
   ]
  },
  {
   "cell_type": "code",
   "execution_count": null,
   "id": "dominant-speech",
   "metadata": {},
   "outputs": [],
   "source": []
  },
  {
   "cell_type": "code",
   "execution_count": null,
   "id": "inappropriate-likelihood",
   "metadata": {},
   "outputs": [],
   "source": []
  }
 ],
 "metadata": {
  "kernelspec": {
   "display_name": "Python 3",
   "language": "python",
   "name": "python3"
  },
  "language_info": {
   "codemirror_mode": {
    "name": "ipython",
    "version": 3
   },
   "file_extension": ".py",
   "mimetype": "text/x-python",
   "name": "python",
   "nbconvert_exporter": "python",
   "pygments_lexer": "ipython3",
   "version": "3.9.0"
  }
 },
 "nbformat": 4,
 "nbformat_minor": 5
}
