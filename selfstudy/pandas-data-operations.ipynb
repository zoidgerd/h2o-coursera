{
 "cells": [
  {
   "cell_type": "code",
   "execution_count": 1,
   "id": "frank-transfer",
   "metadata": {},
   "outputs": [],
   "source": [
    "import pandas as pd"
   ]
  },
  {
   "cell_type": "code",
   "execution_count": 4,
   "id": "governmental-russia",
   "metadata": {},
   "outputs": [],
   "source": [
    "data = pd.read_csv('../datasets/globalterrorism.csv', sep=\",\")"
   ]
  },
  {
   "cell_type": "code",
   "execution_count": 7,
   "id": "documented-pregnancy",
   "metadata": {},
   "outputs": [
    {
     "data": {
      "text/plain": [
       "<AxesSubplot:xlabel='iyear'>"
      ]
     },
     "execution_count": 7,
     "metadata": {},
     "output_type": "execute_result"
    },
    {
     "data": {
      "image/png": "[encoded data removed]",
      "text/plain": [
       "<Figure size 432x288 with 1 Axes>"
      ]
     },
     "metadata": {
      "needs_background": "light"
     },
     "output_type": "display_data"
    }
   ],
   "source": [
    "# plotting in pandas\n",
    "data.value_counts(data['iyear'].sort_values()).plot.bar()"
   ]
  },
  {
   "cell_type": "code",
   "execution_count": 28,
   "id": "technical-chosen",
   "metadata": {},
   "outputs": [],
   "source": [
    "#enable showing all columns\n",
    "pd.set_option('display.max_columns', None)"
   ]
  },
  {
   "cell_type": "code",
   "execution_count": 137,
   "id": "annual-lawrence",
   "metadata": {
    "tags": []
   },
   "outputs": [],
   "source": [
    "#\n",
    "# generating an artificial dataset\n",
    "#\n",
    "import pandas as pd\n",
    "import numpy as np\n",
    "import random\n",
    "from math import sqrt\n",
    "import matplotlib.pyplot as plt\n",
    "\n",
    "number_of_records = 5000\n",
    "\n",
    "ids = [x for x in range(0,number_of_records)]\n",
    "random_category = ['A', 'B', 'C', 'D']\n",
    "age = [round(random.uniform(18.0, 75.0), 2) for x in range(0, number_of_records)]\n",
    "healthyEating = [round(x, 0) for x in np.random.normal(loc=5, scale=1.0, size=number_of_records)]\n",
    "activeLifestyle = [round(x, 0) for x in np.random.normal(loc=5, scale=1.0, size=number_of_records)]\n",
    "\n",
    "dataframe = pd.DataFrame(ids, columns=['id'])\n",
    "dataframe['random_category'] = [random_category[random.randint(0,len(random_category)-1)] for x in range(0, len(ids))]\n",
    "dataframe['age'] = age\n",
    "dataframe['healthyEating'] = healthyEating\n",
    "dataframe['activeLifestyle'] = activeLifestyle\n",
    "dataframe['activeLifestyle'] = np.where(dataframe['age'] < 30, dataframe['activeLifestyle'] + 1 ,  dataframe['activeLifestyle'])\n",
    "dataframe['income'] = 20000 + ((dataframe['age']*3)**2)\n",
    "dataframe['income'] = np.where(dataframe['activeLifestyle'] < 5, dataframe['income'] * 1.3, dataframe['income'])\n",
    "dataframe['income'] = np.where(dataframe['activeLifestyle'] > 5, dataframe['income'] * 0.7, dataframe['income'])\n",
    "dataframe['income'] = np.where(dataframe['healthyEating'] > 5, dataframe['income'] * 1.1, dataframe['income'])\n",
    "\n",
    "#\n",
    "# add noise to the income column\n",
    "#\n",
    "dataframe['income'] = dataframe['income'] + random.randint(0,4000)\n",
    "dataframe['income'] = np.ceil(dataframe['income']/100)*100\n"
   ]
  },
  {
   "cell_type": "code",
   "execution_count": 139,
   "id": "constant-freight",
   "metadata": {
    "tags": []
   },
   "outputs": [],
   "source": [
    "#dataframe['activeLifestyle'].value_counts()\n",
    "#?random.randint"
   ]
  },
  {
   "cell_type": "code",
   "execution_count": 140,
   "id": "hourly-spectrum",
   "metadata": {},
   "outputs": [
    {
     "data": {
      "text/html": [
       "<div>\n",
       "<style scoped>\n",
       "    .dataframe tbody tr th:only-of-type {\n",
       "        vertical-align: middle;\n",
       "    }\n",
       "\n",
       "    .dataframe tbody tr th {\n",
       "        vertical-align: top;\n",
       "    }\n",
       "\n",
       "    .dataframe thead th {\n",
       "        text-align: right;\n",
       "    }\n",
       "</style>\n",
       "<table border=\"1\" class=\"dataframe\">\n",
       "  <thead>\n",
       "    <tr style=\"text-align: right;\">\n",
       "      <th></th>\n",
       "      <th>id</th>\n",
       "      <th>random_category</th>\n",
       "      <th>age</th>\n",
       "      <th>healthyEating</th>\n",
       "      <th>activeLifestyle</th>\n",
       "      <th>income</th>\n",
       "    </tr>\n",
       "  </thead>\n",
       "  <tbody>\n",
       "    <tr>\n",
       "      <th>0</th>\n",
       "      <td>0</td>\n",
       "      <td>A</td>\n",
       "      <td>24.44</td>\n",
       "      <td>5.0</td>\n",
       "      <td>4.0</td>\n",
       "      <td>49000</td>\n",
       "    </tr>\n",
       "    <tr>\n",
       "      <th>1</th>\n",
       "      <td>1</td>\n",
       "      <td>B</td>\n",
       "      <td>27.89</td>\n",
       "      <td>4.0</td>\n",
       "      <td>5.0</td>\n",
       "      <td>43000</td>\n",
       "    </tr>\n",
       "    <tr>\n",
       "      <th>2</th>\n",
       "      <td>2</td>\n",
       "      <td>B</td>\n",
       "      <td>30.95</td>\n",
       "      <td>5.0</td>\n",
       "      <td>5.0</td>\n",
       "      <td>29000</td>\n",
       "    </tr>\n",
       "    <tr>\n",
       "      <th>3</th>\n",
       "      <td>3</td>\n",
       "      <td>C</td>\n",
       "      <td>39.65</td>\n",
       "      <td>6.0</td>\n",
       "      <td>6.0</td>\n",
       "      <td>58000</td>\n",
       "    </tr>\n",
       "    <tr>\n",
       "      <th>4</th>\n",
       "      <td>4</td>\n",
       "      <td>B</td>\n",
       "      <td>21.56</td>\n",
       "      <td>7.0</td>\n",
       "      <td>6.0</td>\n",
       "      <td>34000</td>\n",
       "    </tr>\n",
       "  </tbody>\n",
       "</table>\n",
       "</div>"
      ],
      "text/plain": [
       "   id random_category    age  healthyEating  activeLifestyle  income\n",
       "0   0               A  24.44            5.0              4.0   49000\n",
       "1   1               B  27.89            4.0              5.0   43000\n",
       "2   2               B  30.95            5.0              5.0   29000\n",
       "3   3               C  39.65            6.0              6.0   58000\n",
       "4   4               B  21.56            7.0              6.0   34000"
      ]
     },
     "execution_count": 140,
     "metadata": {},
     "output_type": "execute_result"
    }
   ],
   "source": [
    "dataframe.head()"
   ]
  },
  {
   "cell_type": "code",
   "execution_count": 15,
   "id": "protective-fluid",
   "metadata": {},
   "outputs": [],
   "source": [
    "\n",
    "dict_of_elems = {}\n",
    "for key, val in list_of_elems:\n",
    "    if key in dict_of_elems:\n",
    "        dict_of_elems[key].append(val)\n",
    "    else:\n",
    "        dict_of_elems[key] = [val]"
   ]
  },
  {
   "cell_type": "code",
   "execution_count": 16,
   "id": "expired-savannah",
   "metadata": {},
   "outputs": [
    {
     "data": {
      "text/plain": [
       "{'a': [1, 2], 'b': [3]}"
      ]
     },
     "execution_count": 16,
     "metadata": {},
     "output_type": "execute_result"
    }
   ],
   "source": [
    "dict_of_elems"
   ]
  },
  {
   "cell_type": "code",
   "execution_count": 136,
   "id": "mysterious-anderson",
   "metadata": {},
   "outputs": [],
   "source": [
    "list_of_elems = [(\"a\", 1), (\"a\", 2), (\"b\", 3), (\"c\", 4)]\n",
    "l = []\n",
    "dict_of_elems = {k: [v].append(v) for k, v in list_of_elems}"
   ]
  },
  {
   "cell_type": "code",
   "execution_count": 137,
   "id": "agreed-musical",
   "metadata": {},
   "outputs": [
    {
     "data": {
      "text/plain": [
       "{'a': None, 'b': None, 'c': None}"
      ]
     },
     "execution_count": 137,
     "metadata": {},
     "output_type": "execute_result"
    }
   ],
   "source": [
    "dict_of_elems"
   ]
  },
  {
   "cell_type": "code",
   "execution_count": 138,
   "id": "peripheral-netscape",
   "metadata": {},
   "outputs": [
    {
     "data": {
      "text/plain": [
       "int"
      ]
     },
     "execution_count": 138,
     "metadata": {},
     "output_type": "execute_result"
    }
   ],
   "source": [
    "type(dic_of_elems['a'])"
   ]
  },
  {
   "cell_type": "code",
   "execution_count": null,
   "id": "simple-library",
   "metadata": {},
   "outputs": [],
   "source": []
  }
 ],
 "metadata": {
  "kernelspec": {
   "display_name": "Python 3",
   "language": "python",
   "name": "python3"
  },
  "language_info": {
   "codemirror_mode": {
    "name": "ipython",
    "version": 3
   },
   "file_extension": ".py",
   "mimetype": "text/x-python",
   "name": "python",
   "nbconvert_exporter": "python",
   "pygments_lexer": "ipython3",
   "version": "3.9.0"
  }
 },
 "nbformat": 4,
 "nbformat_minor": 5
}
