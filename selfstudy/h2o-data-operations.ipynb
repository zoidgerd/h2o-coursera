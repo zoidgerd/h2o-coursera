{
 "cells": [
  {
   "cell_type": "code",
   "execution_count": 1,
   "id": "presidential-schema",
   "metadata": {
    "tags": []
   },
   "outputs": [],
   "source": [
    "#\n",
    "# converting a dataframe to a h2o-frame and vice versa\n",
    "#\n",
    "\n",
    "import h2o\n",
    "import numpy as np\n",
    "import pandas as pd\n",
    "import matplotlib.pyplot as plt"
   ]
  },
  {
   "cell_type": "code",
   "execution_count": null,
   "id": "unlike-convergence",
   "metadata": {},
   "outputs": [],
   "source": [
    "h2o.init()\n",
    "\n",
    "x = [z * 0.1 for z in range(0, 1000)]\n",
    "y = np.sin(x) + np.random.normal(0, 0.1, len(x))\n",
    "\n",
    "#\n",
    "# create pandas dataframe\n",
    "#\n",
    "pandas_dataframe = pd.DataFrame({ 'a': x, 'b': y })\n",
    "\n",
    "#\n",
    "# convert pandas to h2o dataframe\n",
    "#\n",
    "h2o_dataframe = h2o.H2OFrame(pandas_dataframe)\n",
    "\n",
    "#\n",
    "# convert h2o dataframe back to pandas dataframe\n",
    "#\n",
    "pandas_dataframe = h2o_dataframe.as_data_frame()\n"
   ]
  },
  {
   "cell_type": "code",
   "execution_count": null,
   "id": "educated-final",
   "metadata": {},
   "outputs": [],
   "source": [
    "#\n",
    "# create frames in h2o instance\n",
    "#\n",
    "pandas_dataframe = h2o.H2OFrame(pandas_dataframe)\n",
    "train, validation, test = dataframe.split_frame(ratios=[0.8, 0.1], destination_frames=[\"train\", \"validation\", \"test\"], seed=123)\n",
    "\n",
    "#\n",
    "# get dataframes from h2o instance\n",
    "#\n",
    "train = h2o.get_frame(\"train\")\n",
    "validation = h2o.get_frame(\"validation\")\n",
    "test = h2o.get_frame(\"test\")"
   ]
  }
 ],
 "metadata": {
  "kernelspec": {
   "display_name": "Python 3",
   "language": "python",
   "name": "python3"
  },
  "language_info": {
   "codemirror_mode": {
    "name": "ipython",
    "version": 3
   },
   "file_extension": ".py",
   "mimetype": "text/x-python",
   "name": "python",
   "nbconvert_exporter": "python",
   "pygments_lexer": "ipython3",
   "version": "3.9.0"
  }
 },
 "nbformat": 4,
 "nbformat_minor": 5
}
