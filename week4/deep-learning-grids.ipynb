{
 "cells": [
  {
   "cell_type": "code",
   "execution_count": 1,
   "id": "9fc67b30-224b-4b5f-945d-912999ed1839",
   "metadata": {},
   "outputs": [],
   "source": [
    "import h2o\n",
    "import h2o.grid\n",
    "from h2o.estimators.deeplearning import H2ODeepLearningEstimator\n",
    "import matplotlib.pyplot as plt\n",
    "%matplotlib inline"
   ]
  },
  {
   "cell_type": "code",
   "execution_count": 2,
   "id": "3123a145-2ca8-4c20-9863-4a060b7955a2",
   "metadata": {
    "collapsed": true,
    "jupyter": {
     "outputs_hidden": true
    },
    "tags": []
   },
   "outputs": [
    {
     "name": "stdout",
     "output_type": "stream",
     "text": [
      "Checking whether there is an H2O instance running at http://localhost:54321 ..... not found.\n",
      "Attempting to start a local H2O server...\n",
      "  Java Version: openjdk version \"11.0.11\" 2021-04-20; OpenJDK Runtime Environment (build 11.0.11+9-Ubuntu-0ubuntu2.20.04); OpenJDK 64-Bit Server VM (build 11.0.11+9-Ubuntu-0ubuntu2.20.04, mixed mode, sharing)\n",
      "  Starting server from /home/gerd/Documents/Python/venvs/h2o/lib/python3.8/site-packages/h2o/backend/bin/h2o.jar\n",
      "  Ice root: /tmp/tmp5vjpzbjj\n",
      "  JVM stdout: /tmp/tmp5vjpzbjj/h2o_gerd_started_from_python.out\n",
      "  JVM stderr: /tmp/tmp5vjpzbjj/h2o_gerd_started_from_python.err\n",
      "  Server is running at http://127.0.0.1:54321\n",
      "Connecting to H2O server at http://127.0.0.1:54321 ... successful.\n"
     ]
    },
    {
     "data": {
      "text/html": [
       "<div style=\"overflow:auto\"><table style=\"width:50%\"><tr><td>H2O_cluster_uptime:</td>\n",
       "<td>01 secs</td></tr>\n",
       "<tr><td>H2O_cluster_timezone:</td>\n",
       "<td>Europe/Vienna</td></tr>\n",
       "<tr><td>H2O_data_parsing_timezone:</td>\n",
       "<td>UTC</td></tr>\n",
       "<tr><td>H2O_cluster_version:</td>\n",
       "<td>3.32.1.2</td></tr>\n",
       "<tr><td>H2O_cluster_version_age:</td>\n",
       "<td>1 month and 20 days </td></tr>\n",
       "<tr><td>H2O_cluster_name:</td>\n",
       "<td>H2O_from_python_gerd_trbony</td></tr>\n",
       "<tr><td>H2O_cluster_total_nodes:</td>\n",
       "<td>1</td></tr>\n",
       "<tr><td>H2O_cluster_free_memory:</td>\n",
       "<td>2.867 Gb</td></tr>\n",
       "<tr><td>H2O_cluster_total_cores:</td>\n",
       "<td>8</td></tr>\n",
       "<tr><td>H2O_cluster_allowed_cores:</td>\n",
       "<td>8</td></tr>\n",
       "<tr><td>H2O_cluster_status:</td>\n",
       "<td>accepting new members, healthy</td></tr>\n",
       "<tr><td>H2O_connection_url:</td>\n",
       "<td>http://127.0.0.1:54321</td></tr>\n",
       "<tr><td>H2O_connection_proxy:</td>\n",
       "<td>{\"http\": null, \"https\": null}</td></tr>\n",
       "<tr><td>H2O_internal_security:</td>\n",
       "<td>False</td></tr>\n",
       "<tr><td>H2O_API_Extensions:</td>\n",
       "<td>Amazon S3, XGBoost, Algos, AutoML, Core V3, TargetEncoder, Core V4</td></tr>\n",
       "<tr><td>Python_version:</td>\n",
       "<td>3.8.5 final</td></tr></table></div>"
      ],
      "text/plain": [
       "--------------------------  ------------------------------------------------------------------\n",
       "H2O_cluster_uptime:         01 secs\n",
       "H2O_cluster_timezone:       Europe/Vienna\n",
       "H2O_data_parsing_timezone:  UTC\n",
       "H2O_cluster_version:        3.32.1.2\n",
       "H2O_cluster_version_age:    1 month and 20 days\n",
       "H2O_cluster_name:           H2O_from_python_gerd_trbony\n",
       "H2O_cluster_total_nodes:    1\n",
       "H2O_cluster_free_memory:    2.867 Gb\n",
       "H2O_cluster_total_cores:    8\n",
       "H2O_cluster_allowed_cores:  8\n",
       "H2O_cluster_status:         accepting new members, healthy\n",
       "H2O_connection_url:         http://127.0.0.1:54321\n",
       "H2O_connection_proxy:       {\"http\": null, \"https\": null}\n",
       "H2O_internal_security:      False\n",
       "H2O_API_Extensions:         Amazon S3, XGBoost, Algos, AutoML, Core V3, TargetEncoder, Core V4\n",
       "Python_version:             3.8.5 final\n",
       "--------------------------  ------------------------------------------------------------------"
      ]
     },
     "metadata": {},
     "output_type": "display_data"
    }
   ],
   "source": [
    "h2o.init()"
   ]
  },
  {
   "cell_type": "code",
   "execution_count": 3,
   "id": "77c02dc7-5f0c-470c-81c5-a701c4a010d1",
   "metadata": {},
   "outputs": [
    {
     "name": "stdout",
     "output_type": "stream",
     "text": [
      "Parse progress: |█████████████████████████████████████████████████████████| 100%\n"
     ]
    }
   ],
   "source": [
    "data = h2o.import_file('http://h2o-public-test-data.s3.amazonaws.com/smalldata/airlines/allyears2k_headers.zip')\n",
    "train, valid, test = data.split_frame([0.8, 0.1], seed=69)\n",
    "\n",
    "allColumns = data.columns\n",
    "allColumns.remove(\"ArrDelay\")\n",
    "allColumns.remove(\"DepDelay\")\n",
    "allColumns.remove(\"TailNum\")\n",
    "allColumns.remove(\"CarrierDelay\")\n",
    "allColumns.remove(\"WeatherDelay\")\n",
    "allColumns.remove(\"NASDelay\")\n",
    "allColumns.remove(\"SecurityDelay\")\n",
    "allColumns.remove(\"LateAircraftDelay\")\n",
    "allColumns.remove(\"IsDepDelayed\")\n",
    "allColumns.remove(\"IsArrDelayed\")\n",
    "allColumns.remove(\"ActualElapsedTime\")\n",
    "allColumns.remove(\"ArrTime\")\n",
    "\n",
    "targetColumn = \"IsArrDelayed\""
   ]
  },
  {
   "cell_type": "code",
   "execution_count": 4,
   "id": "8d427d51-2523-4ca5-ac88-1fb2d7afec22",
   "metadata": {
    "tags": []
   },
   "outputs": [
    {
     "data": {
      "text/plain": [
       "['Year',\n",
       " 'Month',\n",
       " 'DayofMonth',\n",
       " 'DayOfWeek',\n",
       " 'DepTime',\n",
       " 'CRSDepTime',\n",
       " 'CRSArrTime',\n",
       " 'UniqueCarrier',\n",
       " 'FlightNum',\n",
       " 'CRSElapsedTime',\n",
       " 'AirTime',\n",
       " 'Origin',\n",
       " 'Dest',\n",
       " 'Distance',\n",
       " 'TaxiIn',\n",
       " 'TaxiOut',\n",
       " 'Cancelled',\n",
       " 'CancellationCode',\n",
       " 'Diverted']"
      ]
     },
     "execution_count": 4,
     "metadata": {},
     "output_type": "execute_result"
    }
   ],
   "source": [
    "allColumns"
   ]
  },
  {
   "cell_type": "code",
   "execution_count": 5,
   "id": "a0f03dfd-cdc1-4822-8b4e-6cd873e44f6e",
   "metadata": {},
   "outputs": [
    {
     "name": "stdout",
     "output_type": "stream",
     "text": [
      "deeplearning Grid Build progress: |███████████████████████████████████████| 100%\n"
     ]
    }
   ],
   "source": [
    "grid = h2o.grid.H2OGridSearch(H2ODeepLearningEstimator(epochs=40, hidden = [400, 400], activation = \"RectifierWithDropout\"),\n",
    "                                search_criteria={\"strategy\":\"RandomDiscrete\", \"max_models\":12},\n",
    "                                hyper_params={\"seed\":77, \"l1\":[0, 1e-6, 3e-6, 1e-5], \"l2\":[0, 1e-6, 3e-6, 1e-5],\n",
    "                                             \"input_dropout_ratio\":[0, 0.1, 0.2, 0.3], #drops random n percent of input neurons\n",
    "                                             \"hidden_dropout_ratios\":[[0,0], [0.2, 0.2], [0.4, 0.4], [0.6, 0.6]] #drops random n percent of hidden neurons\n",
    "                                             },\n",
    "                                grid_id=\"deeplearning-grid\",\n",
    "               )\n",
    "\n",
    "grid.train(x = allColumns, y =targetColumn, training_frame = train, validation_frame = valid)\n"
   ]
  },
  {
   "cell_type": "code",
   "execution_count": 32,
   "id": "8a55011c-d54b-45b0-a33e-a46f72234e3a",
   "metadata": {},
   "outputs": [
    {
     "data": {
      "text/plain": [
       "{'deeplearning-grid_model_10': 0.27193525192836193,\n",
       " 'deeplearning-grid_model_5': 0.31450255234047314,\n",
       " 'deeplearning-grid_model_1': 0.4163576959016033,\n",
       " 'deeplearning-grid_model_11': 0.4338300698471096,\n",
       " 'deeplearning-grid_model_8': 0.463399256900399,\n",
       " 'deeplearning-grid_model_3': 0.5114783362709405,\n",
       " 'deeplearning-grid_model_9': 0.49603050130521037,\n",
       " 'deeplearning-grid_model_6': 0.5388717188886684,\n",
       " 'deeplearning-grid_model_2': 0.5360269731411931,\n",
       " 'deeplearning-grid_model_7': 0.531030483727865,\n",
       " 'deeplearning-grid_model_4': 0.5436650272373399,\n",
       " 'deeplearning-grid_model_12': 0.5658208897902859}"
      ]
     },
     "execution_count": 32,
     "metadata": {},
     "output_type": "execute_result"
    }
   ],
   "source": [
    "grid.logloss()"
   ]
  },
  {
   "cell_type": "code",
   "execution_count": 35,
   "id": "7d551857-4980-48bc-b830-cdbcd08179e2",
   "metadata": {},
   "outputs": [
    {
     "name": "stdout",
     "output_type": "stream",
     "text": [
      "\n",
      "Status of Neuron Layers: predicting IsArrDelayed, 2-class classification, bernoulli distribution, CrossEntropy loss, 281,202 weights/biases, 3.2 MB, 1,423,403 training samples, mini-batch size 1\n"
     ]
    },
    {
     "data": {
      "text/html": [
       "<div>\n",
       "<style scoped>\n",
       "    .dataframe tbody tr th:only-of-type {\n",
       "        vertical-align: middle;\n",
       "    }\n",
       "\n",
       "    .dataframe tbody tr th {\n",
       "        vertical-align: top;\n",
       "    }\n",
       "\n",
       "    .dataframe thead th {\n",
       "        text-align: right;\n",
       "    }\n",
       "</style>\n",
       "<table border=\"1\" class=\"dataframe\">\n",
       "  <thead>\n",
       "    <tr style=\"text-align: right;\">\n",
       "      <th></th>\n",
       "      <th></th>\n",
       "      <th>layer</th>\n",
       "      <th>units</th>\n",
       "      <th>type</th>\n",
       "      <th>dropout</th>\n",
       "      <th>l1</th>\n",
       "      <th>l2</th>\n",
       "      <th>mean_rate</th>\n",
       "      <th>rate_rms</th>\n",
       "      <th>momentum</th>\n",
       "      <th>mean_weight</th>\n",
       "      <th>weight_rms</th>\n",
       "      <th>mean_bias</th>\n",
       "      <th>bias_rms</th>\n",
       "    </tr>\n",
       "  </thead>\n",
       "  <tbody>\n",
       "    <tr>\n",
       "      <th>0</th>\n",
       "      <td></td>\n",
       "      <td>1</td>\n",
       "      <td>299</td>\n",
       "      <td>Input</td>\n",
       "      <td>0.0</td>\n",
       "      <td></td>\n",
       "      <td></td>\n",
       "      <td></td>\n",
       "      <td></td>\n",
       "      <td></td>\n",
       "      <td></td>\n",
       "      <td></td>\n",
       "      <td></td>\n",
       "      <td></td>\n",
       "    </tr>\n",
       "    <tr>\n",
       "      <th>1</th>\n",
       "      <td></td>\n",
       "      <td>2</td>\n",
       "      <td>400</td>\n",
       "      <td>RectifierDropout</td>\n",
       "      <td>20.0</td>\n",
       "      <td>0.0</td>\n",
       "      <td>0.00001</td>\n",
       "      <td>0.038699</td>\n",
       "      <td>0.153276</td>\n",
       "      <td>0.0</td>\n",
       "      <td>-0.004861</td>\n",
       "      <td>0.092402</td>\n",
       "      <td>-0.106496</td>\n",
       "      <td>0.172769</td>\n",
       "    </tr>\n",
       "    <tr>\n",
       "      <th>2</th>\n",
       "      <td></td>\n",
       "      <td>3</td>\n",
       "      <td>400</td>\n",
       "      <td>RectifierDropout</td>\n",
       "      <td>20.0</td>\n",
       "      <td>0.0</td>\n",
       "      <td>0.00001</td>\n",
       "      <td>0.153406</td>\n",
       "      <td>0.205709</td>\n",
       "      <td>0.0</td>\n",
       "      <td>-0.04407</td>\n",
       "      <td>0.100449</td>\n",
       "      <td>0.249425</td>\n",
       "      <td>0.277373</td>\n",
       "    </tr>\n",
       "    <tr>\n",
       "      <th>3</th>\n",
       "      <td></td>\n",
       "      <td>4</td>\n",
       "      <td>2</td>\n",
       "      <td>Softmax</td>\n",
       "      <td></td>\n",
       "      <td>0.0</td>\n",
       "      <td>0.00001</td>\n",
       "      <td>0.013695</td>\n",
       "      <td>0.023256</td>\n",
       "      <td>0.0</td>\n",
       "      <td>-0.005293</td>\n",
       "      <td>0.248658</td>\n",
       "      <td>-0.021618</td>\n",
       "      <td>0.207327</td>\n",
       "    </tr>\n",
       "  </tbody>\n",
       "</table>\n",
       "</div>"
      ],
      "text/plain": [
       "     layer  units              type dropout   l1       l2 mean_rate  rate_rms  \\\n",
       "0        1    299             Input     0.0                                     \n",
       "1        2    400  RectifierDropout    20.0  0.0  0.00001  0.038699  0.153276   \n",
       "2        3    400  RectifierDropout    20.0  0.0  0.00001  0.153406  0.205709   \n",
       "3        4      2           Softmax          0.0  0.00001  0.013695  0.023256   \n",
       "\n",
       "  momentum mean_weight weight_rms mean_bias  bias_rms  \n",
       "0                                                      \n",
       "1      0.0   -0.004861   0.092402 -0.106496  0.172769  \n",
       "2      0.0    -0.04407   0.100449  0.249425  0.277373  \n",
       "3      0.0   -0.005293   0.248658 -0.021618  0.207327  "
      ]
     },
     "metadata": {},
     "output_type": "display_data"
    },
    {
     "data": {
      "text/plain": []
     },
     "execution_count": 35,
     "metadata": {},
     "output_type": "execute_result"
    }
   ],
   "source": [
    "grid[0].summary()"
   ]
  },
  {
   "cell_type": "code",
   "execution_count": 39,
   "id": "fc651e3e-e9a7-4815-a89d-1e611695c8f6",
   "metadata": {
    "tags": []
   },
   "outputs": [
    {
     "data": {
      "text/plain": [
       "'/home/gerd/Desktop/git/h2o-coursera/week4/deeplearning-grid_model_10'"
      ]
     },
     "execution_count": 39,
     "metadata": {},
     "output_type": "execute_result"
    }
   ],
   "source": [
    "#saving a model to local disk\n",
    "best_model = h2o.get_model(grid.model_ids[0])\n",
    "h2o.save_model(best_model, './')"
   ]
  },
  {
   "cell_type": "code",
   "execution_count": 41,
   "id": "f04ac4bf-4ca9-4fd7-a40d-07b5077d964a",
   "metadata": {},
   "outputs": [
    {
     "name": "stdout",
     "output_type": "stream",
     "text": [
      "H2O session _sid_bcef closed.\n"
     ]
    }
   ],
   "source": [
    "h2o.cluster().shutdown()"
   ]
  },
  {
   "cell_type": "code",
   "execution_count": null,
   "id": "f6ab5026-6e08-4e33-a8e1-22d30d6a8209",
   "metadata": {},
   "outputs": [],
   "source": []
  }
 ],
 "metadata": {
  "kernelspec": {
   "display_name": "Python 3",
   "language": "python",
   "name": "python3"
  },
  "language_info": {
   "codemirror_mode": {
    "name": "ipython",
    "version": 3
   },
   "file_extension": ".py",
   "mimetype": "text/x-python",
   "name": "python",
   "nbconvert_exporter": "python",
   "pygments_lexer": "ipython3",
   "version": "3.8.5"
  }
 },
 "nbformat": 4,
 "nbformat_minor": 5
}
