{
 "cells": [
  {
   "cell_type": "markdown",
   "id": "4e297b31",
   "metadata": {},
   "source": [
    "Initialize h2o and import the dataset"
   ]
  },
  {
   "cell_type": "code",
   "execution_count": 1,
   "id": "3b8ca0f4",
   "metadata": {},
   "outputs": [
    {
     "name": "stdout",
     "output_type": "stream",
     "text": [
      "Checking whether there is an H2O instance running at http://localhost:54321 ..... not found.\n",
      "Attempting to start a local H2O server...\n",
      "  Java Version: openjdk version \"11.0.11\" 2021-04-20; OpenJDK Runtime Environment (build 11.0.11+9-Ubuntu-0ubuntu2.20.04); OpenJDK 64-Bit Server VM (build 11.0.11+9-Ubuntu-0ubuntu2.20.04, mixed mode, sharing)\n",
      "  Starting server from /home/gerd/Documents/Python/venvs/h2o/lib/python3.8/site-packages/h2o/backend/bin/h2o.jar\n",
      "  Ice root: /tmp/tmp8p1laamm\n",
      "  JVM stdout: /tmp/tmp8p1laamm/h2o_gerd_started_from_python.out\n",
      "  JVM stderr: /tmp/tmp8p1laamm/h2o_gerd_started_from_python.err\n",
      "  Server is running at http://127.0.0.1:54321\n",
      "Connecting to H2O server at http://127.0.0.1:54321 ... successful.\n"
     ]
    },
    {
     "data": {
      "text/html": [
       "<div style=\"overflow:auto\"><table style=\"width:50%\"><tr><td>H2O_cluster_uptime:</td>\n",
       "<td>01 secs</td></tr>\n",
       "<tr><td>H2O_cluster_timezone:</td>\n",
       "<td>Europe/Vienna</td></tr>\n",
       "<tr><td>H2O_data_parsing_timezone:</td>\n",
       "<td>UTC</td></tr>\n",
       "<tr><td>H2O_cluster_version:</td>\n",
       "<td>3.32.1.2</td></tr>\n",
       "<tr><td>H2O_cluster_version_age:</td>\n",
       "<td>1 month and 28 days </td></tr>\n",
       "<tr><td>H2O_cluster_name:</td>\n",
       "<td>H2O_from_python_gerd_452ere</td></tr>\n",
       "<tr><td>H2O_cluster_total_nodes:</td>\n",
       "<td>1</td></tr>\n",
       "<tr><td>H2O_cluster_free_memory:</td>\n",
       "<td>2.867 Gb</td></tr>\n",
       "<tr><td>H2O_cluster_total_cores:</td>\n",
       "<td>8</td></tr>\n",
       "<tr><td>H2O_cluster_allowed_cores:</td>\n",
       "<td>8</td></tr>\n",
       "<tr><td>H2O_cluster_status:</td>\n",
       "<td>accepting new members, healthy</td></tr>\n",
       "<tr><td>H2O_connection_url:</td>\n",
       "<td>http://127.0.0.1:54321</td></tr>\n",
       "<tr><td>H2O_connection_proxy:</td>\n",
       "<td>{\"http\": null, \"https\": null}</td></tr>\n",
       "<tr><td>H2O_internal_security:</td>\n",
       "<td>False</td></tr>\n",
       "<tr><td>H2O_API_Extensions:</td>\n",
       "<td>Amazon S3, XGBoost, Algos, AutoML, Core V3, TargetEncoder, Core V4</td></tr>\n",
       "<tr><td>Python_version:</td>\n",
       "<td>3.8.5 final</td></tr></table></div>"
      ],
      "text/plain": [
       "--------------------------  ------------------------------------------------------------------\n",
       "H2O_cluster_uptime:         01 secs\n",
       "H2O_cluster_timezone:       Europe/Vienna\n",
       "H2O_data_parsing_timezone:  UTC\n",
       "H2O_cluster_version:        3.32.1.2\n",
       "H2O_cluster_version_age:    1 month and 28 days\n",
       "H2O_cluster_name:           H2O_from_python_gerd_452ere\n",
       "H2O_cluster_total_nodes:    1\n",
       "H2O_cluster_free_memory:    2.867 Gb\n",
       "H2O_cluster_total_cores:    8\n",
       "H2O_cluster_allowed_cores:  8\n",
       "H2O_cluster_status:         accepting new members, healthy\n",
       "H2O_connection_url:         http://127.0.0.1:54321\n",
       "H2O_connection_proxy:       {\"http\": null, \"https\": null}\n",
       "H2O_internal_security:      False\n",
       "H2O_API_Extensions:         Amazon S3, XGBoost, Algos, AutoML, Core V3, TargetEncoder, Core V4\n",
       "Python_version:             3.8.5 final\n",
       "--------------------------  ------------------------------------------------------------------"
      ]
     },
     "metadata": {},
     "output_type": "display_data"
    }
   ],
   "source": [
    "import h2o\n",
    "h2o.init()\n",
    "import matplotlib.pyplot as plt\n",
    "%matplotlib inline"
   ]
  },
  {
   "cell_type": "code",
   "execution_count": 2,
   "id": "2c5a8bd5",
   "metadata": {},
   "outputs": [
    {
     "name": "stdout",
     "output_type": "stream",
     "text": [
      "Parse progress: |█████████████████████████████████████████████████████████| 100%\n"
     ]
    }
   ],
   "source": [
    "data= h2o.import_file(\"http://coursera.h2o.ai/cacao.882.csv\")"
   ]
  },
  {
   "cell_type": "code",
   "execution_count": 3,
   "id": "94378754",
   "metadata": {},
   "outputs": [],
   "source": [
    "#data.summary()\n",
    "#data.nlevels()"
   ]
  },
  {
   "cell_type": "code",
   "execution_count": 4,
   "id": "e3591893",
   "metadata": {},
   "outputs": [],
   "source": [
    "##split data into train, valid and test datasets \n",
    "train,valid,test = data.split_frame([.8,.1], seed=69)\n",
    "##validate the size of dataset (uncommnt to execute)\n",
    "#print( \"%d %d %d\" % (train.nrows,valid.nrows, test.nrows  ))"
   ]
  },
  {
   "cell_type": "code",
   "execution_count": null,
   "id": "e02ecbf9",
   "metadata": {},
   "outputs": [],
   "source": []
  },
  {
   "cell_type": "code",
   "execution_count": 5,
   "id": "71b2c445",
   "metadata": {},
   "outputs": [],
   "source": [
    "## set the features and response column names, the column Origin\n",
    "## was removed because of its high cardinality and its redundancy (bean origin),\n",
    "## the reduced model resulted in a lower error and deviance\n",
    "## \n",
    "y =  'Rating'\n",
    "\n",
    "xAll = [i for i in train.names if i not in y]\n",
    "xAll2 =[i for i in train.names if i not in ['Rating', 'Origin']]\n"
   ]
  },
  {
   "cell_type": "code",
   "execution_count": 6,
   "id": "2cf8c710",
   "metadata": {
    "scrolled": true
   },
   "outputs": [
    {
     "name": "stdout",
     "output_type": "stream",
     "text": [
      "deeplearning Model Build progress: |██████████████████████████████████████| 100%\n",
      "CPU times: user 152 ms, sys: 18.1 ms, total: 171 ms\n",
      "Wall time: 5.61 s\n"
     ]
    }
   ],
   "source": [
    "## build a deep learning model with default parameters with full reduced feature list(a regression model to predict \"Rating\")\n",
    "## run_time 12s\n",
    "\n",
    "from h2o.estimators.deeplearning import H2ODeepLearningEstimator\n",
    "m_def = H2ODeepLearningEstimator(model_id = \"untuned_model\", seed = 69)\n",
    "%time m_def.train(xAll, y, train, validation_frame = valid)"
   ]
  },
  {
   "cell_type": "code",
   "execution_count": 7,
   "id": "a83da779",
   "metadata": {},
   "outputs": [
    {
     "name": "stdout",
     "output_type": "stream",
     "text": [
      "\n",
      "ModelMetricsRegression: deeplearning\n",
      "** Reported on test data. **\n",
      "\n",
      "MSE: 0.19681962167075714\n",
      "RMSE: 0.4436435750360385\n",
      "MAE: 0.3603727703925595\n",
      "RMSLE: 0.11013162418652048\n",
      "Mean Residual Deviance: 0.19681962167075714\n"
     ]
    },
    {
     "data": {
      "text/plain": []
     },
     "execution_count": 7,
     "metadata": {},
     "output_type": "execute_result"
    }
   ],
   "source": [
    "m_def.model_performance(test)"
   ]
  },
  {
   "cell_type": "code",
   "execution_count": 8,
   "id": "94eda9cb",
   "metadata": {
    "scrolled": true
   },
   "outputs": [
    {
     "data": {
      "image/png": "[encoded data removed]",
      "text/plain": [
       "<Figure size 432x288 with 1 Axes>"
      ]
     },
     "metadata": {
      "needs_background": "light"
     },
     "output_type": "display_data"
    }
   ],
   "source": [
    "m_def.plot()"
   ]
  },
  {
   "cell_type": "code",
   "execution_count": 9,
   "id": "28fae5fd",
   "metadata": {},
   "outputs": [
    {
     "name": "stdout",
     "output_type": "stream",
     "text": [
      "deeplearning Model Build progress: |██████████████████████████████████████| 100%\n",
      "CPU times: user 322 ms, sys: 4.36 ms, total: 327 ms\n",
      "Wall time: 19 s\n"
     ]
    }
   ],
   "source": [
    "## tuned model initalization and training\n",
    "## for the tuned model the origin feature was deopped because of high cardinality and its redundancy (bean origin)\n",
    "## run_time 35s\n",
    "m_def_tuned =H2ODeepLearningEstimator(epochs =25,\n",
    "                                   stopping_rounds =5,\n",
    "                                   stopping_tolerance = 0,\n",
    "                                   stopping_metric = \"AUTO\",\n",
    "                                    l1 = 1e-6,\n",
    "                                    l2 = 1e-6,\n",
    "                                    hidden = [400,400],\n",
    "                                    hidden_dropout_ratios = [0.1,0.1],\n",
    "                                    activation =\"RectifierWithDropout\",\n",
    "                                    model_id = \"tuned_model\", seed = 69)\n",
    "%time m_def_tuned.train(xAll2, y, train, validation_frame = valid)"
   ]
  },
  {
   "cell_type": "code",
   "execution_count": 10,
   "id": "9b32e5bd",
   "metadata": {},
   "outputs": [
    {
     "name": "stdout",
     "output_type": "stream",
     "text": [
      "\n",
      "ModelMetricsRegression: deeplearning\n",
      "** Reported on test data. **\n",
      "\n",
      "MSE: 0.20071413708411115\n",
      "RMSE: 0.4480113135670919\n",
      "MAE: 0.3597250752109869\n",
      "RMSLE: 0.11177230882043533\n",
      "Mean Residual Deviance: 0.20071413708411115\n"
     ]
    },
    {
     "data": {
      "text/plain": []
     },
     "execution_count": 10,
     "metadata": {},
     "output_type": "execute_result"
    }
   ],
   "source": [
    "m_def_tuned.model_performance(test)"
   ]
  },
  {
   "cell_type": "code",
   "execution_count": 11,
   "id": "21bc4441",
   "metadata": {},
   "outputs": [
    {
     "data": {
      "image/png": "[encoded data removed]",
      "text/plain": [
       "<Figure size 432x288 with 1 Axes>"
      ]
     },
     "metadata": {
      "needs_background": "light"
     },
     "output_type": "display_data"
    }
   ],
   "source": [
    "m_def_tuned.plot()"
   ]
  },
  {
   "cell_type": "code",
   "execution_count": null,
   "id": "f942d9e0",
   "metadata": {},
   "outputs": [],
   "source": [
    "##save models\n",
    "h2o.save_model(m_def, \"c:\\h2o_models\")\n",
    "h2o.save_model(m_def_tuned, \"c:\\h2o_models\")"
   ]
  },
  {
   "cell_type": "code",
   "execution_count": 12,
   "id": "e51c5418",
   "metadata": {},
   "outputs": [
    {
     "name": "stdout",
     "output_type": "stream",
     "text": [
      "H2O session _sid_9f70 closed.\n"
     ]
    }
   ],
   "source": [
    "h2o.cluster().shutdown()"
   ]
  },
  {
   "cell_type": "code",
   "execution_count": null,
   "id": "8aa00b75-47a5-405b-8e93-322a11d875be",
   "metadata": {},
   "outputs": [],
   "source": []
  }
 ],
 "metadata": {
  "kernelspec": {
   "display_name": "Python 3",
   "language": "python",
   "name": "python3"
  },
  "language_info": {
   "codemirror_mode": {
    "name": "ipython",
    "version": 3
   },
   "file_extension": ".py",
   "mimetype": "text/x-python",
   "name": "python",
   "nbconvert_exporter": "python",
   "pygments_lexer": "ipython3",
   "version": "3.8.5"
  }
 },
 "nbformat": 4,
 "nbformat_minor": 5
}
